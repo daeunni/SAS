{
 "cells": [
  {
   "cell_type": "markdown",
   "metadata": {},
   "source": [
    "# 통계계산소프트웨어 기말고사(R)\n",
    "______\n",
    "## 1. R 프로그래밍 입문\n",
    "- rm(a) : 변수 삭제\n",
    "- ls() : 현재 활성화된 변수 목록\n",
    "- sum(x), mean(x), median(x), var(x) : 기초통계함수   "
   ]
  },
  {
   "cell_type": "code",
   "execution_count": 1,
   "metadata": {},
   "outputs": [
    {
     "data": {
      "text/html": [
       "<ol class=list-inline>\n",
       "\t<li>'a'</li>\n",
       "\t<li>'b'</li>\n",
       "</ol>\n"
      ],
      "text/latex": [
       "\\begin{enumerate*}\n",
       "\\item 'a'\n",
       "\\item 'b'\n",
       "\\end{enumerate*}\n"
      ],
      "text/markdown": [
       "1. 'a'\n",
       "2. 'b'\n",
       "\n",
       "\n"
      ],
      "text/plain": [
       "[1] \"a\" \"b\""
      ]
     },
     "metadata": {},
     "output_type": "display_data"
    }
   ],
   "source": [
    "a = 1;b=2\n",
    "ls()"
   ]
  },
  {
   "cell_type": "code",
   "execution_count": 3,
   "metadata": {},
   "outputs": [
    {
     "data": {
      "text/html": [],
      "text/latex": [],
      "text/markdown": [],
      "text/plain": [
       "character(0)"
      ]
     },
     "metadata": {},
     "output_type": "display_data"
    }
   ],
   "source": [
    "rm(list=ls())\n",
    "ls() # character(0) 출력 "
   ]
  },
  {
   "cell_type": "markdown",
   "metadata": {},
   "source": [
    "-----\n",
    "\n",
    "### 1) 벡터\n",
    "- **mode(벡터)** : 해당 벡터 요소의 형태 출력, **자료의 형태**\n",
    "\n",
    "- 벡터 선택 : [ a ] (a번째 값 출력. a에 벡터 들어갈 수도 있음)"
   ]
  },
  {
   "cell_type": "code",
   "execution_count": 100,
   "metadata": {},
   "outputs": [
    {
     "data": {
      "text/html": [
       "<ol class=list-inline>\n",
       "\t<li>1</li>\n",
       "\t<li>2</li>\n",
       "\t<li>4</li>\n",
       "\t<li>0</li>\n",
       "\t<li>6</li>\n",
       "\t<li>7</li>\n",
       "\t<li>8</li>\n",
       "\t<li>9</li>\n",
       "</ol>\n"
      ],
      "text/latex": [
       "\\begin{enumerate*}\n",
       "\\item 1\n",
       "\\item 2\n",
       "\\item 4\n",
       "\\item 0\n",
       "\\item 6\n",
       "\\item 7\n",
       "\\item 8\n",
       "\\item 9\n",
       "\\end{enumerate*}\n"
      ],
      "text/markdown": [
       "1. 1\n",
       "2. 2\n",
       "3. 4\n",
       "4. 0\n",
       "5. 6\n",
       "6. 7\n",
       "7. 8\n",
       "8. 9\n",
       "\n",
       "\n"
      ],
      "text/plain": [
       "[1] 1 2 4 0 6 7 8 9"
      ]
     },
     "metadata": {},
     "output_type": "display_data"
    },
    {
     "data": {
      "text/html": [
       "<ol class=list-inline>\n",
       "\t<li>1</li>\n",
       "\t<li>3</li>\n",
       "\t<li>0</li>\n",
       "</ol>\n"
      ],
      "text/latex": [
       "\\begin{enumerate*}\n",
       "\\item 1\n",
       "\\item 3\n",
       "\\item 0\n",
       "\\end{enumerate*}\n"
      ],
      "text/markdown": [
       "1. 1\n",
       "2. 3\n",
       "3. 0\n",
       "\n",
       "\n"
      ],
      "text/plain": [
       "[1] 1 3 0"
      ]
     },
     "metadata": {},
     "output_type": "display_data"
    },
    {
     "data": {
      "text/html": [
       "'numeric'"
      ],
      "text/latex": [
       "'numeric'"
      ],
      "text/markdown": [
       "'numeric'"
      ],
      "text/plain": [
       "[1] \"numeric\""
      ]
     },
     "metadata": {},
     "output_type": "display_data"
    }
   ],
   "source": [
    "x = c(1,2,3,4,5,6,7,8,9)\n",
    "x[5] = 0 # 값 변환\n",
    "x[-3] # 5번째 값 빼고 출력\n",
    "\n",
    "x[c(1,3,5)] # 1, 3, 5번쨰\n",
    "\n",
    "mode(x) # 해당 벡터 형태 출력"
   ]
  },
  {
   "cell_type": "markdown",
   "metadata": {},
   "source": [
    "- which : 위치 반환(~번째)\n",
    "- order( ) : 작은수부터 오름차순"
   ]
  },
  {
   "cell_type": "code",
   "execution_count": 102,
   "metadata": {},
   "outputs": [
    {
     "data": {
      "text/html": [
       "<ol class=list-inline>\n",
       "\t<li>1</li>\n",
       "\t<li>2</li>\n",
       "\t<li>3</li>\n",
       "\t<li>4</li>\n",
       "\t<li>0</li>\n",
       "\t<li>6</li>\n",
       "\t<li>7</li>\n",
       "\t<li>8</li>\n",
       "\t<li>9</li>\n",
       "</ol>\n"
      ],
      "text/latex": [
       "\\begin{enumerate*}\n",
       "\\item 1\n",
       "\\item 2\n",
       "\\item 3\n",
       "\\item 4\n",
       "\\item 0\n",
       "\\item 6\n",
       "\\item 7\n",
       "\\item 8\n",
       "\\item 9\n",
       "\\end{enumerate*}\n"
      ],
      "text/markdown": [
       "1. 1\n",
       "2. 2\n",
       "3. 3\n",
       "4. 4\n",
       "5. 0\n",
       "6. 6\n",
       "7. 7\n",
       "8. 8\n",
       "9. 9\n",
       "\n",
       "\n"
      ],
      "text/plain": [
       "[1] 1 2 3 4 0 6 7 8 9"
      ]
     },
     "metadata": {},
     "output_type": "display_data"
    },
    {
     "data": {
      "text/html": [
       "<ol class=list-inline>\n",
       "\t<li>1</li>\n",
       "\t<li>2</li>\n",
       "\t<li>3</li>\n",
       "\t<li>4</li>\n",
       "\t<li>5</li>\n",
       "</ol>\n"
      ],
      "text/latex": [
       "\\begin{enumerate*}\n",
       "\\item 1\n",
       "\\item 2\n",
       "\\item 3\n",
       "\\item 4\n",
       "\\item 5\n",
       "\\end{enumerate*}\n"
      ],
      "text/markdown": [
       "1. 1\n",
       "2. 2\n",
       "3. 3\n",
       "4. 4\n",
       "5. 5\n",
       "\n",
       "\n"
      ],
      "text/plain": [
       "[1] 1 2 3 4 5"
      ]
     },
     "metadata": {},
     "output_type": "display_data"
    },
    {
     "data": {
      "text/html": [
       "5"
      ],
      "text/latex": [
       "5"
      ],
      "text/markdown": [
       "5"
      ],
      "text/plain": [
       "[1] 5"
      ]
     },
     "metadata": {},
     "output_type": "display_data"
    },
    {
     "data": {
      "text/html": [
       "<ol class=list-inline>\n",
       "\t<li>TRUE</li>\n",
       "\t<li>TRUE</li>\n",
       "\t<li>TRUE</li>\n",
       "\t<li>TRUE</li>\n",
       "\t<li>TRUE</li>\n",
       "\t<li>FALSE</li>\n",
       "\t<li>FALSE</li>\n",
       "\t<li>FALSE</li>\n",
       "\t<li>FALSE</li>\n",
       "</ol>\n"
      ],
      "text/latex": [
       "\\begin{enumerate*}\n",
       "\\item TRUE\n",
       "\\item TRUE\n",
       "\\item TRUE\n",
       "\\item TRUE\n",
       "\\item TRUE\n",
       "\\item FALSE\n",
       "\\item FALSE\n",
       "\\item FALSE\n",
       "\\item FALSE\n",
       "\\end{enumerate*}\n"
      ],
      "text/markdown": [
       "1. TRUE\n",
       "2. TRUE\n",
       "3. TRUE\n",
       "4. TRUE\n",
       "5. TRUE\n",
       "6. FALSE\n",
       "7. FALSE\n",
       "8. FALSE\n",
       "9. FALSE\n",
       "\n",
       "\n"
      ],
      "text/plain": [
       "[1]  TRUE  TRUE  TRUE  TRUE  TRUE FALSE FALSE FALSE FALSE"
      ]
     },
     "metadata": {},
     "output_type": "display_data"
    },
    {
     "data": {
      "text/html": [
       "5"
      ],
      "text/latex": [
       "5"
      ],
      "text/markdown": [
       "5"
      ],
      "text/plain": [
       "[1] 5"
      ]
     },
     "metadata": {},
     "output_type": "display_data"
    }
   ],
   "source": [
    "x\n",
    "which(x<=5) # 5보다 작은 위치\n",
    "which.min(x) # 최솟값 위치\n",
    "\n",
    "x<=5   # 벡터 요소별 T/F 파악\n",
    "sum(x<=5) # True인 값의 개수"
   ]
  },
  {
   "cell_type": "code",
   "execution_count": 104,
   "metadata": {},
   "outputs": [
    {
     "data": {
      "text/html": [
       "<ol class=list-inline>\n",
       "\t<li>1</li>\n",
       "\t<li>2</li>\n",
       "\t<li>3</li>\n",
       "\t<li>4</li>\n",
       "\t<li>5</li>\n",
       "\t<li>6</li>\n",
       "\t<li>7</li>\n",
       "\t<li>8</li>\n",
       "\t<li>9</li>\n",
       "</ol>\n"
      ],
      "text/latex": [
       "\\begin{enumerate*}\n",
       "\\item 1\n",
       "\\item 2\n",
       "\\item 3\n",
       "\\item 4\n",
       "\\item 5\n",
       "\\item 6\n",
       "\\item 7\n",
       "\\item 8\n",
       "\\item 9\n",
       "\\end{enumerate*}\n"
      ],
      "text/markdown": [
       "1. 1\n",
       "2. 2\n",
       "3. 3\n",
       "4. 4\n",
       "5. 5\n",
       "6. 6\n",
       "7. 7\n",
       "8. 8\n",
       "9. 9\n",
       "\n",
       "\n"
      ],
      "text/plain": [
       "[1] 1 2 3 4 5 6 7 8 9"
      ]
     },
     "metadata": {},
     "output_type": "display_data"
    }
   ],
   "source": [
    "x = c(1,2,3,4,5,6,7,8,9)\n",
    "order(x) # 작은수부터 오름차순"
   ]
  },
  {
   "cell_type": "markdown",
   "metadata": {},
   "source": [
    "< 수리연산 > \n",
    "- x %*% y : 행렬곱(벡터의 곱셈)\n",
    "- ^, ** : 제곱\n",
    "- %% : 나머지\n",
    "- %/% : 몫"
   ]
  },
  {
   "cell_type": "code",
   "execution_count": 16,
   "metadata": {},
   "outputs": [
    {
     "data": {
      "text/html": [
       "<table>\n",
       "<tbody>\n",
       "\t<tr><td>49</td></tr>\n",
       "</tbody>\n",
       "</table>\n"
      ],
      "text/latex": [
       "\\begin{tabular}{l}\n",
       "\t 49\\\\\n",
       "\\end{tabular}\n"
      ],
      "text/markdown": [
       "\n",
       "| 49 |\n",
       "\n"
      ],
      "text/plain": [
       "     [,1]\n",
       "[1,] 49  "
      ]
     },
     "metadata": {},
     "output_type": "display_data"
    },
    {
     "data": {
      "text/html": [
       "<ol class=list-inline>\n",
       "\t<li>1</li>\n",
       "\t<li>3</li>\n",
       "\t<li>5</li>\n",
       "\t<li>4</li>\n",
       "\t<li>5</li>\n",
       "\t<li>6</li>\n",
       "</ol>\n"
      ],
      "text/latex": [
       "\\begin{enumerate*}\n",
       "\\item 1\n",
       "\\item 3\n",
       "\\item 5\n",
       "\\item 4\n",
       "\\item 5\n",
       "\\item 6\n",
       "\\end{enumerate*}\n"
      ],
      "text/markdown": [
       "1. 1\n",
       "2. 3\n",
       "3. 5\n",
       "4. 4\n",
       "5. 5\n",
       "6. 6\n",
       "\n",
       "\n"
      ],
      "text/plain": [
       "[1] 1 3 5 4 5 6"
      ]
     },
     "metadata": {},
     "output_type": "display_data"
    }
   ],
   "source": [
    "x = c(1,3,5)\n",
    "y = 4:6\n",
    "\n",
    "x%*%y\n",
    "c(x, y)"
   ]
  },
  {
   "cell_type": "markdown",
   "metadata": {},
   "source": [
    "< 벡터 결합 >\n",
    "- c(x, y) : 벡터를 또다른 벡터로 단순 이어붙이기(rbind와 다름)\n",
    "\n",
    "- cbind : 벡터 세로결합\n",
    "- rbind : 벡터 가로결합"
   ]
  },
  {
   "cell_type": "code",
   "execution_count": 18,
   "metadata": {},
   "outputs": [
    {
     "data": {
      "text/html": [
       "<table>\n",
       "<thead><tr><th scope=col>x</th><th scope=col>y</th></tr></thead>\n",
       "<tbody>\n",
       "\t<tr><td>1</td><td>4</td></tr>\n",
       "\t<tr><td>3</td><td>5</td></tr>\n",
       "\t<tr><td>5</td><td>6</td></tr>\n",
       "</tbody>\n",
       "</table>\n"
      ],
      "text/latex": [
       "\\begin{tabular}{ll}\n",
       " x & y\\\\\n",
       "\\hline\n",
       "\t 1 & 4\\\\\n",
       "\t 3 & 5\\\\\n",
       "\t 5 & 6\\\\\n",
       "\\end{tabular}\n"
      ],
      "text/markdown": [
       "\n",
       "| x | y |\n",
       "|---|---|\n",
       "| 1 | 4 |\n",
       "| 3 | 5 |\n",
       "| 5 | 6 |\n",
       "\n"
      ],
      "text/plain": [
       "     x y\n",
       "[1,] 1 4\n",
       "[2,] 3 5\n",
       "[3,] 5 6"
      ]
     },
     "metadata": {},
     "output_type": "display_data"
    },
    {
     "data": {
      "text/html": [
       "<table>\n",
       "<tbody>\n",
       "\t<tr><th scope=row>x</th><td>1</td><td>3</td><td>5</td></tr>\n",
       "\t<tr><th scope=row>y</th><td>4</td><td>5</td><td>6</td></tr>\n",
       "</tbody>\n",
       "</table>\n"
      ],
      "text/latex": [
       "\\begin{tabular}{r|lll}\n",
       "\tx & 1 & 3 & 5\\\\\n",
       "\ty & 4 & 5 & 6\\\\\n",
       "\\end{tabular}\n"
      ],
      "text/markdown": [
       "\n",
       "| x | 1 | 3 | 5 |\n",
       "| y | 4 | 5 | 6 |\n",
       "\n"
      ],
      "text/plain": [
       "  [,1] [,2] [,3]\n",
       "x 1    3    5   \n",
       "y 4    5    6   "
      ]
     },
     "metadata": {},
     "output_type": "display_data"
    }
   ],
   "source": [
    "cbind(x, y)\n",
    "rbind(x, y)"
   ]
  },
  {
   "cell_type": "code",
   "execution_count": 20,
   "metadata": {},
   "outputs": [
    {
     "data": {
      "text/html": [
       "<strong>x:</strong> 3"
      ],
      "text/latex": [
       "\\textbf{x:} 3"
      ],
      "text/markdown": [
       "**x:** 3"
      ],
      "text/plain": [
       "x \n",
       "3 "
      ]
     },
     "metadata": {},
     "output_type": "display_data"
    }
   ],
   "source": [
    "w = cbind(x, y)\n",
    "w[2,1]"
   ]
  },
  {
   "cell_type": "markdown",
   "metadata": {},
   "source": [
    "< 논리 연산 > : **T/F 반환**\n",
    "- <=, >=, ==, !=, !X (X가 아니다)\n",
    "- is TRUE(x) : x가 TRUE인지 test\n",
    "- x&y : and\n",
    "- x|y : or\n",
    "> < 벡터화 되지 않은 논리연산자 >\n",
    "> - && : 일반적인 and 논리연산자(벡터에서는 첫번째만 작동)\n",
    "> - || : 일반적인 or 논리연산자(벡터에서는 첫번째만 작동)"
   ]
  },
  {
   "cell_type": "code",
   "execution_count": 22,
   "metadata": {},
   "outputs": [
    {
     "data": {
      "text/html": [
       "TRUE"
      ],
      "text/latex": [
       "TRUE"
      ],
      "text/markdown": [
       "TRUE"
      ],
      "text/plain": [
       "[1] TRUE"
      ]
     },
     "metadata": {},
     "output_type": "display_data"
    },
    {
     "data": {
      "text/html": [
       "TRUE"
      ],
      "text/latex": [
       "TRUE"
      ],
      "text/markdown": [
       "TRUE"
      ],
      "text/plain": [
       "[1] TRUE"
      ]
     },
     "metadata": {},
     "output_type": "display_data"
    }
   ],
   "source": [
    "x = 0:2\n",
    "y = 2:0\n",
    "(x<1) && (y>1) # 첫번째만 작동함\n",
    "(x<1) || (y>1)"
   ]
  },
  {
   "cell_type": "markdown",
   "metadata": {},
   "source": [
    "-----\n",
    "### 2) 자료의 입력\n",
    "1. 키보드를 통한\n",
    "    - c( ) \n",
    "    - scan( )\n",
    "    - edit( )    \n",
    "\n",
    "\n",
    "\n",
    "\n",
    "2. 외부파일\n",
    "    - read.table()\n",
    "    - read.csv()\n",
    "    - scan()\n",
    "    - read.xlsx() : xlsx 패키지"
   ]
  },
  {
   "cell_type": "code",
   "execution_count": 23,
   "metadata": {},
   "outputs": [],
   "source": [
    "# 온라인 데이터 열기\n",
    "\n",
    "# 방법 1 : url, col.names 파라미터\n",
    "bmi = read.table(url('http://jupiter.hallym.ac.kr/ftpdata//data/bmi.txt'), \n",
    "                 col.names = c('height', 'weight', 'year', 'religion', 'gender', 'marriage'))"
   ]
  },
  {
   "cell_type": "code",
   "execution_count": 25,
   "metadata": {},
   "outputs": [
    {
     "data": {
      "text/html": [
       "<table>\n",
       "<thead><tr><th scope=col>height</th><th scope=col>weight</th><th scope=col>year</th><th scope=col>religion</th><th scope=col>gender</th><th scope=col>marriage</th></tr></thead>\n",
       "<tbody>\n",
       "\t<tr><td>167 </td><td>68  </td><td>1974</td><td>No  </td><td>F   </td><td>N   </td></tr>\n",
       "\t<tr><td>162 </td><td>49  </td><td>1974</td><td>C2  </td><td>F   </td><td>N   </td></tr>\n",
       "\t<tr><td>158 </td><td>50  </td><td>1978</td><td>C2  </td><td>F   </td><td>N   </td></tr>\n",
       "\t<tr><td>165 </td><td>56  </td><td>1977</td><td>No  </td><td>F   </td><td>N   </td></tr>\n",
       "\t<tr><td>160 </td><td>52  </td><td>1959</td><td>No  </td><td>F   </td><td>N   </td></tr>\n",
       "\t<tr><td>162 </td><td>52  </td><td>1972</td><td>No  </td><td>F   </td><td>Y   </td></tr>\n",
       "</tbody>\n",
       "</table>\n"
      ],
      "text/latex": [
       "\\begin{tabular}{r|llllll}\n",
       " height & weight & year & religion & gender & marriage\\\\\n",
       "\\hline\n",
       "\t 167  & 68   & 1974 & No   & F    & N   \\\\\n",
       "\t 162  & 49   & 1974 & C2   & F    & N   \\\\\n",
       "\t 158  & 50   & 1978 & C2   & F    & N   \\\\\n",
       "\t 165  & 56   & 1977 & No   & F    & N   \\\\\n",
       "\t 160  & 52   & 1959 & No   & F    & N   \\\\\n",
       "\t 162  & 52   & 1972 & No   & F    & Y   \\\\\n",
       "\\end{tabular}\n"
      ],
      "text/markdown": [
       "\n",
       "| height | weight | year | religion | gender | marriage |\n",
       "|---|---|---|---|---|---|\n",
       "| 167  | 68   | 1974 | No   | F    | N    |\n",
       "| 162  | 49   | 1974 | C2   | F    | N    |\n",
       "| 158  | 50   | 1978 | C2   | F    | N    |\n",
       "| 165  | 56   | 1977 | No   | F    | N    |\n",
       "| 160  | 52   | 1959 | No   | F    | N    |\n",
       "| 162  | 52   | 1972 | No   | F    | Y    |\n",
       "\n"
      ],
      "text/plain": [
       "  height weight year religion gender marriage\n",
       "1 167    68     1974 No       F      N       \n",
       "2 162    49     1974 C2       F      N       \n",
       "3 158    50     1978 C2       F      N       \n",
       "4 165    56     1977 No       F      N       \n",
       "5 160    52     1959 No       F      N       \n",
       "6 162    52     1972 No       F      Y       "
      ]
     },
     "metadata": {},
     "output_type": "display_data"
    }
   ],
   "source": [
    "head(bmi)"
   ]
  },
  {
   "cell_type": "code",
   "execution_count": 30,
   "metadata": {},
   "outputs": [
    {
     "data": {
      "text/html": [
       "<table>\n",
       "<thead><tr><th scope=col>V1</th><th scope=col>V2</th><th scope=col>V3</th><th scope=col>V4</th><th scope=col>V5</th><th scope=col>V6</th></tr></thead>\n",
       "<tbody>\n",
       "\t<tr><td>167 </td><td>68  </td><td>1974</td><td>No  </td><td>F   </td><td>N   </td></tr>\n",
       "\t<tr><td>162 </td><td>49  </td><td>1974</td><td>C2  </td><td>F   </td><td>N   </td></tr>\n",
       "\t<tr><td>158 </td><td>50  </td><td>1978</td><td>C2  </td><td>F   </td><td>N   </td></tr>\n",
       "\t<tr><td>165 </td><td>56  </td><td>1977</td><td>No  </td><td>F   </td><td>N   </td></tr>\n",
       "\t<tr><td>160 </td><td>52  </td><td>1959</td><td>No  </td><td>F   </td><td>N   </td></tr>\n",
       "\t<tr><td>162 </td><td>52  </td><td>1972</td><td>No  </td><td>F   </td><td>Y   </td></tr>\n",
       "</tbody>\n",
       "</table>\n"
      ],
      "text/latex": [
       "\\begin{tabular}{r|llllll}\n",
       " V1 & V2 & V3 & V4 & V5 & V6\\\\\n",
       "\\hline\n",
       "\t 167  & 68   & 1974 & No   & F    & N   \\\\\n",
       "\t 162  & 49   & 1974 & C2   & F    & N   \\\\\n",
       "\t 158  & 50   & 1978 & C2   & F    & N   \\\\\n",
       "\t 165  & 56   & 1977 & No   & F    & N   \\\\\n",
       "\t 160  & 52   & 1959 & No   & F    & N   \\\\\n",
       "\t 162  & 52   & 1972 & No   & F    & Y   \\\\\n",
       "\\end{tabular}\n"
      ],
      "text/markdown": [
       "\n",
       "| V1 | V2 | V3 | V4 | V5 | V6 |\n",
       "|---|---|---|---|---|---|\n",
       "| 167  | 68   | 1974 | No   | F    | N    |\n",
       "| 162  | 49   | 1974 | C2   | F    | N    |\n",
       "| 158  | 50   | 1978 | C2   | F    | N    |\n",
       "| 165  | 56   | 1977 | No   | F    | N    |\n",
       "| 160  | 52   | 1959 | No   | F    | N    |\n",
       "| 162  | 52   | 1972 | No   | F    | Y    |\n",
       "\n"
      ],
      "text/plain": [
       "  V1  V2 V3   V4 V5 V6\n",
       "1 167 68 1974 No F  N \n",
       "2 162 49 1974 C2 F  N \n",
       "3 158 50 1978 C2 F  N \n",
       "4 165 56 1977 No F  N \n",
       "5 160 52 1959 No F  N \n",
       "6 162 52 1972 No F  Y "
      ]
     },
     "metadata": {},
     "output_type": "display_data"
    },
    {
     "name": "stdout",
     "output_type": "stream",
     "text": [
      "'data.frame':\t177 obs. of  6 variables:\n",
      " $ V1: int  167 162 158 165 160 162 162 167 156 157 ...\n",
      " $ V2: int  68 49 50 56 52 52 50 61 44 55 ...\n",
      " $ V3: int  1974 1974 1978 1977 1959 1972 1970 1967 1969 1979 ...\n",
      " $ V4: Factor w/ 4 levels \"Bu\",\"C1\",\"C2\",..: 4 3 3 4 4 4 4 3 2 4 ...\n",
      " $ V5: Factor w/ 2 levels \"F\",\"M\": 1 1 1 1 1 1 1 1 1 1 ...\n",
      " $ V6: Factor w/ 2 levels \"N\",\"Y\": 1 1 1 1 1 2 1 2 2 1 ...\n"
     ]
    },
    {
     "data": {
      "text/html": [
       "<table>\n",
       "<thead><tr><th scope=col>height</th><th scope=col>weight</th><th scope=col>year</th><th scope=col>religion</th><th scope=col>gender</th><th scope=col>marriage</th></tr></thead>\n",
       "<tbody>\n",
       "\t<tr><td>167 </td><td>68  </td><td>1974</td><td>No  </td><td>F   </td><td>N   </td></tr>\n",
       "\t<tr><td>162 </td><td>49  </td><td>1974</td><td>C2  </td><td>F   </td><td>N   </td></tr>\n",
       "\t<tr><td>158 </td><td>50  </td><td>1978</td><td>C2  </td><td>F   </td><td>N   </td></tr>\n",
       "\t<tr><td>165 </td><td>56  </td><td>1977</td><td>No  </td><td>F   </td><td>N   </td></tr>\n",
       "\t<tr><td>160 </td><td>52  </td><td>1959</td><td>No  </td><td>F   </td><td>N   </td></tr>\n",
       "\t<tr><td>162 </td><td>52  </td><td>1972</td><td>No  </td><td>F   </td><td>Y   </td></tr>\n",
       "</tbody>\n",
       "</table>\n"
      ],
      "text/latex": [
       "\\begin{tabular}{r|llllll}\n",
       " height & weight & year & religion & gender & marriage\\\\\n",
       "\\hline\n",
       "\t 167  & 68   & 1974 & No   & F    & N   \\\\\n",
       "\t 162  & 49   & 1974 & C2   & F    & N   \\\\\n",
       "\t 158  & 50   & 1978 & C2   & F    & N   \\\\\n",
       "\t 165  & 56   & 1977 & No   & F    & N   \\\\\n",
       "\t 160  & 52   & 1959 & No   & F    & N   \\\\\n",
       "\t 162  & 52   & 1972 & No   & F    & Y   \\\\\n",
       "\\end{tabular}\n"
      ],
      "text/markdown": [
       "\n",
       "| height | weight | year | religion | gender | marriage |\n",
       "|---|---|---|---|---|---|\n",
       "| 167  | 68   | 1974 | No   | F    | N    |\n",
       "| 162  | 49   | 1974 | C2   | F    | N    |\n",
       "| 158  | 50   | 1978 | C2   | F    | N    |\n",
       "| 165  | 56   | 1977 | No   | F    | N    |\n",
       "| 160  | 52   | 1959 | No   | F    | N    |\n",
       "| 162  | 52   | 1972 | No   | F    | Y    |\n",
       "\n"
      ],
      "text/plain": [
       "  height weight year religion gender marriage\n",
       "1 167    68     1974 No       F      N       \n",
       "2 162    49     1974 C2       F      N       \n",
       "3 158    50     1978 C2       F      N       \n",
       "4 165    56     1977 No       F      N       \n",
       "5 160    52     1959 No       F      N       \n",
       "6 162    52     1972 No       F      Y       "
      ]
     },
     "metadata": {},
     "output_type": "display_data"
    }
   ],
   "source": [
    "# 방법 2\n",
    "# url만 불러오고 따로 colnames(data) 지정\n",
    "bmi  = read.table('http://jupiter.hallym.ac.kr/ftpdata//data/bmi.txt')\n",
    "head(bmi)\n",
    "str(bmi)\n",
    "colnames(bmi) = c('height', 'weight', 'year', 'religion', 'gender', 'marriage')\n",
    "head(bmi)"
   ]
  },
  {
   "cell_type": "markdown",
   "metadata": {},
   "source": [
    "- source : 외부파일로 저장된 r 명령문 한번에 실행\n",
    "\n",
    "------\n",
    "### 3) 자료의 저장\n",
    "- save, load : RData 저장 후 불러오기\n",
    "- sink( ) : console 창이 나오는 결과를 외부파일로 저장\n",
    "- cat ( ) : 여러 객체를 동시에 출력해 파일로 저장\n",
    "- write( ) : 2차원 데이터만 저장\n",
    "> write.matrix( ) : 변수명 저장 X     \n",
    "> write.table( ) : 변수명 포함    \n",
    "> write.csv( )    \n",
    "> write.xlsx( )    "
   ]
  },
  {
   "cell_type": "markdown",
   "metadata": {},
   "source": [
    "### 4) 자료 처리\n",
    "- table(x) : 각 범주의 도수\n",
    "- factor(x) : 범주의 수준 또는 인자로 만듦"
   ]
  },
  {
   "cell_type": "code",
   "execution_count": 34,
   "metadata": {},
   "outputs": [
    {
     "data": {
      "text/plain": [
       "x\n",
       "f m \n",
       "2 3 "
      ]
     },
     "metadata": {},
     "output_type": "display_data"
    },
    {
     "data": {
      "text/plain": [
       "x\n",
       "  f   m \n",
       "0.4 0.6 "
      ]
     },
     "metadata": {},
     "output_type": "display_data"
    },
    {
     "data": {
      "text/html": [
       "<ol class=list-inline>\n",
       "\t<li>m</li>\n",
       "\t<li>m</li>\n",
       "\t<li>f</li>\n",
       "\t<li>f</li>\n",
       "\t<li>m</li>\n",
       "</ol>\n",
       "\n",
       "<details>\n",
       "\t<summary style=display:list-item;cursor:pointer>\n",
       "\t\t<strong>Levels</strong>:\n",
       "\t</summary>\n",
       "\t<ol class=list-inline>\n",
       "\t\t<li>'f'</li>\n",
       "\t\t<li>'m'</li>\n",
       "\t</ol>\n",
       "</details>"
      ],
      "text/latex": [
       "\\begin{enumerate*}\n",
       "\\item m\n",
       "\\item m\n",
       "\\item f\n",
       "\\item f\n",
       "\\item m\n",
       "\\end{enumerate*}\n",
       "\n",
       "\\emph{Levels}: \\begin{enumerate*}\n",
       "\\item 'f'\n",
       "\\item 'm'\n",
       "\\end{enumerate*}\n"
      ],
      "text/markdown": [
       "1. m\n",
       "2. m\n",
       "3. f\n",
       "4. f\n",
       "5. m\n",
       "\n",
       "\n",
       "\n",
       "**Levels**: 1. 'f'\n",
       "2. 'm'\n",
       "\n",
       "\n"
      ],
      "text/plain": [
       "[1] m m f f m\n",
       "Levels: f m"
      ]
     },
     "metadata": {},
     "output_type": "display_data"
    }
   ],
   "source": [
    "x = c('m', 'm', 'f', 'f', 'm')\n",
    "table(x) # 빈도수\n",
    "table(x) / length(x) # 비율\n",
    "factor(x)"
   ]
  },
  {
   "cell_type": "code",
   "execution_count": 40,
   "metadata": {},
   "outputs": [],
   "source": [
    "## 범주 그래프 그릴때는 table 인자를 넣어야 함 !!\n",
    "\n",
    "# barplot(table(x))\n",
    "# pie(table(x))"
   ]
  },
  {
   "cell_type": "code",
   "execution_count": 37,
   "metadata": {},
   "outputs": [
    {
     "data": {
      "text/html": [
       "<ol class=list-inline>\n",
       "\t<li>1</li>\n",
       "\t<li>1</li>\n",
       "\t<li>0</li>\n",
       "\t<li>0</li>\n",
       "\t<li>1</li>\n",
       "</ol>\n"
      ],
      "text/latex": [
       "\\begin{enumerate*}\n",
       "\\item 1\n",
       "\\item 1\n",
       "\\item 0\n",
       "\\item 0\n",
       "\\item 1\n",
       "\\end{enumerate*}\n"
      ],
      "text/markdown": [
       "1. 1\n",
       "2. 1\n",
       "3. 0\n",
       "4. 0\n",
       "5. 1\n",
       "\n",
       "\n"
      ],
      "text/plain": [
       "[1] 1 1 0 0 1"
      ]
     },
     "metadata": {},
     "output_type": "display_data"
    },
    {
     "data": {
      "text/html": [
       "<ol class=list-inline>\n",
       "\t<li>1</li>\n",
       "\t<li>1</li>\n",
       "\t<li>0</li>\n",
       "\t<li>0</li>\n",
       "\t<li>1</li>\n",
       "</ol>\n",
       "\n",
       "<details>\n",
       "\t<summary style=display:list-item;cursor:pointer>\n",
       "\t\t<strong>Levels</strong>:\n",
       "\t</summary>\n",
       "\t<ol class=list-inline>\n",
       "\t\t<li>'0'</li>\n",
       "\t\t<li>'1'</li>\n",
       "\t</ol>\n",
       "</details>"
      ],
      "text/latex": [
       "\\begin{enumerate*}\n",
       "\\item 1\n",
       "\\item 1\n",
       "\\item 0\n",
       "\\item 0\n",
       "\\item 1\n",
       "\\end{enumerate*}\n",
       "\n",
       "\\emph{Levels}: \\begin{enumerate*}\n",
       "\\item '0'\n",
       "\\item '1'\n",
       "\\end{enumerate*}\n"
      ],
      "text/markdown": [
       "1. 1\n",
       "2. 1\n",
       "3. 0\n",
       "4. 0\n",
       "5. 1\n",
       "\n",
       "\n",
       "\n",
       "**Levels**: 1. '0'\n",
       "2. '1'\n",
       "\n",
       "\n"
      ],
      "text/plain": [
       "[1] 1 1 0 0 1\n",
       "Levels: 0 1"
      ]
     },
     "metadata": {},
     "output_type": "display_data"
    }
   ],
   "source": [
    "y = ifelse(x == 'm', 1, 0)   # 매핑하는법 !! ifelse 이용 !!!\n",
    "y\n",
    "factor(y)"
   ]
  },
  {
   "cell_type": "markdown",
   "metadata": {},
   "source": [
    "---------------------------------\n",
    "### 5) plot 그리기\n",
    "< 범주형 > \n",
    "- barplot( )\n",
    "- pie( )\n",
    "\n",
    "< 연속형 >\n",
    "- boxplot( )\n",
    "- hist( ) : 히스토그램, probability=TRUE (상대도수)\n",
    "- plot ( ) : 산점도\n",
    "\n",
    "> par : 그래픽 장치 설정하는 함수\n",
    "> - mfrow : 한 그래프 장치에 그릴 그림의 개수 ex) mfrow = c(1,2)\n",
    "> - mfcol"
   ]
  },
  {
   "cell_type": "code",
   "execution_count": 42,
   "metadata": {},
   "outputs": [
    {
     "data": {
      "image/png": "[encoded data removed]",
      "text/plain": [
       "Plot with title \"Histogram of math\""
      ]
     },
     "metadata": {},
     "output_type": "display_data"
    }
   ],
   "source": [
    "par(mfrow = c(1,2))\n",
    "math = c(30, 56, 77, 88, 63, 84, 73, 81, 44)\n",
    "hist(math)\n",
    "hist(math, probability=TRUE)"
   ]
  },
  {
   "cell_type": "code",
   "execution_count": 44,
   "metadata": {},
   "outputs": [
    {
     "data": {
      "text/html": [
       "<table>\n",
       "<thead><tr><th scope=col>eruptions</th><th scope=col>waiting</th></tr></thead>\n",
       "<tbody>\n",
       "\t<tr><td>3.600</td><td>79   </td></tr>\n",
       "\t<tr><td>1.800</td><td>54   </td></tr>\n",
       "\t<tr><td>3.333</td><td>74   </td></tr>\n",
       "\t<tr><td>2.283</td><td>62   </td></tr>\n",
       "\t<tr><td>4.533</td><td>85   </td></tr>\n",
       "\t<tr><td>2.883</td><td>55   </td></tr>\n",
       "</tbody>\n",
       "</table>\n"
      ],
      "text/latex": [
       "\\begin{tabular}{r|ll}\n",
       " eruptions & waiting\\\\\n",
       "\\hline\n",
       "\t 3.600 & 79   \\\\\n",
       "\t 1.800 & 54   \\\\\n",
       "\t 3.333 & 74   \\\\\n",
       "\t 2.283 & 62   \\\\\n",
       "\t 4.533 & 85   \\\\\n",
       "\t 2.883 & 55   \\\\\n",
       "\\end{tabular}\n"
      ],
      "text/markdown": [
       "\n",
       "| eruptions | waiting |\n",
       "|---|---|\n",
       "| 3.600 | 79    |\n",
       "| 1.800 | 54    |\n",
       "| 3.333 | 74    |\n",
       "| 2.283 | 62    |\n",
       "| 4.533 | 85    |\n",
       "| 2.883 | 55    |\n",
       "\n"
      ],
      "text/plain": [
       "  eruptions waiting\n",
       "1 3.600     79     \n",
       "2 1.800     54     \n",
       "3 3.333     74     \n",
       "4 2.283     62     \n",
       "5 4.533     85     \n",
       "6 2.883     55     "
      ]
     },
     "metadata": {},
     "output_type": "display_data"
    }
   ],
   "source": [
    "data(faithful)\n",
    "head(faithful)"
   ]
  },
  {
   "cell_type": "code",
   "execution_count": 47,
   "metadata": {},
   "outputs": [
    {
     "name": "stderr",
     "output_type": "stream",
     "text": [
      "The following objects are masked from faithful (pos = 3):\n",
      "\n",
      "    eruptions, waiting\n",
      "\n"
     ]
    },
    {
     "data": {
      "image/png": "[encoded data removed]",
      "text/plain": [
       "plot without title"
      ]
     },
     "metadata": {},
     "output_type": "display_data"
    }
   ],
   "source": [
    "attach(faithful) # attach\n",
    "plot(eruptions, waiting)\n",
    "abline(lm(waiting~eruptions), col='red') # abline으로 회귀선 추가!\n",
    "detach(faithful)"
   ]
  },
  {
   "cell_type": "code",
   "execution_count": 49,
   "metadata": {},
   "outputs": [
    {
     "data": {
      "image/png": "[encoded data removed]",
      "text/plain": [
       "plot without title"
      ]
     },
     "metadata": {},
     "output_type": "display_data"
    }
   ],
   "source": [
    "x = 1:20\n",
    "par(mfrow=c(2,2))\n",
    "plot(log(x)~x)\n",
    "plot(log(x)~x, type='l')\n",
    "plot(log(x)~x, type='o')\n",
    "plot(log(x)~x, type='o', col='blue')"
   ]
  },
  {
   "cell_type": "code",
   "execution_count": 51,
   "metadata": {},
   "outputs": [
    {
     "data": {
      "text/html": [
       "<strong>png:</strong> 2"
      ],
      "text/latex": [
       "\\textbf{png:} 2"
      ],
      "text/markdown": [
       "**png:** 2"
      ],
      "text/plain": [
       "png \n",
       "  2 "
      ]
     },
     "metadata": {},
     "output_type": "display_data"
    }
   ],
   "source": [
    "# plot 저장\n",
    "jpeg(file = 'C:/Users/이다은/Desktop/교양/data/plot.jpg')\n",
    "dev.off() # 생성도구 종료"
   ]
  },
  {
   "cell_type": "markdown",
   "metadata": {},
   "source": [
    "----\n",
    "## 2. R 데이터 구조\n",
    "### 1) 자료 객체\n",
    "- 객체의 형식 변환 함수 : as.~( )\n",
    "- 객체의 형식 : 숫자형, 문자형, 요인형, 논리형, 실수형, 복소수형 \n",
    "> mode ( ) 로 출력!\n",
    "- mode( ), length( ) : 객체 속성 구분"
   ]
  },
  {
   "cell_type": "code",
   "execution_count": 55,
   "metadata": {},
   "outputs": [
    {
     "data": {
      "text/html": [
       "'numeric'"
      ],
      "text/latex": [
       "'numeric'"
      ],
      "text/markdown": [
       "'numeric'"
      ],
      "text/plain": [
       "[1] \"numeric\""
      ]
     },
     "metadata": {},
     "output_type": "display_data"
    },
    {
     "data": {
      "text/html": [
       "1"
      ],
      "text/latex": [
       "1"
      ],
      "text/markdown": [
       "1"
      ],
      "text/plain": [
       "[1] 1"
      ]
     },
     "metadata": {},
     "output_type": "display_data"
    },
    {
     "data": {
      "text/html": [
       "'character'"
      ],
      "text/latex": [
       "'character'"
      ],
      "text/markdown": [
       "'character'"
      ],
      "text/plain": [
       "[1] \"character\""
      ]
     },
     "metadata": {},
     "output_type": "display_data"
    },
    {
     "data": {
      "text/html": [
       "1"
      ],
      "text/latex": [
       "1"
      ],
      "text/markdown": [
       "1"
      ],
      "text/plain": [
       "[1] 1"
      ]
     },
     "metadata": {},
     "output_type": "display_data"
    }
   ],
   "source": [
    "value= 10\n",
    "mode(value);length(value)\n",
    "\n",
    "s = '배고파'\n",
    "mode(s);length(s)"
   ]
  },
  {
   "cell_type": "markdown",
   "metadata": {},
   "source": [
    "- NA : 결측치\n",
    "- Inf : 무한대\n",
    "- NaN : 이상치\n",
    "> - is.na(), is.finite() 등으로 구분!      \n",
    "> - na.rm = T : 결측치 제외하고 연산(원래 연산 안됨)\n",
    "> - na.omit(x) : 결측치 제거"
   ]
  },
  {
   "cell_type": "code",
   "execution_count": 58,
   "metadata": {},
   "outputs": [
    {
     "data": {
      "text/html": [
       "&lt;NA&gt;"
      ],
      "text/latex": [
       "<NA>"
      ],
      "text/markdown": [
       "&lt;NA&gt;"
      ],
      "text/plain": [
       "[1] NA"
      ]
     },
     "metadata": {},
     "output_type": "display_data"
    },
    {
     "data": {
      "text/html": [
       "19"
      ],
      "text/latex": [
       "19"
      ],
      "text/markdown": [
       "19"
      ],
      "text/plain": [
       "[1] 19"
      ]
     },
     "metadata": {},
     "output_type": "display_data"
    },
    {
     "data": {
      "text/html": [
       "1"
      ],
      "text/latex": [
       "1"
      ],
      "text/markdown": [
       "1"
      ],
      "text/plain": [
       "[1] 1"
      ]
     },
     "metadata": {},
     "output_type": "display_data"
    }
   ],
   "source": [
    "x = c(1,2,3,NA, 5, 8)\n",
    "sum(x) # 결측치 포함, 계산안됨\n",
    "sum(x, na.rm=T) # na.rm=T\n",
    "sum(is.na(x)) # 결측치 개수"
   ]
  },
  {
   "cell_type": "code",
   "execution_count": 59,
   "metadata": {},
   "outputs": [
    {
     "data": {
      "text/html": [
       "<ol class=list-inline>\n",
       "\t<li>1</li>\n",
       "\t<li>2</li>\n",
       "\t<li>3</li>\n",
       "\t<li>0</li>\n",
       "\t<li>5</li>\n",
       "\t<li>8</li>\n",
       "</ol>\n"
      ],
      "text/latex": [
       "\\begin{enumerate*}\n",
       "\\item 1\n",
       "\\item 2\n",
       "\\item 3\n",
       "\\item 0\n",
       "\\item 5\n",
       "\\item 8\n",
       "\\end{enumerate*}\n"
      ],
      "text/markdown": [
       "1. 1\n",
       "2. 2\n",
       "3. 3\n",
       "4. 0\n",
       "5. 5\n",
       "6. 8\n",
       "\n",
       "\n"
      ],
      "text/plain": [
       "[1] 1 2 3 0 5 8"
      ]
     },
     "metadata": {},
     "output_type": "display_data"
    }
   ],
   "source": [
    "x[is.na(x)] = 0 # 결측치 대체\n",
    "x "
   ]
  },
  {
   "cell_type": "code",
   "execution_count": 72,
   "metadata": {},
   "outputs": [
    {
     "data": {
      "text/html": [
       "FALSE"
      ],
      "text/latex": [
       "FALSE"
      ],
      "text/markdown": [
       "FALSE"
      ],
      "text/plain": [
       "[1] FALSE"
      ]
     },
     "metadata": {},
     "output_type": "display_data"
    },
    {
     "data": {
      "text/html": [
       "TRUE"
      ],
      "text/latex": [
       "TRUE"
      ],
      "text/markdown": [
       "TRUE"
      ],
      "text/plain": [
       "[1] TRUE"
      ]
     },
     "metadata": {},
     "output_type": "display_data"
    }
   ],
   "source": [
    "x <- c(1,2,3, NA, 5, 8)\n",
    "y <- na.omit(x)\n",
    "\n",
    "is.vector(y)\n",
    "\n",
    "# 벡터로 재지정\n",
    "y <- as.vector(y)\n",
    "is.vector(y)"
   ]
  },
  {
   "cell_type": "code",
   "execution_count": 73,
   "metadata": {},
   "outputs": [],
   "source": [
    "# y <- as.vector(na.omit(x)) # 이렇게 한번에 할 수도 있음!"
   ]
  },
  {
   "cell_type": "markdown",
   "metadata": {},
   "source": [
    "------\n",
    "## 2) 벡터\n",
    "- head(x, 2) : x벡터의 앞에서 2개\n",
    "- cumsum(x) : 누적합\n",
    "- cumprod(x) : 누적곱"
   ]
  },
  {
   "cell_type": "code",
   "execution_count": 75,
   "metadata": {},
   "outputs": [
    {
     "data": {
      "text/html": [
       "<ol class=list-inline>\n",
       "\t<li>1</li>\n",
       "\t<li>3</li>\n",
       "\t<li>6</li>\n",
       "\t<li>10</li>\n",
       "\t<li>20</li>\n",
       "</ol>\n"
      ],
      "text/latex": [
       "\\begin{enumerate*}\n",
       "\\item 1\n",
       "\\item 3\n",
       "\\item 6\n",
       "\\item 10\n",
       "\\item 20\n",
       "\\end{enumerate*}\n"
      ],
      "text/markdown": [
       "1. 1\n",
       "2. 3\n",
       "3. 6\n",
       "4. 10\n",
       "5. 20\n",
       "\n",
       "\n"
      ],
      "text/plain": [
       "[1]  1  3  6 10 20"
      ]
     },
     "metadata": {},
     "output_type": "display_data"
    },
    {
     "data": {
      "text/html": [
       "<ol class=list-inline>\n",
       "\t<li>1</li>\n",
       "\t<li>2</li>\n",
       "\t<li>6</li>\n",
       "\t<li>24</li>\n",
       "\t<li>240</li>\n",
       "</ol>\n"
      ],
      "text/latex": [
       "\\begin{enumerate*}\n",
       "\\item 1\n",
       "\\item 2\n",
       "\\item 6\n",
       "\\item 24\n",
       "\\item 240\n",
       "\\end{enumerate*}\n"
      ],
      "text/markdown": [
       "1. 1\n",
       "2. 2\n",
       "3. 6\n",
       "4. 24\n",
       "5. 240\n",
       "\n",
       "\n"
      ],
      "text/plain": [
       "[1]   1   2   6  24 240"
      ]
     },
     "metadata": {},
     "output_type": "display_data"
    }
   ],
   "source": [
    "x = c(1,2,3,4,10)\n",
    "cumsum(x) # 누적 합\n",
    "cumprod(x) # 누적 곱"
   ]
  },
  {
   "cell_type": "markdown",
   "metadata": {},
   "source": [
    "- rep : 반복함수\n",
    "> time = 3 : 전체 3번씩 반복(default)    \n",
    "> each = 3 : 각각 3번씩 반복 "
   ]
  },
  {
   "cell_type": "code",
   "execution_count": 77,
   "metadata": {},
   "outputs": [
    {
     "data": {
      "text/html": [
       "<ol class=list-inline>\n",
       "\t<li>1</li>\n",
       "\t<li>2</li>\n",
       "\t<li>3</li>\n",
       "\t<li>1</li>\n",
       "\t<li>2</li>\n",
       "\t<li>3</li>\n",
       "\t<li>1</li>\n",
       "\t<li>2</li>\n",
       "\t<li>3</li>\n",
       "</ol>\n"
      ],
      "text/latex": [
       "\\begin{enumerate*}\n",
       "\\item 1\n",
       "\\item 2\n",
       "\\item 3\n",
       "\\item 1\n",
       "\\item 2\n",
       "\\item 3\n",
       "\\item 1\n",
       "\\item 2\n",
       "\\item 3\n",
       "\\end{enumerate*}\n"
      ],
      "text/markdown": [
       "1. 1\n",
       "2. 2\n",
       "3. 3\n",
       "4. 1\n",
       "5. 2\n",
       "6. 3\n",
       "7. 1\n",
       "8. 2\n",
       "9. 3\n",
       "\n",
       "\n"
      ],
      "text/plain": [
       "[1] 1 2 3 1 2 3 1 2 3"
      ]
     },
     "metadata": {},
     "output_type": "display_data"
    },
    {
     "data": {
      "text/html": [
       "<ol class=list-inline>\n",
       "\t<li>1</li>\n",
       "\t<li>1</li>\n",
       "\t<li>1</li>\n",
       "\t<li>2</li>\n",
       "\t<li>2</li>\n",
       "\t<li>2</li>\n",
       "\t<li>3</li>\n",
       "\t<li>3</li>\n",
       "\t<li>3</li>\n",
       "</ol>\n"
      ],
      "text/latex": [
       "\\begin{enumerate*}\n",
       "\\item 1\n",
       "\\item 1\n",
       "\\item 1\n",
       "\\item 2\n",
       "\\item 2\n",
       "\\item 2\n",
       "\\item 3\n",
       "\\item 3\n",
       "\\item 3\n",
       "\\end{enumerate*}\n"
      ],
      "text/markdown": [
       "1. 1\n",
       "2. 1\n",
       "3. 1\n",
       "4. 2\n",
       "5. 2\n",
       "6. 2\n",
       "7. 3\n",
       "8. 3\n",
       "9. 3\n",
       "\n",
       "\n"
      ],
      "text/plain": [
       "[1] 1 1 1 2 2 2 3 3 3"
      ]
     },
     "metadata": {},
     "output_type": "display_data"
    }
   ],
   "source": [
    "x = c(1,2,3)\n",
    "rep(x, 3) # time이 default\n",
    "rep(x, each=3)"
   ]
  },
  {
   "cell_type": "markdown",
   "metadata": {},
   "source": [
    "- seq : 수열 생성 함수\n",
    ">  - length.out (그냥 length라고 해도됨) = 12 : 간격을 12개로 균등하게 나누는 수열 생성    \n",
    "(by와 동시에 사용 X)      \n",
    ">  - along.with = c(1,5) : 벡터의 길이만큼 생성"
   ]
  },
  {
   "cell_type": "code",
   "execution_count": 89,
   "metadata": {},
   "outputs": [
    {
     "data": {
      "text/html": [
       "<ol class=list-inline>\n",
       "\t<li>1</li>\n",
       "\t<li>3</li>\n",
       "\t<li>5</li>\n",
       "\t<li>7</li>\n",
       "\t<li>9</li>\n",
       "\t<li>11</li>\n",
       "\t<li>13</li>\n",
       "\t<li>15</li>\n",
       "\t<li>17</li>\n",
       "\t<li>19</li>\n",
       "\t<li>21</li>\n",
       "\t<li>23</li>\n",
       "\t<li>25</li>\n",
       "\t<li>27</li>\n",
       "\t<li>29</li>\n",
       "</ol>\n"
      ],
      "text/latex": [
       "\\begin{enumerate*}\n",
       "\\item 1\n",
       "\\item 3\n",
       "\\item 5\n",
       "\\item 7\n",
       "\\item 9\n",
       "\\item 11\n",
       "\\item 13\n",
       "\\item 15\n",
       "\\item 17\n",
       "\\item 19\n",
       "\\item 21\n",
       "\\item 23\n",
       "\\item 25\n",
       "\\item 27\n",
       "\\item 29\n",
       "\\end{enumerate*}\n"
      ],
      "text/markdown": [
       "1. 1\n",
       "2. 3\n",
       "3. 5\n",
       "4. 7\n",
       "5. 9\n",
       "6. 11\n",
       "7. 13\n",
       "8. 15\n",
       "9. 17\n",
       "10. 19\n",
       "11. 21\n",
       "12. 23\n",
       "13. 25\n",
       "14. 27\n",
       "15. 29\n",
       "\n",
       "\n"
      ],
      "text/plain": [
       " [1]  1  3  5  7  9 11 13 15 17 19 21 23 25 27 29"
      ]
     },
     "metadata": {},
     "output_type": "display_data"
    },
    {
     "data": {
      "text/html": [
       "<ol class=list-inline>\n",
       "\t<li>-3.14159265358979</li>\n",
       "\t<li>-2.57039398930074</li>\n",
       "\t<li>-1.99919532501169</li>\n",
       "\t<li>-1.42799666072263</li>\n",
       "\t<li>-0.85679799643358</li>\n",
       "\t<li>-0.285599332144526</li>\n",
       "\t<li>0.285599332144526</li>\n",
       "\t<li>0.85679799643358</li>\n",
       "\t<li>1.42799666072263</li>\n",
       "\t<li>1.99919532501169</li>\n",
       "\t<li>2.57039398930074</li>\n",
       "\t<li>3.14159265358979</li>\n",
       "</ol>\n"
      ],
      "text/latex": [
       "\\begin{enumerate*}\n",
       "\\item -3.14159265358979\n",
       "\\item -2.57039398930074\n",
       "\\item -1.99919532501169\n",
       "\\item -1.42799666072263\n",
       "\\item -0.85679799643358\n",
       "\\item -0.285599332144526\n",
       "\\item 0.285599332144526\n",
       "\\item 0.85679799643358\n",
       "\\item 1.42799666072263\n",
       "\\item 1.99919532501169\n",
       "\\item 2.57039398930074\n",
       "\\item 3.14159265358979\n",
       "\\end{enumerate*}\n"
      ],
      "text/markdown": [
       "1. -3.14159265358979\n",
       "2. -2.57039398930074\n",
       "3. -1.99919532501169\n",
       "4. -1.42799666072263\n",
       "5. -0.85679799643358\n",
       "6. -0.285599332144526\n",
       "7. 0.285599332144526\n",
       "8. 0.85679799643358\n",
       "9. 1.42799666072263\n",
       "10. 1.99919532501169\n",
       "11. 2.57039398930074\n",
       "12. 3.14159265358979\n",
       "\n",
       "\n"
      ],
      "text/plain": [
       " [1] -3.1415927 -2.5703940 -1.9991953 -1.4279967 -0.8567980 -0.2855993\n",
       " [7]  0.2855993  0.8567980  1.4279967  1.9991953  2.5703940  3.1415927"
      ]
     },
     "metadata": {},
     "output_type": "display_data"
    },
    {
     "data": {
      "text/html": [
       "<ol class=list-inline>\n",
       "\t<li>-3.14159265358979</li>\n",
       "\t<li>-1.5707963267949</li>\n",
       "\t<li>0</li>\n",
       "\t<li>1.5707963267949</li>\n",
       "\t<li>3.14159265358979</li>\n",
       "</ol>\n"
      ],
      "text/latex": [
       "\\begin{enumerate*}\n",
       "\\item -3.14159265358979\n",
       "\\item -1.5707963267949\n",
       "\\item 0\n",
       "\\item 1.5707963267949\n",
       "\\item 3.14159265358979\n",
       "\\end{enumerate*}\n"
      ],
      "text/markdown": [
       "1. -3.14159265358979\n",
       "2. -1.5707963267949\n",
       "3. 0\n",
       "4. 1.5707963267949\n",
       "5. 3.14159265358979\n",
       "\n",
       "\n"
      ],
      "text/plain": [
       "[1] -3.141593 -1.570796  0.000000  1.570796  3.141593"
      ]
     },
     "metadata": {},
     "output_type": "display_data"
    }
   ],
   "source": [
    "seq(1, 30, 2) \n",
    "seq(-pi, pi, length.out=12) # 균등하게 12등분하기!\n",
    "\n",
    "seq(-pi, pi, along.with=c(1:5)) # 벡터의 길이만큼 다섯등분!"
   ]
  },
  {
   "cell_type": "markdown",
   "metadata": {},
   "source": [
    "- rev( 수열 ) : 자료 순서 역순으로"
   ]
  },
  {
   "cell_type": "code",
   "execution_count": 93,
   "metadata": {},
   "outputs": [
    {
     "data": {
      "text/html": [
       "<ol class=list-inline>\n",
       "\t<li>7</li>\n",
       "\t<li>4</li>\n",
       "\t<li>1</li>\n",
       "</ol>\n"
      ],
      "text/latex": [
       "\\begin{enumerate*}\n",
       "\\item 7\n",
       "\\item 4\n",
       "\\item 1\n",
       "\\end{enumerate*}\n"
      ],
      "text/markdown": [
       "1. 7\n",
       "2. 4\n",
       "3. 1\n",
       "\n",
       "\n"
      ],
      "text/plain": [
       "[1] 7 4 1"
      ]
     },
     "metadata": {},
     "output_type": "display_data"
    },
    {
     "data": {
      "text/html": [
       "<ol class=list-inline>\n",
       "\t<li>1</li>\n",
       "\t<li>1</li>\n",
       "\t<li>1</li>\n",
       "\t<li>2</li>\n",
       "\t<li>2</li>\n",
       "\t<li>2</li>\n",
       "\t<li>3</li>\n",
       "\t<li>3</li>\n",
       "\t<li>3</li>\n",
       "</ol>\n"
      ],
      "text/latex": [
       "\\begin{enumerate*}\n",
       "\\item 1\n",
       "\\item 1\n",
       "\\item 1\n",
       "\\item 2\n",
       "\\item 2\n",
       "\\item 2\n",
       "\\item 3\n",
       "\\item 3\n",
       "\\item 3\n",
       "\\end{enumerate*}\n"
      ],
      "text/markdown": [
       "1. 1\n",
       "2. 1\n",
       "3. 1\n",
       "4. 2\n",
       "5. 2\n",
       "6. 2\n",
       "7. 3\n",
       "8. 3\n",
       "9. 3\n",
       "\n",
       "\n"
      ],
      "text/plain": [
       "[1] 1 1 1 2 2 2 3 3 3"
      ]
     },
     "metadata": {},
     "output_type": "display_data"
    }
   ],
   "source": [
    "rev(seq(1, 7, length.out=3)) # 역순으로 \n",
    "\n",
    "rep(c(1,2,3), each=3)"
   ]
  },
  {
   "cell_type": "markdown",
   "metadata": {},
   "source": [
    "- paste( ) : 문자형 벡터 생성\n",
    "> collapse = ',' : 결과값 두개이상 이어 붙일 때 이용"
   ]
  },
  {
   "cell_type": "code",
   "execution_count": 97,
   "metadata": {},
   "outputs": [
    {
     "data": {
      "text/html": [
       "TRUE"
      ],
      "text/latex": [
       "TRUE"
      ],
      "text/markdown": [
       "TRUE"
      ],
      "text/plain": [
       "[1] TRUE"
      ]
     },
     "metadata": {},
     "output_type": "display_data"
    },
    {
     "data": {
      "text/html": [
       "TRUE"
      ],
      "text/latex": [
       "TRUE"
      ],
      "text/markdown": [
       "TRUE"
      ],
      "text/plain": [
       "[1] TRUE"
      ]
     },
     "metadata": {},
     "output_type": "display_data"
    }
   ],
   "source": [
    "x = paste(1:5)\n",
    "is.character(x) # 문자형 벡터 생성\n",
    "is.vector(x)"
   ]
  },
  {
   "cell_type": "code",
   "execution_count": 99,
   "metadata": {},
   "outputs": [
    {
     "data": {
      "text/html": [
       "<ol class=list-inline>\n",
       "\t<li>'1'</li>\n",
       "\t<li>'2'</li>\n",
       "\t<li>'3'</li>\n",
       "\t<li>'4'</li>\n",
       "\t<li>'5'</li>\n",
       "</ol>\n"
      ],
      "text/latex": [
       "\\begin{enumerate*}\n",
       "\\item '1'\n",
       "\\item '2'\n",
       "\\item '3'\n",
       "\\item '4'\n",
       "\\item '5'\n",
       "\\end{enumerate*}\n"
      ],
      "text/markdown": [
       "1. '1'\n",
       "2. '2'\n",
       "3. '3'\n",
       "4. '4'\n",
       "5. '5'\n",
       "\n",
       "\n"
      ],
      "text/plain": [
       "[1] \"1\" \"2\" \"3\" \"4\" \"5\""
      ]
     },
     "metadata": {},
     "output_type": "display_data"
    },
    {
     "data": {
      "text/html": [
       "<ol class=list-inline>\n",
       "\t<li>'1-1'</li>\n",
       "\t<li>'1-2'</li>\n",
       "\t<li>'1-3'</li>\n",
       "</ol>\n"
      ],
      "text/latex": [
       "\\begin{enumerate*}\n",
       "\\item '1-1'\n",
       "\\item '1-2'\n",
       "\\item '1-3'\n",
       "\\end{enumerate*}\n"
      ],
      "text/markdown": [
       "1. '1-1'\n",
       "2. '1-2'\n",
       "3. '1-3'\n",
       "\n",
       "\n"
      ],
      "text/plain": [
       "[1] \"1-1\" \"1-2\" \"1-3\""
      ]
     },
     "metadata": {},
     "output_type": "display_data"
    },
    {
     "data": {
      "text/html": [
       "'Today is Sun Dec 13 22:51:49 2020'"
      ],
      "text/latex": [
       "'Today is Sun Dec 13 22:51:49 2020'"
      ],
      "text/markdown": [
       "'Today is Sun Dec 13 22:51:49 2020'"
      ],
      "text/plain": [
       "[1] \"Today is Sun Dec 13 22:51:49 2020\""
      ]
     },
     "metadata": {},
     "output_type": "display_data"
    }
   ],
   "source": [
    "as.character(1:5) # 문자로 자료형 변환\n",
    "paste(1, 1:3, sep='-') # sep : 사이 구분자 지정\n",
    "paste('Today is', date())"
   ]
  },
  {
   "cell_type": "code",
   "execution_count": 108,
   "metadata": {},
   "outputs": [
    {
     "data": {
      "text/html": [
       "<ol class=list-inline>\n",
       "\t<li>11</li>\n",
       "\t<li>13</li>\n",
       "\t<li>15</li>\n",
       "\t<li>16</li>\n",
       "\t<li>17</li>\n",
       "\t<li>18</li>\n",
       "\t<li>19</li>\n",
       "\t<li>20</li>\n",
       "\t<li>21</li>\n",
       "\t<li>22</li>\n",
       "\t<li>23</li>\n",
       "\t<li>24</li>\n",
       "\t<li>25</li>\n",
       "\t<li>26</li>\n",
       "\t<li>27</li>\n",
       "\t<li>28</li>\n",
       "\t<li>29</li>\n",
       "\t<li>30</li>\n",
       "</ol>\n"
      ],
      "text/latex": [
       "\\begin{enumerate*}\n",
       "\\item 11\n",
       "\\item 13\n",
       "\\item 15\n",
       "\\item 16\n",
       "\\item 17\n",
       "\\item 18\n",
       "\\item 19\n",
       "\\item 20\n",
       "\\item 21\n",
       "\\item 22\n",
       "\\item 23\n",
       "\\item 24\n",
       "\\item 25\n",
       "\\item 26\n",
       "\\item 27\n",
       "\\item 28\n",
       "\\item 29\n",
       "\\item 30\n",
       "\\end{enumerate*}\n"
      ],
      "text/markdown": [
       "1. 11\n",
       "2. 13\n",
       "3. 15\n",
       "4. 16\n",
       "5. 17\n",
       "6. 18\n",
       "7. 19\n",
       "8. 20\n",
       "9. 21\n",
       "10. 22\n",
       "11. 23\n",
       "12. 24\n",
       "13. 25\n",
       "14. 26\n",
       "15. 27\n",
       "16. 28\n",
       "17. 29\n",
       "18. 30\n",
       "\n",
       "\n"
      ],
      "text/plain": [
       " [1] 11 13 15 16 17 18 19 20 21 22 23 24 25 26 27 28 29 30"
      ]
     },
     "metadata": {},
     "output_type": "display_data"
    },
    {
     "data": {
      "text/html": [
       "<ol class=list-inline>\n",
       "\t<li>11</li>\n",
       "\t<li>12</li>\n",
       "\t<li>2000</li>\n",
       "\t<li>14</li>\n",
       "\t<li>15</li>\n",
       "\t<li>16</li>\n",
       "\t<li>17</li>\n",
       "\t<li>18</li>\n",
       "\t<li>19</li>\n",
       "\t<li>20</li>\n",
       "\t<li>21</li>\n",
       "\t<li>22</li>\n",
       "\t<li>23</li>\n",
       "\t<li>24</li>\n",
       "\t<li>25</li>\n",
       "\t<li>26</li>\n",
       "\t<li>27</li>\n",
       "\t<li>28</li>\n",
       "\t<li>29</li>\n",
       "\t<li>30</li>\n",
       "</ol>\n"
      ],
      "text/latex": [
       "\\begin{enumerate*}\n",
       "\\item 11\n",
       "\\item 12\n",
       "\\item 2000\n",
       "\\item 14\n",
       "\\item 15\n",
       "\\item 16\n",
       "\\item 17\n",
       "\\item 18\n",
       "\\item 19\n",
       "\\item 20\n",
       "\\item 21\n",
       "\\item 22\n",
       "\\item 23\n",
       "\\item 24\n",
       "\\item 25\n",
       "\\item 26\n",
       "\\item 27\n",
       "\\item 28\n",
       "\\item 29\n",
       "\\item 30\n",
       "\\end{enumerate*}\n"
      ],
      "text/markdown": [
       "1. 11\n",
       "2. 12\n",
       "3. 2000\n",
       "4. 14\n",
       "5. 15\n",
       "6. 16\n",
       "7. 17\n",
       "8. 18\n",
       "9. 19\n",
       "10. 20\n",
       "11. 21\n",
       "12. 22\n",
       "13. 23\n",
       "14. 24\n",
       "15. 25\n",
       "16. 26\n",
       "17. 27\n",
       "18. 28\n",
       "19. 29\n",
       "20. 30\n",
       "\n",
       "\n"
      ],
      "text/plain": [
       " [1]   11   12 2000   14   15   16   17   18   19   20   21   22   23   24   25\n",
       "[16]   26   27   28   29   30"
      ]
     },
     "metadata": {},
     "output_type": "display_data"
    },
    {
     "data": {
      "text/html": [
       "<ol class=list-inline>\n",
       "\t<li>11</li>\n",
       "\t<li>12</li>\n",
       "\t<li>1214</li>\n",
       "\t<li>13</li>\n",
       "\t<li>14</li>\n",
       "\t<li>15</li>\n",
       "\t<li>16</li>\n",
       "\t<li>17</li>\n",
       "\t<li>18</li>\n",
       "\t<li>19</li>\n",
       "\t<li>20</li>\n",
       "\t<li>21</li>\n",
       "\t<li>22</li>\n",
       "\t<li>23</li>\n",
       "\t<li>24</li>\n",
       "\t<li>25</li>\n",
       "\t<li>26</li>\n",
       "\t<li>27</li>\n",
       "\t<li>28</li>\n",
       "\t<li>29</li>\n",
       "\t<li>30</li>\n",
       "</ol>\n"
      ],
      "text/latex": [
       "\\begin{enumerate*}\n",
       "\\item 11\n",
       "\\item 12\n",
       "\\item 1214\n",
       "\\item 13\n",
       "\\item 14\n",
       "\\item 15\n",
       "\\item 16\n",
       "\\item 17\n",
       "\\item 18\n",
       "\\item 19\n",
       "\\item 20\n",
       "\\item 21\n",
       "\\item 22\n",
       "\\item 23\n",
       "\\item 24\n",
       "\\item 25\n",
       "\\item 26\n",
       "\\item 27\n",
       "\\item 28\n",
       "\\item 29\n",
       "\\item 30\n",
       "\\end{enumerate*}\n"
      ],
      "text/markdown": [
       "1. 11\n",
       "2. 12\n",
       "3. 1214\n",
       "4. 13\n",
       "5. 14\n",
       "6. 15\n",
       "7. 16\n",
       "8. 17\n",
       "9. 18\n",
       "10. 19\n",
       "11. 20\n",
       "12. 21\n",
       "13. 22\n",
       "14. 23\n",
       "15. 24\n",
       "16. 25\n",
       "17. 26\n",
       "18. 27\n",
       "19. 28\n",
       "20. 29\n",
       "21. 30\n",
       "\n",
       "\n"
      ],
      "text/plain": [
       " [1]   11   12 1214   13   14   15   16   17   18   19   20   21   22   23   24\n",
       "[16]   25   26   27   28   29   30"
      ]
     },
     "metadata": {},
     "output_type": "display_data"
    }
   ],
   "source": [
    "v = c(11:30)\n",
    "v[c(-2, -4)] # 2번째, 4번째 빼고 출력\n",
    "\n",
    "replace(v, 3, 2000) # 3번째 2000으로 바꾸기\n",
    "append(v, 1214, 2) # 2번째 이후에 1214 추가"
   ]
  },
  {
   "cell_type": "code",
   "execution_count": 110,
   "metadata": {},
   "outputs": [
    {
     "data": {
      "text/html": [
       "<ol class=list-inline>\n",
       "\t<li>1</li>\n",
       "\t<li>2</li>\n",
       "\t<li>3</li>\n",
       "\t<li>4</li>\n",
       "\t<li>5</li>\n",
       "\t<li>6</li>\n",
       "\t<li>7</li>\n",
       "\t<li>8</li>\n",
       "\t<li>9</li>\n",
       "\t<li>10</li>\n",
       "\t<li>11</li>\n",
       "\t<li>12</li>\n",
       "\t<li>13</li>\n",
       "\t<li>14</li>\n",
       "\t<li>15</li>\n",
       "\t<li>16</li>\n",
       "\t<li>17</li>\n",
       "\t<li>18</li>\n",
       "\t<li>19</li>\n",
       "\t<li>20</li>\n",
       "</ol>\n"
      ],
      "text/latex": [
       "\\begin{enumerate*}\n",
       "\\item 1\n",
       "\\item 2\n",
       "\\item 3\n",
       "\\item 4\n",
       "\\item 5\n",
       "\\item 6\n",
       "\\item 7\n",
       "\\item 8\n",
       "\\item 9\n",
       "\\item 10\n",
       "\\item 11\n",
       "\\item 12\n",
       "\\item 13\n",
       "\\item 14\n",
       "\\item 15\n",
       "\\item 16\n",
       "\\item 17\n",
       "\\item 18\n",
       "\\item 19\n",
       "\\item 20\n",
       "\\end{enumerate*}\n"
      ],
      "text/markdown": [
       "1. 1\n",
       "2. 2\n",
       "3. 3\n",
       "4. 4\n",
       "5. 5\n",
       "6. 6\n",
       "7. 7\n",
       "8. 8\n",
       "9. 9\n",
       "10. 10\n",
       "11. 11\n",
       "12. 12\n",
       "13. 13\n",
       "14. 14\n",
       "15. 15\n",
       "16. 16\n",
       "17. 17\n",
       "18. 18\n",
       "19. 19\n",
       "20. 20\n",
       "\n",
       "\n"
      ],
      "text/plain": [
       " [1]  1  2  3  4  5  6  7  8  9 10 11 12 13 14 15 16 17 18 19 20"
      ]
     },
     "metadata": {},
     "output_type": "display_data"
    },
    {
     "data": {
      "text/html": [
       "<ol class=list-inline>\n",
       "\t<li>11</li>\n",
       "\t<li>12</li>\n",
       "\t<li>13</li>\n",
       "\t<li>14</li>\n",
       "\t<li>15</li>\n",
       "\t<li>16</li>\n",
       "\t<li>17</li>\n",
       "\t<li>18</li>\n",
       "\t<li>19</li>\n",
       "\t<li>20</li>\n",
       "\t<li>21</li>\n",
       "\t<li>22</li>\n",
       "\t<li>23</li>\n",
       "\t<li>24</li>\n",
       "\t<li>25</li>\n",
       "\t<li>26</li>\n",
       "\t<li>27</li>\n",
       "\t<li>28</li>\n",
       "\t<li>29</li>\n",
       "\t<li>30</li>\n",
       "</ol>\n"
      ],
      "text/latex": [
       "\\begin{enumerate*}\n",
       "\\item 11\n",
       "\\item 12\n",
       "\\item 13\n",
       "\\item 14\n",
       "\\item 15\n",
       "\\item 16\n",
       "\\item 17\n",
       "\\item 18\n",
       "\\item 19\n",
       "\\item 20\n",
       "\\item 21\n",
       "\\item 22\n",
       "\\item 23\n",
       "\\item 24\n",
       "\\item 25\n",
       "\\item 26\n",
       "\\item 27\n",
       "\\item 28\n",
       "\\item 29\n",
       "\\item 30\n",
       "\\end{enumerate*}\n"
      ],
      "text/markdown": [
       "1. 11\n",
       "2. 12\n",
       "3. 13\n",
       "4. 14\n",
       "5. 15\n",
       "6. 16\n",
       "7. 17\n",
       "8. 18\n",
       "9. 19\n",
       "10. 20\n",
       "11. 21\n",
       "12. 22\n",
       "13. 23\n",
       "14. 24\n",
       "15. 25\n",
       "16. 26\n",
       "17. 27\n",
       "18. 28\n",
       "19. 29\n",
       "20. 30\n",
       "\n",
       "\n"
      ],
      "text/plain": [
       " [1] 11 12 13 14 15 16 17 18 19 20 21 22 23 24 25 26 27 28 29 30"
      ]
     },
     "metadata": {},
     "output_type": "display_data"
    }
   ],
   "source": [
    "rank(v) # 작은 순위 출력 \n",
    "\n",
    "sort(v) # 작은수부터 정렬"
   ]
  },
  {
   "cell_type": "markdown",
   "metadata": {},
   "source": [
    "--------\n",
    "### 3) 행렬\n",
    "< 생성 > \n",
    "- matrix( ) + rownames(), colnames()\n",
    "> - **rownames, colnames는 문자형 벡터(paste 등)로 입력!!!**\n",
    "> - byrow = T : 가로로 채우기(default : 세로)\n",
    "- cbind(), rbind()\n"
   ]
  },
  {
   "cell_type": "code",
   "execution_count": 119,
   "metadata": {},
   "outputs": [
    {
     "data": {
      "text/html": [
       "<table>\n",
       "<tbody>\n",
       "\t<tr><td>1</td><td>4</td><td>7</td></tr>\n",
       "\t<tr><td>2</td><td>5</td><td>8</td></tr>\n",
       "\t<tr><td>3</td><td>6</td><td>9</td></tr>\n",
       "</tbody>\n",
       "</table>\n"
      ],
      "text/latex": [
       "\\begin{tabular}{lll}\n",
       "\t 1 & 4 & 7\\\\\n",
       "\t 2 & 5 & 8\\\\\n",
       "\t 3 & 6 & 9\\\\\n",
       "\\end{tabular}\n"
      ],
      "text/markdown": [
       "\n",
       "| 1 | 4 | 7 |\n",
       "| 2 | 5 | 8 |\n",
       "| 3 | 6 | 9 |\n",
       "\n"
      ],
      "text/plain": [
       "     [,1] [,2] [,3]\n",
       "[1,] 1    4    7   \n",
       "[2,] 2    5    8   \n",
       "[3,] 3    6    9   "
      ]
     },
     "metadata": {},
     "output_type": "display_data"
    },
    {
     "data": {
      "text/html": [
       "<table>\n",
       "<tbody>\n",
       "\t<tr><td>1</td><td>2</td><td>3</td></tr>\n",
       "\t<tr><td>4</td><td>5</td><td>6</td></tr>\n",
       "\t<tr><td>7</td><td>8</td><td>9</td></tr>\n",
       "</tbody>\n",
       "</table>\n"
      ],
      "text/latex": [
       "\\begin{tabular}{lll}\n",
       "\t 1 & 2 & 3\\\\\n",
       "\t 4 & 5 & 6\\\\\n",
       "\t 7 & 8 & 9\\\\\n",
       "\\end{tabular}\n"
      ],
      "text/markdown": [
       "\n",
       "| 1 | 2 | 3 |\n",
       "| 4 | 5 | 6 |\n",
       "| 7 | 8 | 9 |\n",
       "\n"
      ],
      "text/plain": [
       "     [,1] [,2] [,3]\n",
       "[1,] 1    2    3   \n",
       "[2,] 4    5    6   \n",
       "[3,] 7    8    9   "
      ]
     },
     "metadata": {},
     "output_type": "display_data"
    },
    {
     "data": {
      "text/html": [
       "<table>\n",
       "<thead><tr><th></th><th scope=col>Seoul</th><th scope=col>Tokyo</th><th scope=col>Madison</th></tr></thead>\n",
       "<tbody>\n",
       "\t<tr><th scope=row>ID 1</th><td>1</td><td>2</td><td>3</td></tr>\n",
       "\t<tr><th scope=row>ID 2</th><td>4</td><td>5</td><td>6</td></tr>\n",
       "\t<tr><th scope=row>ID 3</th><td>7</td><td>8</td><td>9</td></tr>\n",
       "</tbody>\n",
       "</table>\n"
      ],
      "text/latex": [
       "\\begin{tabular}{r|lll}\n",
       "  & Seoul & Tokyo & Madison\\\\\n",
       "\\hline\n",
       "\tID 1 & 1 & 2 & 3\\\\\n",
       "\tID 2 & 4 & 5 & 6\\\\\n",
       "\tID 3 & 7 & 8 & 9\\\\\n",
       "\\end{tabular}\n"
      ],
      "text/markdown": [
       "\n",
       "| <!--/--> | Seoul | Tokyo | Madison |\n",
       "|---|---|---|---|\n",
       "| ID 1 | 1 | 2 | 3 |\n",
       "| ID 2 | 4 | 5 | 6 |\n",
       "| ID 3 | 7 | 8 | 9 |\n",
       "\n"
      ],
      "text/plain": [
       "     Seoul Tokyo Madison\n",
       "ID 1 1     2     3      \n",
       "ID 2 4     5     6      \n",
       "ID 3 7     8     9      "
      ]
     },
     "metadata": {},
     "output_type": "display_data"
    }
   ],
   "source": [
    "m = matrix(1:9, ncol=3, nrow=3)\n",
    "m\n",
    "m = matrix(1:9, ncol=3, nrow=3, byrow=T) # 가로로 채우기\n",
    "m\n",
    "# 문자형 벡터로 지정\n",
    "rownames(m) = paste('ID', 1:3)\n",
    "colnames(m) = c('Seoul', 'Tokyo', 'Madison')\n",
    "m"
   ]
  },
  {
   "cell_type": "markdown",
   "metadata": {},
   "source": [
    "< 속성 >\n",
    "- length() : 전체 요소 개수\n",
    "- mode() : 자료형\n",
    "- dim() : 행, 열 개수\n",
    "- dimnames() : 행, 열 이름"
   ]
  },
  {
   "cell_type": "code",
   "execution_count": 118,
   "metadata": {},
   "outputs": [
    {
     "data": {
      "text/html": [
       "9"
      ],
      "text/latex": [
       "9"
      ],
      "text/markdown": [
       "9"
      ],
      "text/plain": [
       "[1] 9"
      ]
     },
     "metadata": {},
     "output_type": "display_data"
    },
    {
     "data": {
      "text/html": [
       "<ol class=list-inline>\n",
       "\t<li>3</li>\n",
       "\t<li>3</li>\n",
       "</ol>\n"
      ],
      "text/latex": [
       "\\begin{enumerate*}\n",
       "\\item 3\n",
       "\\item 3\n",
       "\\end{enumerate*}\n"
      ],
      "text/markdown": [
       "1. 3\n",
       "2. 3\n",
       "\n",
       "\n"
      ],
      "text/plain": [
       "[1] 3 3"
      ]
     },
     "metadata": {},
     "output_type": "display_data"
    },
    {
     "data": {
      "text/html": [
       "<ol>\n",
       "\t<li><ol class=list-inline>\n",
       "\t<li>'ID 1'</li>\n",
       "\t<li>'ID 2'</li>\n",
       "\t<li>'ID 3'</li>\n",
       "</ol>\n",
       "</li>\n",
       "\t<li><ol class=list-inline>\n",
       "\t<li>'Seoul'</li>\n",
       "\t<li>'Tokyo'</li>\n",
       "\t<li>'Madison'</li>\n",
       "</ol>\n",
       "</li>\n",
       "</ol>\n"
      ],
      "text/latex": [
       "\\begin{enumerate}\n",
       "\\item \\begin{enumerate*}\n",
       "\\item 'ID 1'\n",
       "\\item 'ID 2'\n",
       "\\item 'ID 3'\n",
       "\\end{enumerate*}\n",
       "\n",
       "\\item \\begin{enumerate*}\n",
       "\\item 'Seoul'\n",
       "\\item 'Tokyo'\n",
       "\\item 'Madison'\n",
       "\\end{enumerate*}\n",
       "\n",
       "\\end{enumerate}\n"
      ],
      "text/markdown": [
       "1. 1. 'ID 1'\n",
       "2. 'ID 2'\n",
       "3. 'ID 3'\n",
       "\n",
       "\n",
       "\n",
       "2. 1. 'Seoul'\n",
       "2. 'Tokyo'\n",
       "3. 'Madison'\n",
       "\n",
       "\n",
       "\n",
       "\n",
       "\n"
      ],
      "text/plain": [
       "[[1]]\n",
       "[1] \"ID 1\" \"ID 2\" \"ID 3\"\n",
       "\n",
       "[[2]]\n",
       "[1] \"Seoul\"   \"Tokyo\"   \"Madison\"\n"
      ]
     },
     "metadata": {},
     "output_type": "display_data"
    }
   ],
   "source": [
    "length(m)\n",
    "dim(m)\n",
    "dimnames(m) # 변수 이름"
   ]
  },
  {
   "cell_type": "markdown",
   "metadata": {},
   "source": [
    "< 연산 > \n",
    "- diag() : 대각원소 (괄호안에 벡터들어가면 그렇게 대각선에 입력)\n",
    "- solve() : 역행렬\n",
    "- solve(A, B) : 방정식의 근 구하기\n",
    "- %*% : 행렬곱\n",
    "- eigen() : 고유값, 고유벡터"
   ]
  },
  {
   "cell_type": "code",
   "execution_count": 123,
   "metadata": {},
   "outputs": [
    {
     "data": {
      "text/html": [
       "<ol class=list-inline>\n",
       "\t<li>4</li>\n",
       "\t<li>3</li>\n",
       "</ol>\n"
      ],
      "text/latex": [
       "\\begin{enumerate*}\n",
       "\\item 4\n",
       "\\item 3\n",
       "\\end{enumerate*}\n"
      ],
      "text/markdown": [
       "1. 4\n",
       "2. 3\n",
       "\n",
       "\n"
      ],
      "text/plain": [
       "[1] 4 3"
      ]
     },
     "metadata": {},
     "output_type": "display_data"
    },
    {
     "data": {
      "text/html": [
       "<table>\n",
       "<tbody>\n",
       "\t<tr><td>4</td></tr>\n",
       "\t<tr><td>3</td></tr>\n",
       "</tbody>\n",
       "</table>\n"
      ],
      "text/latex": [
       "\\begin{tabular}{l}\n",
       "\t 4\\\\\n",
       "\t 3\\\\\n",
       "\\end{tabular}\n"
      ],
      "text/markdown": [
       "\n",
       "| 4 |\n",
       "| 3 |\n",
       "\n"
      ],
      "text/plain": [
       "     [,1]\n",
       "[1,] 4   \n",
       "[2,] 3   "
      ]
     },
     "metadata": {},
     "output_type": "display_data"
    }
   ],
   "source": [
    "# 방정식 풀기\n",
    "a = matrix(c(1,2,1,-1), 2, 2, byrow=T)\n",
    "b = c(10, 1)\n",
    "solve(a, b) # 방정식풀기\n",
    "solve(a) %*% b # 이것도 가능"
   ]
  },
  {
   "cell_type": "code",
   "execution_count": 127,
   "metadata": {},
   "outputs": [
    {
     "data": {
      "text/html": [
       "<dl class=dl-horizontal>\n",
       "\t<dt>(Intercept)</dt>\n",
       "\t\t<dd>10.0458077619922</dd>\n",
       "\t<dt>x</dt>\n",
       "\t\t<dd>1.13390041039687</dd>\n",
       "</dl>\n"
      ],
      "text/latex": [
       "\\begin{description*}\n",
       "\\item[(Intercept)] 10.0458077619922\n",
       "\\item[x] 1.13390041039687\n",
       "\\end{description*}\n"
      ],
      "text/markdown": [
       "(Intercept)\n",
       ":   10.0458077619922x\n",
       ":   1.13390041039687\n",
       "\n"
      ],
      "text/plain": [
       "(Intercept)           x \n",
       "   10.04581     1.13390 "
      ]
     },
     "metadata": {},
     "output_type": "display_data"
    },
    {
     "data": {
      "text/html": [
       "<table>\n",
       "<tbody>\n",
       "\t<tr><th scope=row></th><td>10.04581</td></tr>\n",
       "\t<tr><th scope=row>x</th><td> 1.13390</td></tr>\n",
       "</tbody>\n",
       "</table>\n"
      ],
      "text/latex": [
       "\\begin{tabular}{r|l}\n",
       "\t & 10.04581\\\\\n",
       "\tx &  1.13390\\\\\n",
       "\\end{tabular}\n"
      ],
      "text/markdown": [
       "\n",
       "|  | 10.04581 |\n",
       "| x |  1.13390 |\n",
       "\n"
      ],
      "text/plain": [
       "  [,1]    \n",
       "  10.04581\n",
       "x  1.13390"
      ]
     },
     "metadata": {},
     "output_type": "display_data"
    }
   ],
   "source": [
    "# 회귀분석 응용(회귀계수 출력)\n",
    "n = 50\n",
    "x = rnorm(n)\n",
    "y = 10 + x + rnorm(n)\n",
    "lm(y~x)$coef\n",
    "\n",
    "X = cbind(1, x) # x와 y벡터 세로결합\n",
    "solve(t(X)%*% X) %*% t(X) %*% y # 정규방정식"
   ]
  },
  {
   "cell_type": "markdown",
   "metadata": {},
   "source": [
    "------\n",
    "\n",
    "### 4) 배열(array)\n",
    "다차원 벡터 모임      \n",
    "  \n",
    "  \n",
    "< 생성 > \n",
    "- array() 함수로 직접 생성, dim 은 벡터로 array 크기 지정\n",
    "> 선택 : [ 행, 열, 차원순서 ]\n",
    "- dim() : 따로지정할수도 있음"
   ]
  },
  {
   "cell_type": "code",
   "execution_count": 133,
   "metadata": {},
   "outputs": [
    {
     "data": {
      "text/html": [
       "<table>\n",
       "<tbody>\n",
       "\t<tr><td>1</td><td>3</td><td>5</td></tr>\n",
       "\t<tr><td>2</td><td>4</td><td>6</td></tr>\n",
       "</tbody>\n",
       "</table>\n"
      ],
      "text/latex": [
       "\\begin{tabular}{lll}\n",
       "\t 1 & 3 & 5\\\\\n",
       "\t 2 & 4 & 6\\\\\n",
       "\\end{tabular}\n"
      ],
      "text/markdown": [
       "\n",
       "| 1 | 3 | 5 |\n",
       "| 2 | 4 | 6 |\n",
       "\n"
      ],
      "text/plain": [
       "     [,1] [,2] [,3]\n",
       "[1,] 1    3    5   \n",
       "[2,] 2    4    6   "
      ]
     },
     "metadata": {},
     "output_type": "display_data"
    }
   ],
   "source": [
    "array(1:6, dim = c(2,3)) # 차원 벡터 지정"
   ]
  },
  {
   "cell_type": "markdown",
   "metadata": {},
   "source": [
    "< 연산 >\n",
    "- %*% : 행렬의 곱이 아님. 두 배열 곱의 합!! (곱셈한거 더한거)\n",
    "\n",
    "---\n",
    "### 5) 리스트\n",
    "다른 자료형, 모든 열이나 요소의 크기가 일정하지 않아도 됨\n",
    "     \n",
    "< 생성 >\n",
    "- list() \n",
    "> 변수 이름 지정하면 $로 접근 가능!"
   ]
  },
  {
   "cell_type": "code",
   "execution_count": 137,
   "metadata": {},
   "outputs": [
    {
     "data": {
      "text/html": [
       "3"
      ],
      "text/latex": [
       "3"
      ],
      "text/markdown": [
       "3"
      ],
      "text/plain": [
       "[1] 3"
      ]
     },
     "metadata": {},
     "output_type": "display_data"
    },
    {
     "data": {
      "text/html": [
       "<dl>\n",
       "\t<dt>$vec1</dt>\n",
       "\t\t<dd><ol class=list-inline>\n",
       "\t<li>1</li>\n",
       "\t<li>2</li>\n",
       "\t<li>3</li>\n",
       "\t<li>4</li>\n",
       "\t<li>5</li>\n",
       "\t<li>6</li>\n",
       "\t<li>7</li>\n",
       "\t<li>8</li>\n",
       "\t<li>9</li>\n",
       "\t<li>10</li>\n",
       "</ol>\n",
       "</dd>\n",
       "\t<dt>$vec2</dt>\n",
       "\t\t<dd><ol class=list-inline>\n",
       "\t<li>2</li>\n",
       "\t<li>3</li>\n",
       "\t<li>4</li>\n",
       "\t<li>5</li>\n",
       "\t<li>6</li>\n",
       "\t<li>7</li>\n",
       "\t<li>8</li>\n",
       "\t<li>9</li>\n",
       "\t<li>10</li>\n",
       "</ol>\n",
       "</dd>\n",
       "\t<dt>$d</dt>\n",
       "\t\t<dd>'example'</dd>\n",
       "</dl>\n"
      ],
      "text/latex": [
       "\\begin{description}\n",
       "\\item[\\$vec1] \\begin{enumerate*}\n",
       "\\item 1\n",
       "\\item 2\n",
       "\\item 3\n",
       "\\item 4\n",
       "\\item 5\n",
       "\\item 6\n",
       "\\item 7\n",
       "\\item 8\n",
       "\\item 9\n",
       "\\item 10\n",
       "\\end{enumerate*}\n",
       "\n",
       "\\item[\\$vec2] \\begin{enumerate*}\n",
       "\\item 2\n",
       "\\item 3\n",
       "\\item 4\n",
       "\\item 5\n",
       "\\item 6\n",
       "\\item 7\n",
       "\\item 8\n",
       "\\item 9\n",
       "\\item 10\n",
       "\\end{enumerate*}\n",
       "\n",
       "\\item[\\$d] 'example'\n",
       "\\end{description}\n"
      ],
      "text/markdown": [
       "$vec1\n",
       ":   1. 1\n",
       "2. 2\n",
       "3. 3\n",
       "4. 4\n",
       "5. 5\n",
       "6. 6\n",
       "7. 7\n",
       "8. 8\n",
       "9. 9\n",
       "10. 10\n",
       "\n",
       "\n",
       "\n",
       "$vec2\n",
       ":   1. 2\n",
       "2. 3\n",
       "3. 4\n",
       "4. 5\n",
       "5. 6\n",
       "6. 7\n",
       "7. 8\n",
       "8. 9\n",
       "9. 10\n",
       "\n",
       "\n",
       "\n",
       "$d\n",
       ":   'example'\n",
       "\n",
       "\n"
      ],
      "text/plain": [
       "$vec1\n",
       " [1]  1  2  3  4  5  6  7  8  9 10\n",
       "\n",
       "$vec2\n",
       "[1]  2  3  4  5  6  7  8  9 10\n",
       "\n",
       "$d\n",
       "[1] \"example\"\n"
      ]
     },
     "metadata": {},
     "output_type": "display_data"
    },
    {
     "data": {
      "text/html": [
       "<ol class=list-inline>\n",
       "\t<li>1</li>\n",
       "\t<li>2</li>\n",
       "\t<li>3</li>\n",
       "\t<li>4</li>\n",
       "\t<li>5</li>\n",
       "\t<li>6</li>\n",
       "\t<li>7</li>\n",
       "\t<li>8</li>\n",
       "\t<li>9</li>\n",
       "\t<li>10</li>\n",
       "</ol>\n"
      ],
      "text/latex": [
       "\\begin{enumerate*}\n",
       "\\item 1\n",
       "\\item 2\n",
       "\\item 3\n",
       "\\item 4\n",
       "\\item 5\n",
       "\\item 6\n",
       "\\item 7\n",
       "\\item 8\n",
       "\\item 9\n",
       "\\item 10\n",
       "\\end{enumerate*}\n"
      ],
      "text/markdown": [
       "1. 1\n",
       "2. 2\n",
       "3. 3\n",
       "4. 4\n",
       "5. 5\n",
       "6. 6\n",
       "7. 7\n",
       "8. 8\n",
       "9. 9\n",
       "10. 10\n",
       "\n",
       "\n"
      ],
      "text/plain": [
       " [1]  1  2  3  4  5  6  7  8  9 10"
      ]
     },
     "metadata": {},
     "output_type": "display_data"
    }
   ],
   "source": [
    "k = list(vec1 = 1:10, vec2 = 2:10, d = 'example') # 자료형 일정 X\n",
    "length(k) # 안의 요소 개수 셈. 리스트는 객체 수 셈\n",
    "k\n",
    "k $ vec1 # 접근"
   ]
  },
  {
   "cell_type": "markdown",
   "metadata": {},
   "source": [
    "< 속성 >\n",
    "- length() : 이름 붙은 자료 개수\n",
    "- mode() : 속성(list로 출력됨)\n",
    "- names() : 변수 이름\n",
    "    \n",
    "< 추출 > \n",
    "- [[ ]] : 리스트 내 성분추출\n",
    "- [   ] : 그 안에 특정 원소 추출"
   ]
  },
  {
   "cell_type": "code",
   "execution_count": 139,
   "metadata": {},
   "outputs": [],
   "source": [
    "ex = list( 'top', c(2,4,6), c('T', 'F', 'T'))"
   ]
  },
  {
   "cell_type": "markdown",
   "metadata": {},
   "source": [
    "---\n",
    "### 6) 데이터프레임\n",
    "여러종류의 자료 들어갈 수 있음     \n",
    "     \n",
    "< 생성 >\n",
    "- read.table\n",
    "> row.names : index 이름 지정\n",
    "- data.frame\n",
    "- as.data.frame"
   ]
  },
  {
   "cell_type": "code",
   "execution_count": 1,
   "metadata": {},
   "outputs": [
    {
     "data": {
      "text/html": [
       "<table>\n",
       "<thead><tr><th scope=col>char1</th><th scope=col>num1</th></tr></thead>\n",
       "<tbody>\n",
       "\t<tr><td>A</td><td>1</td></tr>\n",
       "\t<tr><td>A</td><td>1</td></tr>\n",
       "\t<tr><td>B</td><td>2</td></tr>\n",
       "\t<tr><td>B</td><td>2</td></tr>\n",
       "\t<tr><td>C</td><td>3</td></tr>\n",
       "</tbody>\n",
       "</table>\n"
      ],
      "text/latex": [
       "\\begin{tabular}{r|ll}\n",
       " char1 & num1\\\\\n",
       "\\hline\n",
       "\t A & 1\\\\\n",
       "\t A & 1\\\\\n",
       "\t B & 2\\\\\n",
       "\t B & 2\\\\\n",
       "\t C & 3\\\\\n",
       "\\end{tabular}\n"
      ],
      "text/markdown": [
       "\n",
       "| char1 | num1 |\n",
       "|---|---|\n",
       "| A | 1 |\n",
       "| A | 1 |\n",
       "| B | 2 |\n",
       "| B | 2 |\n",
       "| C | 3 |\n",
       "\n"
      ],
      "text/plain": [
       "  char1 num1\n",
       "1 A     1   \n",
       "2 A     1   \n",
       "3 B     2   \n",
       "4 B     2   \n",
       "5 C     3   "
      ]
     },
     "metadata": {},
     "output_type": "display_data"
    }
   ],
   "source": [
    "char1 = rep(LETTERS[1:3], c(2,2,1)) # rep의 반복횟수 벡터로 지정\n",
    "num1 = rep(1:3, c(2,2,1)) \n",
    "test1 = data.frame(char1, num1) # 변수 이름이 칼럼명이 됨\n",
    "test1"
   ]
  },
  {
   "cell_type": "markdown",
   "metadata": {},
   "source": [
    "- str() : 자료형 확인\n",
    "- subset(데이터, 조건) : 조건 지정 집합 추출\n",
    "> - select해서 벡터로 지정하면 그 열만 보여줄 수 있음!!\n",
    "> - NA는 제외하고 출력됨\n",
    "- rnorm() : 정규분포 난수 생성"
   ]
  },
  {
   "cell_type": "code",
   "execution_count": 5,
   "metadata": {},
   "outputs": [
    {
     "name": "stdout",
     "output_type": "stream",
     "text": [
      "'data.frame':\t3 obs. of  3 variables:\n",
      " $ x: int  1 2 3\n",
      " $ y: Factor w/ 3 levels \"a\",\"b\",\"c\": 1 2 3\n",
      " $ z: num  0.855 -0.827 -0.125\n"
     ]
    },
    {
     "data": {
      "text/html": [
       "<ol class=list-inline>\n",
       "\t<li>0.855210388397366</li>\n",
       "\t<li>-0.826744946528298</li>\n",
       "\t<li>-0.124940934304773</li>\n",
       "</ol>\n"
      ],
      "text/latex": [
       "\\begin{enumerate*}\n",
       "\\item 0.855210388397366\n",
       "\\item -0.826744946528298\n",
       "\\item -0.124940934304773\n",
       "\\end{enumerate*}\n"
      ],
      "text/markdown": [
       "1. 0.855210388397366\n",
       "2. -0.826744946528298\n",
       "3. -0.124940934304773\n",
       "\n",
       "\n"
      ],
      "text/plain": [
       "[1]  0.8552104 -0.8267449 -0.1249409"
      ]
     },
     "metadata": {},
     "output_type": "display_data"
    },
    {
     "data": {
      "text/html": [
       "<table>\n",
       "<thead><tr><th scope=col>x</th><th scope=col>y</th><th scope=col>z</th><th scope=col>w</th></tr></thead>\n",
       "<tbody>\n",
       "\t<tr><td>1         </td><td>a         </td><td> 0.8552104</td><td>3         </td></tr>\n",
       "\t<tr><td>2         </td><td>b         </td><td>-0.8267449</td><td>2         </td></tr>\n",
       "</tbody>\n",
       "</table>\n"
      ],
      "text/latex": [
       "\\begin{tabular}{r|llll}\n",
       " x & y & z & w\\\\\n",
       "\\hline\n",
       "\t 1          & a          &  0.8552104 & 3         \\\\\n",
       "\t 2          & b          & -0.8267449 & 2         \\\\\n",
       "\\end{tabular}\n"
      ],
      "text/markdown": [
       "\n",
       "| x | y | z | w |\n",
       "|---|---|---|---|\n",
       "| 1          | a          |  0.8552104 | 3          |\n",
       "| 2          | b          | -0.8267449 | 2          |\n",
       "\n"
      ],
      "text/plain": [
       "  x y z          w\n",
       "1 1 a  0.8552104 3\n",
       "2 2 b -0.8267449 2"
      ]
     },
     "metadata": {},
     "output_type": "display_data"
    }
   ],
   "source": [
    "df = data.frame(x = 1:3, y = c('a', 'b', 'c'), z = rnorm(3))\n",
    "str(df) # data 구조\n",
    "\n",
    "df$z # 열 선택\n",
    "df$w  = 3:1\n",
    "\n",
    "subset(df, x==1|y=='b') # subset : 조건 집합"
   ]
  },
  {
   "cell_type": "code",
   "execution_count": 14,
   "metadata": {},
   "outputs": [
    {
     "data": {
      "text/html": [
       "<ol class=list-inline>\n",
       "\t<li>setosa</li>\n",
       "\t<li>setosa</li>\n",
       "\t<li>setosa</li>\n",
       "\t<li>setosa</li>\n",
       "\t<li>setosa</li>\n",
       "\t<li>setosa</li>\n",
       "</ol>\n",
       "\n",
       "<details>\n",
       "\t<summary style=display:list-item;cursor:pointer>\n",
       "\t\t<strong>Levels</strong>:\n",
       "\t</summary>\n",
       "\t<ol class=list-inline>\n",
       "\t\t<li>'setosa'</li>\n",
       "\t\t<li>'versicolor'</li>\n",
       "\t\t<li>'virginica'</li>\n",
       "\t</ol>\n",
       "</details>"
      ],
      "text/latex": [
       "\\begin{enumerate*}\n",
       "\\item setosa\n",
       "\\item setosa\n",
       "\\item setosa\n",
       "\\item setosa\n",
       "\\item setosa\n",
       "\\item setosa\n",
       "\\end{enumerate*}\n",
       "\n",
       "\\emph{Levels}: \\begin{enumerate*}\n",
       "\\item 'setosa'\n",
       "\\item 'versicolor'\n",
       "\\item 'virginica'\n",
       "\\end{enumerate*}\n"
      ],
      "text/markdown": [
       "1. setosa\n",
       "2. setosa\n",
       "3. setosa\n",
       "4. setosa\n",
       "5. setosa\n",
       "6. setosa\n",
       "\n",
       "\n",
       "\n",
       "**Levels**: 1. 'setosa'\n",
       "2. 'versicolor'\n",
       "3. 'virginica'\n",
       "\n",
       "\n"
      ],
      "text/plain": [
       "[1] setosa setosa setosa setosa setosa setosa\n",
       "Levels: setosa versicolor virginica"
      ]
     },
     "metadata": {},
     "output_type": "display_data"
    },
    {
     "data": {
      "text/html": [
       "<table>\n",
       "<thead><tr><th scope=col>Species</th></tr></thead>\n",
       "<tbody>\n",
       "\t<tr><td>setosa</td></tr>\n",
       "\t<tr><td>setosa</td></tr>\n",
       "\t<tr><td>setosa</td></tr>\n",
       "\t<tr><td>setosa</td></tr>\n",
       "\t<tr><td>setosa</td></tr>\n",
       "\t<tr><td>setosa</td></tr>\n",
       "</tbody>\n",
       "</table>\n"
      ],
      "text/latex": [
       "\\begin{tabular}{r|l}\n",
       " Species\\\\\n",
       "\\hline\n",
       "\t setosa\\\\\n",
       "\t setosa\\\\\n",
       "\t setosa\\\\\n",
       "\t setosa\\\\\n",
       "\t setosa\\\\\n",
       "\t setosa\\\\\n",
       "\\end{tabular}\n"
      ],
      "text/markdown": [
       "\n",
       "| Species |\n",
       "|---|\n",
       "| setosa |\n",
       "| setosa |\n",
       "| setosa |\n",
       "| setosa |\n",
       "| setosa |\n",
       "| setosa |\n",
       "\n"
      ],
      "text/plain": [
       "  Species\n",
       "1 setosa \n",
       "2 setosa \n",
       "3 setosa \n",
       "4 setosa \n",
       "5 setosa \n",
       "6 setosa "
      ]
     },
     "metadata": {},
     "output_type": "display_data"
    },
    {
     "data": {
      "text/html": [
       "<ol class=list-inline>\n",
       "\t<li>setosa</li>\n",
       "\t<li>setosa</li>\n",
       "\t<li>setosa</li>\n",
       "\t<li>setosa</li>\n",
       "\t<li>setosa</li>\n",
       "\t<li>setosa</li>\n",
       "</ol>\n",
       "\n",
       "<details>\n",
       "\t<summary style=display:list-item;cursor:pointer>\n",
       "\t\t<strong>Levels</strong>:\n",
       "\t</summary>\n",
       "\t<ol class=list-inline>\n",
       "\t\t<li>'setosa'</li>\n",
       "\t\t<li>'versicolor'</li>\n",
       "\t\t<li>'virginica'</li>\n",
       "\t</ol>\n",
       "</details>"
      ],
      "text/latex": [
       "\\begin{enumerate*}\n",
       "\\item setosa\n",
       "\\item setosa\n",
       "\\item setosa\n",
       "\\item setosa\n",
       "\\item setosa\n",
       "\\item setosa\n",
       "\\end{enumerate*}\n",
       "\n",
       "\\emph{Levels}: \\begin{enumerate*}\n",
       "\\item 'setosa'\n",
       "\\item 'versicolor'\n",
       "\\item 'virginica'\n",
       "\\end{enumerate*}\n"
      ],
      "text/markdown": [
       "1. setosa\n",
       "2. setosa\n",
       "3. setosa\n",
       "4. setosa\n",
       "5. setosa\n",
       "6. setosa\n",
       "\n",
       "\n",
       "\n",
       "**Levels**: 1. 'setosa'\n",
       "2. 'versicolor'\n",
       "3. 'virginica'\n",
       "\n",
       "\n"
      ],
      "text/plain": [
       "[1] setosa setosa setosa setosa setosa setosa\n",
       "Levels: setosa versicolor virginica"
      ]
     },
     "metadata": {},
     "output_type": "display_data"
    }
   ],
   "source": [
    "data(iris)\n",
    "# 칼럼 선택 방법\n",
    "head(iris$Species)\n",
    "head(iris['Species'])\n",
    "head(iris[, 'Species'])"
   ]
  },
  {
   "cell_type": "code",
   "execution_count": 15,
   "metadata": {},
   "outputs": [
    {
     "data": {
      "text/html": [
       "<table>\n",
       "<thead><tr><th scope=col>Sepal.Length</th><th scope=col>Sepal.Width</th></tr></thead>\n",
       "<tbody>\n",
       "\t<tr><td>5.1</td><td>3.5</td></tr>\n",
       "\t<tr><td>4.9</td><td>3.0</td></tr>\n",
       "\t<tr><td>4.7</td><td>3.2</td></tr>\n",
       "\t<tr><td>4.6</td><td>3.1</td></tr>\n",
       "\t<tr><td>5.0</td><td>3.6</td></tr>\n",
       "\t<tr><td>5.4</td><td>3.9</td></tr>\n",
       "</tbody>\n",
       "</table>\n"
      ],
      "text/latex": [
       "\\begin{tabular}{r|ll}\n",
       " Sepal.Length & Sepal.Width\\\\\n",
       "\\hline\n",
       "\t 5.1 & 3.5\\\\\n",
       "\t 4.9 & 3.0\\\\\n",
       "\t 4.7 & 3.2\\\\\n",
       "\t 4.6 & 3.1\\\\\n",
       "\t 5.0 & 3.6\\\\\n",
       "\t 5.4 & 3.9\\\\\n",
       "\\end{tabular}\n"
      ],
      "text/markdown": [
       "\n",
       "| Sepal.Length | Sepal.Width |\n",
       "|---|---|\n",
       "| 5.1 | 3.5 |\n",
       "| 4.9 | 3.0 |\n",
       "| 4.7 | 3.2 |\n",
       "| 4.6 | 3.1 |\n",
       "| 5.0 | 3.6 |\n",
       "| 5.4 | 3.9 |\n",
       "\n"
      ],
      "text/plain": [
       "  Sepal.Length Sepal.Width\n",
       "1 5.1          3.5        \n",
       "2 4.9          3.0        \n",
       "3 4.7          3.2        \n",
       "4 4.6          3.1        \n",
       "5 5.0          3.6        \n",
       "6 5.4          3.9        "
      ]
     },
     "metadata": {},
     "output_type": "display_data"
    },
    {
     "data": {
      "text/html": [
       "<table>\n",
       "<thead><tr><th scope=col>Sepal.Length</th><th scope=col>Petal.Length</th><th scope=col>Species</th></tr></thead>\n",
       "<tbody>\n",
       "\t<tr><td>5.1   </td><td>1.4   </td><td>setosa</td></tr>\n",
       "\t<tr><td>4.9   </td><td>1.4   </td><td>setosa</td></tr>\n",
       "\t<tr><td>4.7   </td><td>1.3   </td><td>setosa</td></tr>\n",
       "\t<tr><td>4.6   </td><td>1.5   </td><td>setosa</td></tr>\n",
       "\t<tr><td>5.0   </td><td>1.4   </td><td>setosa</td></tr>\n",
       "\t<tr><td>5.4   </td><td>1.7   </td><td>setosa</td></tr>\n",
       "</tbody>\n",
       "</table>\n"
      ],
      "text/latex": [
       "\\begin{tabular}{r|lll}\n",
       " Sepal.Length & Petal.Length & Species\\\\\n",
       "\\hline\n",
       "\t 5.1    & 1.4    & setosa\\\\\n",
       "\t 4.9    & 1.4    & setosa\\\\\n",
       "\t 4.7    & 1.3    & setosa\\\\\n",
       "\t 4.6    & 1.5    & setosa\\\\\n",
       "\t 5.0    & 1.4    & setosa\\\\\n",
       "\t 5.4    & 1.7    & setosa\\\\\n",
       "\\end{tabular}\n"
      ],
      "text/markdown": [
       "\n",
       "| Sepal.Length | Petal.Length | Species |\n",
       "|---|---|---|\n",
       "| 5.1    | 1.4    | setosa |\n",
       "| 4.9    | 1.4    | setosa |\n",
       "| 4.7    | 1.3    | setosa |\n",
       "| 4.6    | 1.5    | setosa |\n",
       "| 5.0    | 1.4    | setosa |\n",
       "| 5.4    | 1.7    | setosa |\n",
       "\n"
      ],
      "text/plain": [
       "  Sepal.Length Petal.Length Species\n",
       "1 5.1          1.4          setosa \n",
       "2 4.9          1.4          setosa \n",
       "3 4.7          1.3          setosa \n",
       "4 4.6          1.5          setosa \n",
       "5 5.0          1.4          setosa \n",
       "6 5.4          1.7          setosa "
      ]
     },
     "metadata": {},
     "output_type": "display_data"
    }
   ],
   "source": [
    "head(iris[, c(1,2)]) # 첫번째, 두번째 칼럼\n",
    "head(iris[, c(1,3,5)]) "
   ]
  },
  {
   "cell_type": "code",
   "execution_count": 18,
   "metadata": {},
   "outputs": [
    {
     "data": {
      "text/html": [
       "<table>\n",
       "<thead><tr><th scope=col>Sepal.Length</th><th scope=col>Sepal.Width</th><th scope=col>Petal.Length</th><th scope=col>Petal.Width</th><th scope=col>Species</th></tr></thead>\n",
       "<tbody>\n",
       "\t<tr><td>5.1   </td><td>3.5   </td><td>1.4   </td><td>0.2   </td><td>setosa</td></tr>\n",
       "\t<tr><td>4.9   </td><td>3.0   </td><td>1.4   </td><td>0.2   </td><td>setosa</td></tr>\n",
       "</tbody>\n",
       "</table>\n"
      ],
      "text/latex": [
       "\\begin{tabular}{r|lllll}\n",
       " Sepal.Length & Sepal.Width & Petal.Length & Petal.Width & Species\\\\\n",
       "\\hline\n",
       "\t 5.1    & 3.5    & 1.4    & 0.2    & setosa\\\\\n",
       "\t 4.9    & 3.0    & 1.4    & 0.2    & setosa\\\\\n",
       "\\end{tabular}\n"
      ],
      "text/markdown": [
       "\n",
       "| Sepal.Length | Sepal.Width | Petal.Length | Petal.Width | Species |\n",
       "|---|---|---|---|---|\n",
       "| 5.1    | 3.5    | 1.4    | 0.2    | setosa |\n",
       "| 4.9    | 3.0    | 1.4    | 0.2    | setosa |\n",
       "\n"
      ],
      "text/plain": [
       "  Sepal.Length Sepal.Width Petal.Length Petal.Width Species\n",
       "1 5.1          3.5         1.4          0.2         setosa \n",
       "2 4.9          3.0         1.4          0.2         setosa "
      ]
     },
     "metadata": {},
     "output_type": "display_data"
    }
   ],
   "source": [
    "# subset\n",
    "ir.1 = subset(iris, Species=='setosa')\n",
    "head(ir.1, 2)"
   ]
  },
  {
   "cell_type": "markdown",
   "metadata": {},
   "source": [
    "----\n",
    "### 7) 요인 (Factor)\n",
    "자료 범주형 인식        \n",
    "< 생성 >    \n",
    "- factor()    \n",
    "> levels, labels, exclude, ordered, nmax 파라미터  \n",
    "> levels 따로 함수로 지정도 가능!\n",
    "- as.factor()"
   ]
  },
  {
   "cell_type": "code",
   "execution_count": 21,
   "metadata": {},
   "outputs": [
    {
     "data": {
      "text/html": [
       "<ol class=list-inline>\n",
       "\t<li>a</li>\n",
       "\t<li>b</li>\n",
       "\t<li>c</li>\n",
       "\t<li>d</li>\n",
       "\t<li>&lt;NA&gt;</li>\n",
       "</ol>\n",
       "\n",
       "<details>\n",
       "\t<summary style=display:list-item;cursor:pointer>\n",
       "\t\t<strong>Levels</strong>:\n",
       "\t</summary>\n",
       "\t<ol class=list-inline>\n",
       "\t\t<li>'a'</li>\n",
       "\t\t<li>'b'</li>\n",
       "\t\t<li>'c'</li>\n",
       "\t\t<li>'d'</li>\n",
       "\t</ol>\n",
       "</details>"
      ],
      "text/latex": [
       "\\begin{enumerate*}\n",
       "\\item a\n",
       "\\item b\n",
       "\\item c\n",
       "\\item d\n",
       "\\item <NA>\n",
       "\\end{enumerate*}\n",
       "\n",
       "\\emph{Levels}: \\begin{enumerate*}\n",
       "\\item 'a'\n",
       "\\item 'b'\n",
       "\\item 'c'\n",
       "\\item 'd'\n",
       "\\end{enumerate*}\n"
      ],
      "text/markdown": [
       "1. a\n",
       "2. b\n",
       "3. c\n",
       "4. d\n",
       "5. &lt;NA&gt;\n",
       "\n",
       "\n",
       "\n",
       "**Levels**: 1. 'a'\n",
       "2. 'b'\n",
       "3. 'c'\n",
       "4. 'd'\n",
       "\n",
       "\n"
      ],
      "text/plain": [
       "[1] a    b    c    d    <NA>\n",
       "Levels: a < b < c < d"
      ]
     },
     "metadata": {},
     "output_type": "display_data"
    }
   ],
   "source": [
    "x = c(1:5)\n",
    "factor(x, levels = c(1,2,3,4), labels = c('a', 'b', 'c', 'd'), ordered=T)\n",
    "\n",
    "# level을 4개만 지정 > 나머지는 NA로 표시됨"
   ]
  },
  {
   "cell_type": "code",
   "execution_count": 34,
   "metadata": {},
   "outputs": [
    {
     "data": {
      "text/html": [
       "<ol class=list-inline>\n",
       "\t<li>1</li>\n",
       "\t<li>0</li>\n",
       "\t<li>0</li>\n",
       "\t<li>1</li>\n",
       "\t<li>0</li>\n",
       "</ol>\n",
       "\n",
       "<details>\n",
       "\t<summary style=display:list-item;cursor:pointer>\n",
       "\t\t<strong>Levels</strong>:\n",
       "\t</summary>\n",
       "\t<ol class=list-inline>\n",
       "\t\t<li>'0'</li>\n",
       "\t\t<li>'1'</li>\n",
       "\t</ol>\n",
       "</details>"
      ],
      "text/latex": [
       "\\begin{enumerate*}\n",
       "\\item 1\n",
       "\\item 0\n",
       "\\item 0\n",
       "\\item 1\n",
       "\\item 0\n",
       "\\end{enumerate*}\n",
       "\n",
       "\\emph{Levels}: \\begin{enumerate*}\n",
       "\\item '0'\n",
       "\\item '1'\n",
       "\\end{enumerate*}\n"
      ],
      "text/markdown": [
       "1. 1\n",
       "2. 0\n",
       "3. 0\n",
       "4. 1\n",
       "5. 0\n",
       "\n",
       "\n",
       "\n",
       "**Levels**: 1. '0'\n",
       "2. '1'\n",
       "\n",
       "\n"
      ],
      "text/plain": [
       "[1] 1 0 0 1 0\n",
       "Levels: 0 1"
      ]
     },
     "metadata": {},
     "output_type": "display_data"
    }
   ],
   "source": [
    "# as.numeric 활용 더미화\n",
    "x = c('M', 'F', 'F', 'M', 'F')\n",
    "y = as.numeric(x=='M') # M이면 1로 바꿈(as.numeric 이용!!!)\n",
    "y = factor(y)\n",
    "y"
   ]
  },
  {
   "cell_type": "code",
   "execution_count": 35,
   "metadata": {},
   "outputs": [
    {
     "data": {
      "text/html": [
       "<ol class=list-inline>\n",
       "\t<li>졸려</li>\n",
       "\t<li>아</li>\n",
       "\t<li>아</li>\n",
       "\t<li>졸려</li>\n",
       "\t<li>아</li>\n",
       "</ol>\n",
       "\n",
       "<details>\n",
       "\t<summary style=display:list-item;cursor:pointer>\n",
       "\t\t<strong>Levels</strong>:\n",
       "\t</summary>\n",
       "\t<ol class=list-inline>\n",
       "\t\t<li>'아'</li>\n",
       "\t\t<li>'졸려'</li>\n",
       "\t</ol>\n",
       "</details>"
      ],
      "text/latex": [
       "\\begin{enumerate*}\n",
       "\\item 졸려\n",
       "\\item 아\n",
       "\\item 아\n",
       "\\item 졸려\n",
       "\\item 아\n",
       "\\end{enumerate*}\n",
       "\n",
       "\\emph{Levels}: \\begin{enumerate*}\n",
       "\\item '아'\n",
       "\\item '졸려'\n",
       "\\end{enumerate*}\n"
      ],
      "text/markdown": [
       "1. 졸려\n",
       "2. 아\n",
       "3. 아\n",
       "4. 졸려\n",
       "5. 아\n",
       "\n",
       "\n",
       "\n",
       "**Levels**: 1. '아'\n",
       "2. '졸려'\n",
       "\n",
       "\n"
      ],
      "text/plain": [
       "[1] 졸려 아   아   졸려 아  \n",
       "Levels: 아 졸려"
      ]
     },
     "metadata": {},
     "output_type": "display_data"
    }
   ],
   "source": [
    "levels(y) = c('아', '졸려')\n",
    "y"
   ]
  },
  {
   "cell_type": "code",
   "execution_count": 37,
   "metadata": {},
   "outputs": [
    {
     "data": {
      "text/html": [
       "<ol class=list-inline>\n",
       "\t<li>FALSE</li>\n",
       "\t<li>TRUE</li>\n",
       "\t<li>TRUE</li>\n",
       "\t<li>FALSE</li>\n",
       "\t<li>TRUE</li>\n",
       "</ol>\n"
      ],
      "text/latex": [
       "\\begin{enumerate*}\n",
       "\\item FALSE\n",
       "\\item TRUE\n",
       "\\item TRUE\n",
       "\\item FALSE\n",
       "\\item TRUE\n",
       "\\end{enumerate*}\n"
      ],
      "text/markdown": [
       "1. FALSE\n",
       "2. TRUE\n",
       "3. TRUE\n",
       "4. FALSE\n",
       "5. TRUE\n",
       "\n",
       "\n"
      ],
      "text/plain": [
       "[1] FALSE  TRUE  TRUE FALSE  TRUE"
      ]
     },
     "metadata": {},
     "output_type": "display_data"
    },
    {
     "data": {
      "text/html": [
       "<ol class=list-inline>\n",
       "\t<li>2</li>\n",
       "\t<li>3</li>\n",
       "\t<li>5</li>\n",
       "</ol>\n"
      ],
      "text/latex": [
       "\\begin{enumerate*}\n",
       "\\item 2\n",
       "\\item 3\n",
       "\\item 5\n",
       "\\end{enumerate*}\n"
      ],
      "text/markdown": [
       "1. 2\n",
       "2. 3\n",
       "3. 5\n",
       "\n",
       "\n"
      ],
      "text/plain": [
       "[1] 2 3 5"
      ]
     },
     "metadata": {},
     "output_type": "display_data"
    },
    {
     "data": {
      "text/html": [
       "<ol class=list-inline>\n",
       "\t<li>TRUE</li>\n",
       "\t<li>TRUE</li>\n",
       "\t<li>TRUE</li>\n",
       "\t<li>FALSE</li>\n",
       "\t<li>TRUE</li>\n",
       "</ol>\n"
      ],
      "text/latex": [
       "\\begin{enumerate*}\n",
       "\\item TRUE\n",
       "\\item TRUE\n",
       "\\item TRUE\n",
       "\\item FALSE\n",
       "\\item TRUE\n",
       "\\end{enumerate*}\n"
      ],
      "text/markdown": [
       "1. TRUE\n",
       "2. TRUE\n",
       "3. TRUE\n",
       "4. FALSE\n",
       "5. TRUE\n",
       "\n",
       "\n"
      ],
      "text/plain": [
       "[1]  TRUE  TRUE  TRUE FALSE  TRUE"
      ]
     },
     "metadata": {},
     "output_type": "display_data"
    }
   ],
   "source": [
    "g = c('M', 'F', 'F', 'M', 'F')\n",
    "dd = c('A', 'B', 'A', 'B', 'A')\n",
    "\n",
    "g == 'F' # 논리연산자\n",
    "which(g=='F') # F인 것만 선택해 위치 변환"
   ]
  },
  {
   "cell_type": "markdown",
   "metadata": {},
   "source": [
    "------\n",
    "### 8) 프로그래밍 기본구조 - 조건문\n",
    "- if~\n",
    "- if(조건) ~ else : { } 같이 사용하기\n",
    "- ifelse(조건, 참일때명령, 거짓일때 명령)\n",
    "- switch : 조건에 이름 붙이고, 그 이름을 호명"
   ]
  },
  {
   "cell_type": "code",
   "execution_count": 39,
   "metadata": {},
   "outputs": [
    {
     "data": {
      "text/html": [
       "3"
      ],
      "text/latex": [
       "3"
      ],
      "text/markdown": [
       "3"
      ],
      "text/plain": [
       "[1] 3"
      ]
     },
     "metadata": {},
     "output_type": "display_data"
    },
    {
     "data": {
      "text/html": [
       "<ol class=list-inline>\n",
       "\t<li>'Korea Univ'</li>\n",
       "\t<li>'Yonsei Univ'</li>\n",
       "\t<li>'Hanyang Univ'</li>\n",
       "</ol>\n"
      ],
      "text/latex": [
       "\\begin{enumerate*}\n",
       "\\item 'Korea Univ'\n",
       "\\item 'Yonsei Univ'\n",
       "\\item 'Hanyang Univ'\n",
       "\\end{enumerate*}\n"
      ],
      "text/markdown": [
       "1. 'Korea Univ'\n",
       "2. 'Yonsei Univ'\n",
       "3. 'Hanyang Univ'\n",
       "\n",
       "\n"
      ],
      "text/plain": [
       "[1] \"Korea Univ\"   \"Yonsei Univ\"  \"Hanyang Univ\""
      ]
     },
     "metadata": {},
     "output_type": "display_data"
    }
   ],
   "source": [
    "x = c(1,2,3)\n",
    "x = factor(x)\n",
    "if(is.factor(x)) length(x)\n",
    "\n",
    "# if, else if, else\n",
    "y = c('Korea', 'Yonsei', 'Hanyang')\n",
    "if (is.factor(y)){\n",
    "    length(y)\n",
    "}else if (is.integer(y)){\n",
    "    sum(y)\n",
    "}else{\n",
    "    paste(y, 'Univ')\n",
    "}"
   ]
  },
  {
   "cell_type": "code",
   "execution_count": 41,
   "metadata": {},
   "outputs": [
    {
     "data": {
      "text/html": [
       "1.66666666666667"
      ],
      "text/latex": [
       "1.66666666666667"
      ],
      "text/markdown": [
       "1.66666666666667"
      ],
      "text/plain": [
       "[1] 1.666667"
      ]
     },
     "metadata": {},
     "output_type": "display_data"
    },
    {
     "data": {
      "text/html": [
       "2.5"
      ],
      "text/latex": [
       "2.5"
      ],
      "text/markdown": [
       "2.5"
      ],
      "text/plain": [
       "[1] 2.5"
      ]
     },
     "metadata": {},
     "output_type": "display_data"
    }
   ],
   "source": [
    "# switch : 변수로 이름 붙이고, 그 이름 부르기\n",
    "\n",
    "x = 1:4\n",
    "type = 'var'\n",
    "switch(type, mean=mean(x), sum=sum(x), var=var(x)) # var 불렀으므로 var(x) 명령 실행\n",
    "\n",
    "switch(1, mean=mean(x), sum=sum(x), var=var(x)) # 첫번째 명령문"
   ]
  },
  {
   "cell_type": "markdown",
   "metadata": {},
   "source": [
    "### - 반복문\n",
    "- for\n",
    "- while : 증가 정의 필요!!\n",
    "- repeat\n",
    "> break과 같이 사용\n",
    "- next"
   ]
  },
  {
   "cell_type": "code",
   "execution_count": 45,
   "metadata": {},
   "outputs": [
    {
     "data": {
      "text/html": [
       "55"
      ],
      "text/latex": [
       "55"
      ],
      "text/markdown": [
       "55"
      ],
      "text/plain": [
       "[1] 55"
      ]
     },
     "metadata": {},
     "output_type": "display_data"
    }
   ],
   "source": [
    "# for문\n",
    "x = 0\n",
    "for (i in 1:10){\n",
    "    x = x+i # 누적합\n",
    "}\n",
    "x\n",
    "\n",
    "# 구구단\n",
    "# for (i in 2:9){\n",
    "#     for (j in 1:9){\n",
    "#         print(paste(i, '*', j, '=', i*j))\n",
    "#     }\n",
    "# }"
   ]
  },
  {
   "cell_type": "code",
   "execution_count": 48,
   "metadata": {},
   "outputs": [
    {
     "name": "stdout",
     "output_type": "stream",
     "text": [
      "[1] 1\n",
      "[1] 2\n",
      "[1] 3\n",
      "[1] 4\n",
      "[1] 5\n"
     ]
    },
    {
     "data": {
      "text/html": [
       "55"
      ],
      "text/latex": [
       "55"
      ],
      "text/markdown": [
       "55"
      ],
      "text/plain": [
       "[1] 55"
      ]
     },
     "metadata": {},
     "output_type": "display_data"
    }
   ],
   "source": [
    "# while\n",
    "x = 1\n",
    "while(x<=5){\n",
    "    print(x)\n",
    "    x = x+1 # 증가문 정의 꼭 필요!!\n",
    "}\n",
    "\n",
    "# 1~10까지 합\n",
    "x = 0  # 초깃값 할당\n",
    "i = 1\n",
    "while(i<=10){\n",
    "    x = x+i\n",
    "    i = i+1\n",
    "}\n",
    "x"
   ]
  },
  {
   "cell_type": "code",
   "execution_count": 50,
   "metadata": {},
   "outputs": [
    {
     "data": {
      "text/html": [
       "55"
      ],
      "text/latex": [
       "55"
      ],
      "text/markdown": [
       "55"
      ],
      "text/plain": [
       "[1] 55"
      ]
     },
     "metadata": {},
     "output_type": "display_data"
    }
   ],
   "source": [
    "# repeat : 따로 break로 제어해야함\n",
    "\n",
    "# 누적합 구하기\n",
    "i = 1\n",
    "x = 0\n",
    "repeat{\n",
    "    if(i>10) break\n",
    "    x = x+i\n",
    "    i = i+1\n",
    "}\n",
    "x"
   ]
  },
  {
   "cell_type": "code",
   "execution_count": 54,
   "metadata": {},
   "outputs": [
    {
     "name": "stdout",
     "output_type": "stream",
     "text": [
      "[1] 8\n",
      "[1] 9\n",
      "[1] 10\n"
     ]
    },
    {
     "data": {
      "text/html": [
       "27"
      ],
      "text/latex": [
       "27"
      ],
      "text/markdown": [
       "27"
      ],
      "text/plain": [
       "[1] 27"
      ]
     },
     "metadata": {},
     "output_type": "display_data"
    }
   ],
   "source": [
    "# next : 조건 벗어나면 그때부터 비로소 if 뒤에 문 출력(반복문 내에서 사용)\n",
    "\n",
    "i = 1\n",
    "x = 0\n",
    "while(i<10){\n",
    "    i = i+1  # 계속 더하기는 해야하므로 이건 if 앞에 와야함!\n",
    "    if (i<8) next\n",
    "    print(i)\n",
    "    x = x+i\n",
    "}\n",
    "x  #  얘네만 누적합"
   ]
  },
  {
   "cell_type": "markdown",
   "metadata": {},
   "source": [
    "----\n",
    "## 3. R 함수 만들기 & R 그래프 \n",
    "### 1) R 함수 만들기\n",
    "- return 없으면 가장 마지막줄 반환. return 뒤의 내용은 실행되지 않음\n",
    "- fix(함수이름) : 별도 창이 열림\n",
    "- is.function() : 함수인지 아닌지 확인\n",
    "- args() : 매개변수 반환\n",
    "- attributes() : 소스코드 반환"
   ]
  },
  {
   "cell_type": "code",
   "execution_count": 56,
   "metadata": {},
   "outputs": [
    {
     "data": {
      "text/html": [
       "10"
      ],
      "text/latex": [
       "10"
      ],
      "text/markdown": [
       "10"
      ],
      "text/plain": [
       "[1] 10"
      ]
     },
     "metadata": {},
     "output_type": "display_data"
    }
   ],
   "source": [
    "u = 1\n",
    "v = 8\n",
    "\n",
    "g  = function(x){\n",
    "    x = x+1\n",
    "    u = u+x\n",
    "    return(u)\n",
    "}\n",
    "g(v)"
   ]
  },
  {
   "cell_type": "code",
   "execution_count": 58,
   "metadata": {},
   "outputs": [
    {
     "name": "stdout",
     "output_type": "stream",
     "text": [
      "[1] 55\n"
     ]
    }
   ],
   "source": [
    "# 매개변수 없는 경우\n",
    "m = function(){\n",
    "    x = seq(1, 10)\n",
    "    print(sum(x))\n",
    "}\n",
    "m()"
   ]
  },
  {
   "cell_type": "code",
   "execution_count": 61,
   "metadata": {},
   "outputs": [
    {
     "name": "stdout",
     "output_type": "stream",
     "text": [
      "[1] 5050\n"
     ]
    }
   ],
   "source": [
    "# 매개변수 있는 경우\n",
    "m2 = function(n){\n",
    "    x = seq(1, n)   # 수열을 먼저 만들어 누적합 구하기\n",
    "    print(sum(x))   # return 없으면 가장 마지막줄 반환\n",
    "}\n",
    "m2(100)"
   ]
  },
  {
   "cell_type": "code",
   "execution_count": 62,
   "metadata": {},
   "outputs": [
    {
     "name": "stdout",
     "output_type": "stream",
     "text": [
      "[1] 5050\n"
     ]
    }
   ],
   "source": [
    "# 매개변수 두개\n",
    "m = function(s, e){\n",
    "    x = seq(s, e)\n",
    "    print(sum(x))\n",
    "}\n",
    "m(1, 100)"
   ]
  },
  {
   "cell_type": "code",
   "execution_count": 65,
   "metadata": {},
   "outputs": [
    {
     "name": "stdout",
     "output_type": "stream",
     "text": [
      "[1] \"이차함수 y=x^2\"\n"
     ]
    },
    {
     "data": {
      "text/html": [
       "100"
      ],
      "text/latex": [
       "100"
      ],
      "text/markdown": [
       "100"
      ],
      "text/plain": [
       "[1] 100"
      ]
     },
     "metadata": {},
     "output_type": "display_data"
    }
   ],
   "source": [
    "q = function(x){\n",
    "    print('이차함수 y=x^2')\n",
    "    y = x^2\n",
    "    return(y)\n",
    "    print('y')\n",
    "}\n",
    "q(10)"
   ]
  },
  {
   "cell_type": "code",
   "execution_count": 67,
   "metadata": {},
   "outputs": [
    {
     "data": {
      "text/html": [
       "4.11557023488867"
      ],
      "text/latex": [
       "4.11557023488867"
      ],
      "text/markdown": [
       "4.11557023488867"
      ],
      "text/plain": [
       "[1] 4.11557"
      ]
     },
     "metadata": {},
     "output_type": "display_data"
    }
   ],
   "source": [
    "d.mean = function(data){\n",
    "    sum(data)/length(data)\n",
    "}\n",
    "\n",
    "data = rnorm(100, 4, 1)\n",
    "d.mean(data)"
   ]
  },
  {
   "cell_type": "code",
   "execution_count": 72,
   "metadata": {},
   "outputs": [],
   "source": [
    "# fix 이용\n",
    "\n",
    "# fix(d.var)\n",
    "# d.var\n",
    "# d.var(1:10)"
   ]
  },
  {
   "cell_type": "markdown",
   "metadata": {},
   "source": [
    "- '% 기호 %' : 사용자 정의 연산자"
   ]
  },
  {
   "cell_type": "code",
   "execution_count": 74,
   "metadata": {},
   "outputs": [
    {
     "data": {
      "text/html": [
       "13"
      ],
      "text/latex": [
       "13"
      ],
      "text/markdown": [
       "13"
      ],
      "text/plain": [
       "[1] 13"
      ]
     },
     "metadata": {},
     "output_type": "display_data"
    }
   ],
   "source": [
    "'%a2b%' = function(a, b) return(a+2*b)\n",
    "3 %a2b% 5"
   ]
  },
  {
   "cell_type": "markdown",
   "metadata": {},
   "source": [
    "### 2) R 그래프\n",
    "#### 1. 막대그래프(barplot)\n",
    "< 기본 막대그림 > \n",
    "\n",
    "   \n",
    "barplot(height, legend = 범례벡터, args.legend = 범례벡터(그래프 아래 이름), col = , main = , xlab = , ylab = )\n",
    "> - height엔 주로 table로 계산된 범주의 빈도 넣음    \n",
    "> - col = 1:6이면 임의 저장된 색 사용"
   ]
  },
  {
   "cell_type": "code",
   "execution_count": 80,
   "metadata": {},
   "outputs": [
    {
     "data": {
      "image/png": "[encoded data removed]",
      "text/plain": [
       "Plot with title \"black,red,green,blue,cyan,magenta,yellow,white\""
      ]
     },
     "metadata": {},
     "output_type": "display_data"
    }
   ],
   "source": [
    "color = c('black', 'red', 'green', 'blue', 'cyan', 'magenta', 'yellow', 'white')\n",
    "par(mar = c(1,1,1,1), mfrow = c(2,1))\n",
    "barplot(rep(1, 8), col = color, main = paste(color, collapse=','))"
   ]
  },
  {
   "cell_type": "code",
   "execution_count": 84,
   "metadata": {},
   "outputs": [
    {
     "data": {
      "image/png": "[encoded data removed]",
      "text/plain": [
       "Plot with title \"제목\""
      ]
     },
     "metadata": {},
     "output_type": "display_data"
    }
   ],
   "source": [
    "library(MASS)\n",
    "data(Cars93)\n",
    "tab = with(Cars93, table(Type))\n",
    "barplot(tab, main='제목', xlab = 'Type', ylab = 'Number of Car', col = 1:6, legend=c('Compact', 'Large', 'Midsize', 'Small', 'Sporty', 'Van'), \n",
    "       names.arg = c('a', 'b', 'c', 'd', 'e', 'f'))"
   ]
  },
  {
   "cell_type": "markdown",
   "metadata": {},
   "source": [
    "< Side형 막대그림 > \n",
    "- baside = TRUE : 각각 값마다 막대를 그림, False면 Stacked 막대그림\n",
    "   \n",
    "**xtabs 사용!!!**    \n",
    "둘다 범주형 변수일 때 빈도수 세기   \n",
    "xtabs(~세로(hue) + 가로(x축))"
   ]
  },
  {
   "cell_type": "code",
   "execution_count": 86,
   "metadata": {},
   "outputs": [
    {
     "data": {
      "text/plain": [
       "         AirBags\n",
       "Type      Driver & Passenger Driver only None\n",
       "  Compact                  2           9    5\n",
       "  Large                    4           7    0\n",
       "  Midsize                  7          11    4\n",
       "  Small                    0           5   16\n",
       "  Sporty                   3           8    3\n",
       "  Van                      0           3    6"
      ]
     },
     "metadata": {},
     "output_type": "display_data"
    }
   ],
   "source": [
    "tab = with(Cars93, xtabs(~Type + AirBags))\n",
    "tab"
   ]
  },
  {
   "cell_type": "code",
   "execution_count": 88,
   "metadata": {},
   "outputs": [
    {
     "data": {
      "image/png": "[encoded data removed]",
      "text/plain": [
       "plot without title"
      ]
     },
     "metadata": {},
     "output_type": "display_data"
    }
   ],
   "source": [
    "barplot(tab, col = rainbow(6), legend = c('a', 'b', 'c', 'd', 'e', 'f'), xlab = 'Airbags', ylab = 'Number of Cars', beside=T)"
   ]
  },
  {
   "cell_type": "markdown",
   "metadata": {},
   "source": [
    "#### 2. 산점도 : plot() 함수\n",
    "plot(type, xlim, ylim, xlab, ylab, lty(선 유형), lwd(선 굵기), main)"
   ]
  },
  {
   "cell_type": "code",
   "execution_count": 92,
   "metadata": {},
   "outputs": [
    {
     "data": {
      "image/png": "[encoded data removed]",
      "text/plain": [
       "plot without title"
      ]
     },
     "metadata": {},
     "output_type": "display_data"
    },
    {
     "data": {
      "image/png": "[encoded data removed]",
      "text/plain": [
       "plot without title"
      ]
     },
     "metadata": {},
     "output_type": "display_data"
    },
    {
     "data": {
      "image/png": "[encoded data removed]",
      "text/plain": [
       "plot without title"
      ]
     },
     "metadata": {},
     "output_type": "display_data"
    }
   ],
   "source": [
    "x = c(4.1, 4.9, 5.3, 4.3, 3.5, 3.0, 3.1, 2.8)\n",
    "plot(x) # 인덱스에 따른 플랏\n",
    "plot(x, type='l') # line plot\n",
    "\n",
    "z = c(4.3, 4.8, 5.1, 4.2, 3.1, 3.2, 3.0, 2.7)\n",
    "lines(z, col='red')  # 앞 plot에 z 라인 추가\n",
    "\n",
    "plot(x-z, type='b')\n",
    "abline(h=0) # 수평선 추가"
   ]
  },
  {
   "cell_type": "markdown",
   "metadata": {},
   "source": [
    "#### 3. 파이차트(pie 함수)\n",
    "pie(x(수치벡터, 부채꼴의 크기), labels, clockwise = FALSE(반시계방향, T면 시계방향), init.angle = (기준각, 디폴트는 3시), col, main)"
   ]
  },
  {
   "cell_type": "code",
   "execution_count": 94,
   "metadata": {},
   "outputs": [
    {
     "name": "stderr",
     "output_type": "stream",
     "text": [
      "Warning message:\n",
      "\"package 'graphics' is not available (for R version 3.6.1)\"Warning message:\n",
      "\"package 'graphics' is a base package, and should not be updated\""
     ]
    }
   ],
   "source": [
    "install.packages('graphics')\n",
    "library(graphics)"
   ]
  },
  {
   "cell_type": "code",
   "execution_count": 96,
   "metadata": {},
   "outputs": [
    {
     "data": {
      "image/png": "[encoded data removed]",
      "text/plain": [
       "Plot with title \"영업실적\""
      ]
     },
     "metadata": {},
     "output_type": "display_data"
    }
   ],
   "source": [
    "x = c(9, 15, 20, 6)  # 수치벡터, 부채꼴의 크기\n",
    "label = c('영업1', '영업2', '영업3', '영업4')\n",
    "pie(x, labels = label, main='영업실적') # 디폴트 시작 3시, 반시계방향"
   ]
  },
  {
   "cell_type": "code",
   "execution_count": 97,
   "metadata": {},
   "outputs": [
    {
     "data": {
      "image/png": "[encoded data removed]",
      "text/plain": [
       "Plot with title \"영업실적\""
      ]
     },
     "metadata": {},
     "output_type": "display_data"
    }
   ],
   "source": [
    "pie(x, labels = label, main='영업실적', init.angle=90) # 수직부터 시작"
   ]
  },
  {
   "cell_type": "code",
   "execution_count": 102,
   "metadata": {},
   "outputs": [
    {
     "data": {
      "image/png": "[encoded data removed]",
      "text/plain": [
       "Plot with title \"부서별 영업실적\""
      ]
     },
     "metadata": {},
     "output_type": "display_data"
    }
   ],
   "source": [
    "x = c(9, 15, 20, 6)  \n",
    "pct= round(x/sum(x)*100)\n",
    "rr = c('영업1', '영업2', '영업3', '영업4')\n",
    "\n",
    "label = paste(rr, pct)\n",
    "label = paste(label, '%', sep=' ') # 공백으로 구분\n",
    "\n",
    "pie(x, init.angle=90, labels=label, col=rainbow(length(x)), main='부서별 영업실적')"
   ]
  },
  {
   "cell_type": "markdown",
   "metadata": {},
   "source": [
    "- terrain.colors(12) : 지구지형색 12개\n",
    "- cm.colors : 핑크, 블루"
   ]
  },
  {
   "cell_type": "code",
   "execution_count": 107,
   "metadata": {},
   "outputs": [
    {
     "data": {
      "image/png": "[encoded data removed]",
      "text/plain": [
       "plot without title"
      ]
     },
     "metadata": {},
     "output_type": "display_data"
    }
   ],
   "source": [
    "pie(rep(1, 12), col = terrain.colors(12), labels = seq(1, 12))"
   ]
  },
  {
   "cell_type": "markdown",
   "metadata": {},
   "source": [
    "< 기타 그래픽 조정 변수 > \n",
    "- 모든 그래프에 적용하고자 할 때는 par함수 이용\n",
    "- pch : symbol\n",
    "- bg : backgroud\n",
    "- cex : 좌표 포인트 크기\n",
    "-----\n",
    "\n",
    "#### 4) 히스토그램\n",
    "hist(x, breaks(계급구간 수(seq로 지정), Sturges, Scott), freq(T면 빈도수, F는 상대도수), probability = freq의 반대)"
   ]
  },
  {
   "cell_type": "code",
   "execution_count": 113,
   "metadata": {},
   "outputs": [
    {
     "data": {
      "image/png": "[encoded data removed]",
      "text/plain": [
       "Plot with title \"Histogram of mag\""
      ]
     },
     "metadata": {},
     "output_type": "display_data"
    }
   ],
   "source": [
    "data(quakes)\n",
    "mag = quakes$mag\n",
    "color = c('red', 'orange', 'yellow', 'green', 'blue', 'navy', 'violet')\n",
    "hist(mag, breaks= seq(4, 6.5, by=0.5), col = color, freq=F) # freq=F : 상대도수"
   ]
  },
  {
   "cell_type": "markdown",
   "metadata": {},
   "source": [
    "#### 5. 간단한 방정식\n",
    "- curve() 함수\n",
    "> - set.seed(123) : 랜덤시드 고정\n",
    "> - add = T : 이전 그림 겹쳐그리기\n",
    "- point() 함수 : curve에 point 추가"
   ]
  },
  {
   "cell_type": "code",
   "execution_count": 117,
   "metadata": {},
   "outputs": [
    {
     "data": {
      "image/png": "[encoded data removed]",
      "text/plain": [
       "Plot with title \"output\""
      ]
     },
     "metadata": {},
     "output_type": "display_data"
    }
   ],
   "source": [
    "x = seq(0, 10, 0.1)\n",
    "y = x^2 * exp(-x/2) + rnorm(length(x),  0, 0.05)\n",
    "plot(x, y, pch=19, cex=0.7, xlab = 'Time', ylab='Signal', main='output')\n",
    "curve(x^2*exp(-x/2), 0, 10, add=T)"
   ]
  },
  {
   "cell_type": "code",
   "execution_count": 118,
   "metadata": {},
   "outputs": [
    {
     "data": {
      "image/png": "[encoded data removed]",
      "text/plain": [
       "plot without title"
      ]
     },
     "metadata": {},
     "output_type": "display_data"
    }
   ],
   "source": [
    "curve(1-x+x^2/2 - x^3/6, 0, 2)\n",
    "x = seq(0, 2, 0.4)\n",
    "y = 1-x+x^2/2 - x^3/6\n",
    "points(x, y)  # curve에 point 추가"
   ]
  },
  {
   "cell_type": "markdown",
   "metadata": {},
   "source": [
    "< 그래프에 수식, 문자, 화살표 등 삽입하기 !! > \n",
    "- text (x좌표, y좌표, '텍스트')\n",
    "- abline(a = y절편, b = 기울기, h = 수평선, v = 수직선)\n",
    "- arrows(x0, y0(시작), x1, y1(끝), length(화살촉 길이), angle(각도), code(모양))"
   ]
  },
  {
   "cell_type": "code",
   "execution_count": 120,
   "metadata": {},
   "outputs": [
    {
     "data": {
      "image/png": "[encoded data removed]",
      "text/plain": [
       "plot without title"
      ]
     },
     "metadata": {},
     "output_type": "display_data"
    }
   ],
   "source": [
    "x = seq(-10, 10, 0.1)\n",
    "y = sin(x)\n",
    "plot(x, y, type='o')\n",
    "text(3, 1, 'Local Max')\n",
    "text(-2.5, -1, 'Local Min')\n",
    "arrows(1, -.1, .1, 0, length=0.1, angle=15)\n",
    "text(1, -.15, '0.0')"
   ]
  },
  {
   "cell_type": "markdown",
   "metadata": {},
   "source": [
    "- expression() : 수식 입력\n",
    "- mtext() : margin에 글자 입력\n",
    "> side(추가위치), text(입력문자), line(문자 그래프와 마진거리))"
   ]
  },
  {
   "cell_type": "code",
   "execution_count": 2,
   "metadata": {},
   "outputs": [
    {
     "data": {
      "image/png": "[encoded data removed]",
      "text/plain": [
       "Plot with title \"paste(\"Convergence to Riemann\", zeta)\""
      ]
     },
     "metadata": {},
     "output_type": "display_data"
    }
   ],
   "source": [
    "par(mar = c(6,6,4,4)) # 여백 크기 조절(아래, 왼쪽, 위, 오른쪽)\n",
    "n = 20\n",
    "v = 1:n\n",
    "v1 = v^(-2)\n",
    "s = cumsum(v1) # 누적합\n",
    "\n",
    "plot(v, s, type='p', pch=16, col = 1, ylim = c(1, 1.7), bty = 'L', xlab = 'v', ylab = expression(sum(1/v^2, v=1, n)), \n",
    "     main = expression(paste('Convergence to Riemann', zeta)))  # bty : 그래프 안 박스타입\n",
    " \n",
    "abline(h = pi^2/6, lty = 2)\n",
    "\n",
    "mtext(side = 4, at = pi^2/6, text = expression(zeta==frac(pi^2, 6)), line=1, las=2)\n",
    "# side : 추가할 위치()\n",
    "# zeta==frac(pi^2, 6) : frac은 나누는 함수. 이건 하나의 수식임\n"
   ]
  },
  {
   "cell_type": "markdown",
   "metadata": {},
   "source": [
    "#### 배열\n",
    "- par(mfrow = c(2,2))\n",
    "- layout(행렬) : 행렬로 지정"
   ]
  },
  {
   "cell_type": "code",
   "execution_count": 126,
   "metadata": {},
   "outputs": [
    {
     "data": {
      "image/png": "[encoded data removed]",
      "text/plain": [
       "Plot with title \"density.default(x = y2)\""
      ]
     },
     "metadata": {},
     "output_type": "display_data"
    }
   ],
   "source": [
    "n = 1000\n",
    "x = 1:n\n",
    "y1 = rnorm(n, 0, 1)\n",
    "y2 = rnorm(n, 0, 2)\n",
    "\n",
    "par(mfrow = c(2,2))\n",
    "plot(y1)\n",
    "boxplot(y1, y2)\n",
    "hist(y1)\n",
    "plot(density(y2))"
   ]
  },
  {
   "cell_type": "code",
   "execution_count": 127,
   "metadata": {},
   "outputs": [
    {
     "data": {
      "image/png": "[encoded data removed]",
      "text/plain": [
       "Plot with title \"y dist\""
      ]
     },
     "metadata": {},
     "output_type": "display_data"
    }
   ],
   "source": [
    "m = matrix(c(1,1,2,3), ncol = 2, byrow=T)\n",
    "layout(m) # layout 행렬로 지정!\n",
    "\n",
    "x = rnorm(100, 10, 2)\n",
    "y = rnorm(100, 5, 2)\n",
    "plot(x, y, main='x, y')\n",
    "boxplot(x, main='x dist')\n",
    "boxplot(y, main='y dist')"
   ]
  },
  {
   "cell_type": "code",
   "execution_count": 128,
   "metadata": {},
   "outputs": [
    {
     "data": {
      "image/png": "[encoded data removed]",
      "text/plain": [
       "plot without title"
      ]
     },
     "metadata": {},
     "output_type": "display_data"
    }
   ],
   "source": [
    "layout(2:1) # 2번째부터 입력!!\n",
    "\n",
    "curve(sin, -pi, 2*pi) # 2번째부터 입력\n",
    "\n",
    "# 그다음 첫번째 입력\n",
    "g = function(x){1/sqrt(2*pi) * exp(-x^2/2)}  # 함수를 이렇게 function으로 지정하기도 하다니!\n",
    "curve(g, -3, 3)\n",
    "\n",
    "abline(h=0, col='red')\n",
    "abline(v=0, col= 'blue')"
   ]
  },
  {
   "cell_type": "markdown",
   "metadata": {},
   "source": [
    "- grid(col='blue') : 그리드 추가"
   ]
  },
  {
   "cell_type": "code",
   "execution_count": 130,
   "metadata": {},
   "outputs": [
    {
     "data": {
      "image/png": "[encoded data removed]",
      "text/plain": [
       "plot without title"
      ]
     },
     "metadata": {},
     "output_type": "display_data"
    }
   ],
   "source": [
    "x = 1:20\n",
    "y = sin(x)*abs(x)\n",
    "plot(x, y, col='red')\n",
    "curve(sin(x)*abs(x), add=T)\n",
    "grid(col='blue')"
   ]
  },
  {
   "cell_type": "markdown",
   "metadata": {},
   "source": [
    "- polygon : 특정영역 칠하기"
   ]
  },
  {
   "cell_type": "code",
   "execution_count": 145,
   "metadata": {},
   "outputs": [
    {
     "data": {
      "image/png": "[encoded data removed]",
      "text/plain": [
       "plot without title"
      ]
     },
     "metadata": {},
     "output_type": "display_data"
    }
   ],
   "source": [
    "plot(dnorm, xlim = c(-3, 3)) # 정규분포 그래프 그리기\n",
    "\n",
    "x = seq(0, 1.5, 0.1) # 여기 x에 따라 구간 달라짐. 0.1보폭 없애면 정수라서 그래프가 매끈하게 안그려짐\n",
    "\n",
    "# polygon(c(0, x, 1.5), c(0, dnorm(x), 0), density=10) # density : 빗금 개수\n",
    "polygon(c(0, x, 1.5), c(0, dnorm(x), 0), density=10) # density : 빗금 개수\n",
    "\n",
    "abline(h=0, col='grey') # 수평선"
   ]
  },
  {
   "cell_type": "markdown",
   "metadata": {},
   "source": [
    "- pmin : 둘중 작은 것"
   ]
  },
  {
   "cell_type": "code",
   "execution_count": 146,
   "metadata": {},
   "outputs": [
    {
     "data": {
      "image/png": "[encoded data removed]",
      "text/plain": [
       "plot without title"
      ]
     },
     "metadata": {},
     "output_type": "display_data"
    }
   ],
   "source": [
    "x = seq(-3, 3, 0.1)\n",
    "plot(x, dnorm(x, 1, 0.5), xlim=c(-3, 3), type='l')\n",
    "curve(dnorm, add=T)\n",
    "y = pmin(dnorm(x, 1, 0.5), dnorm(x, 0, 1))\n",
    "polygon(x, y, col='blue')"
   ]
  },
  {
   "cell_type": "markdown",
   "metadata": {},
   "source": [
    "#### 나무지도"
   ]
  },
  {
   "cell_type": "code",
   "execution_count": 147,
   "metadata": {},
   "outputs": [
    {
     "name": "stdout",
     "output_type": "stream",
     "text": [
      "package 'treemap' successfully unpacked and MD5 sums checked\n",
      "\n",
      "The downloaded binary packages are in\n",
      "\tC:\\Users\\Public\\Documents\\ESTsoft\\CreatorTemp\\RtmpWyUHd8\\downloaded_packages\n"
     ]
    },
    {
     "name": "stderr",
     "output_type": "stream",
     "text": [
      "Warning message:\n",
      "\"package 'treemap' was built under R version 3.6.3\"Registered S3 methods overwritten by 'ggplot2':\n",
      "  method         from \n",
      "  [.quosures     rlang\n",
      "  c.quosures     rlang\n",
      "  print.quosures rlang\n"
     ]
    },
    {
     "name": "stdout",
     "output_type": "stream",
     "text": [
      "'data.frame':\t188 obs. of  5 variables:\n",
      " $ iso3      : chr  \"BMU\" \"NOR\" \"QAT\" \"CHE\" ...\n",
      " $ country   : chr  \"Bermuda\" \"Norway\" \"Qatar\" \"Switzerland\" ...\n",
      " $ continent : Factor w/ 8 levels \"Africa\",\"Antarctica\",..: 5 4 3 4 3 4 6 4 4 5 ...\n",
      " $ population: num  67837 4676305 833285 7604467 559846 ...\n",
      " $ GNI       : int  106140 103630 92200 88120 76270 75990 64540 61610 61310 55200 ...\n"
     ]
    }
   ],
   "source": [
    "install.packages('treemap')\n",
    "library(treemap)\n",
    "data('GNI2014')\n",
    "str(GNI2014)"
   ]
  },
  {
   "cell_type": "code",
   "execution_count": 149,
   "metadata": {},
   "outputs": [
    {
     "data": {
      "image/png": "[encoded data removed]",
      "text/plain": [
       "plot without title"
      ]
     },
     "metadata": {},
     "output_type": "display_data"
    }
   ],
   "source": [
    "treemap(GNI2014, index=c('continent', 'iso3'), vSize='population', vColor='GNI', \n",
    "       type = 'index', bg.labels = 'yellow')"
   ]
  },
  {
   "cell_type": "code",
   "execution_count": 152,
   "metadata": {},
   "outputs": [
    {
     "data": {
      "text/html": [
       "<table>\n",
       "<thead><tr><th></th><th scope=col>iso3</th><th scope=col>country</th><th scope=col>continent</th><th scope=col>population</th><th scope=col>GNI</th><th scope=col>GNI.total</th></tr></thead>\n",
       "<tbody>\n",
       "\t<tr><th scope=row>3</th><td>BMU             </td><td>Bermuda         </td><td>North America   </td><td>  67837         </td><td>106140          </td><td>  7200219180    </td></tr>\n",
       "\t<tr><th scope=row>4</th><td>NOR             </td><td>Norway          </td><td>Europe          </td><td>4676305         </td><td>103630          </td><td>484605487150    </td></tr>\n",
       "\t<tr><th scope=row>5</th><td>QAT             </td><td>Qatar           </td><td>Asia            </td><td> 833285         </td><td> 92200          </td><td> 76828877000    </td></tr>\n",
       "\t<tr><th scope=row>6</th><td>CHE             </td><td>Switzerland     </td><td>Europe          </td><td>7604467         </td><td> 88120          </td><td>670105632040    </td></tr>\n",
       "\t<tr><th scope=row>7</th><td>MAC             </td><td>Macao SAR, China</td><td>Asia            </td><td> 559846         </td><td> 76270          </td><td> 42699454420    </td></tr>\n",
       "\t<tr><th scope=row>8</th><td>LUX             </td><td>Luxembourg      </td><td>Europe          </td><td> 491775         </td><td> 75990          </td><td> 37369982250    </td></tr>\n",
       "</tbody>\n",
       "</table>\n"
      ],
      "text/latex": [
       "\\begin{tabular}{r|llllll}\n",
       "  & iso3 & country & continent & population & GNI & GNI.total\\\\\n",
       "\\hline\n",
       "\t3 & BMU              & Bermuda          & North America    &   67837          & 106140           &   7200219180    \\\\\n",
       "\t4 & NOR              & Norway           & Europe           & 4676305          & 103630           & 484605487150    \\\\\n",
       "\t5 & QAT              & Qatar            & Asia             &  833285          &  92200           &  76828877000    \\\\\n",
       "\t6 & CHE              & Switzerland      & Europe           & 7604467          &  88120           & 670105632040    \\\\\n",
       "\t7 & MAC              & Macao SAR, China & Asia             &  559846          &  76270           &  42699454420    \\\\\n",
       "\t8 & LUX              & Luxembourg       & Europe           &  491775          &  75990           &  37369982250    \\\\\n",
       "\\end{tabular}\n"
      ],
      "text/markdown": [
       "\n",
       "| <!--/--> | iso3 | country | continent | population | GNI | GNI.total |\n",
       "|---|---|---|---|---|---|---|\n",
       "| 3 | BMU              | Bermuda          | North America    |   67837          | 106140           |   7200219180     |\n",
       "| 4 | NOR              | Norway           | Europe           | 4676305          | 103630           | 484605487150     |\n",
       "| 5 | QAT              | Qatar            | Asia             |  833285          |  92200           |  76828877000     |\n",
       "| 6 | CHE              | Switzerland      | Europe           | 7604467          |  88120           | 670105632040     |\n",
       "| 7 | MAC              | Macao SAR, China | Asia             |  559846          |  76270           |  42699454420     |\n",
       "| 8 | LUX              | Luxembourg       | Europe           |  491775          |  75990           |  37369982250     |\n",
       "\n"
      ],
      "text/plain": [
       "  iso3 country          continent     population GNI    GNI.total   \n",
       "3 BMU  Bermuda          North America   67837    106140   7200219180\n",
       "4 NOR  Norway           Europe        4676305    103630 484605487150\n",
       "5 QAT  Qatar            Asia           833285     92200  76828877000\n",
       "6 CHE  Switzerland      Europe        7604467     88120 670105632040\n",
       "7 MAC  Macao SAR, China Asia           559846     76270  42699454420\n",
       "8 LUX  Luxembourg       Europe         491775     75990  37369982250"
      ]
     },
     "metadata": {},
     "output_type": "display_data"
    }
   ],
   "source": [
    "data('GNI2014')\n",
    "GNI2014$GNI.total = GNI2014$population * GNI2014$GNI\n",
    "head(GNI2014)"
   ]
  },
  {
   "cell_type": "code",
   "execution_count": 156,
   "metadata": {},
   "outputs": [
    {
     "data": {
      "text/html": [
       "<table>\n",
       "<thead><tr><th scope=col>Group.1</th><th scope=col>population</th><th scope=col>GNI</th><th scope=col>GNI.total</th></tr></thead>\n",
       "<tbody>\n",
       "\t<tr><td>Africa                 </td><td> 962382035             </td><td> 104830                </td><td>1.961970e+12           </td></tr>\n",
       "\t<tr><td>Asia                   </td><td>4033277009             </td><td> 728150                </td><td>2.516533e+13           </td></tr>\n",
       "\t<tr><td>Europe                 </td><td> 728669949             </td><td>1211610                </td><td>2.099551e+13           </td></tr>\n",
       "\t<tr><td>North America          </td><td> 528748158             </td><td> 404540                </td><td>2.054819e+13           </td></tr>\n",
       "\t<tr><td>Oceania                </td><td>  33949312             </td><td> 153400                </td><td>1.567946e+12           </td></tr>\n",
       "\t<tr><td>Seven seas (open ocean)</td><td>   1768074             </td><td>  30140                </td><td>1.614137e+10           </td></tr>\n",
       "\t<tr><td>South America          </td><td> 394352338             </td><td> 110350                </td><td>4.189948e+12           </td></tr>\n",
       "</tbody>\n",
       "</table>\n"
      ],
      "text/latex": [
       "\\begin{tabular}{r|llll}\n",
       " Group.1 & population & GNI & GNI.total\\\\\n",
       "\\hline\n",
       "\t Africa                  &  962382035              &  104830                 & 1.961970e+12           \\\\\n",
       "\t Asia                    & 4033277009              &  728150                 & 2.516533e+13           \\\\\n",
       "\t Europe                  &  728669949              & 1211610                 & 2.099551e+13           \\\\\n",
       "\t North America           &  528748158              &  404540                 & 2.054819e+13           \\\\\n",
       "\t Oceania                 &   33949312              &  153400                 & 1.567946e+12           \\\\\n",
       "\t Seven seas (open ocean) &    1768074              &   30140                 & 1.614137e+10           \\\\\n",
       "\t South America           &  394352338              &  110350                 & 4.189948e+12           \\\\\n",
       "\\end{tabular}\n"
      ],
      "text/markdown": [
       "\n",
       "| Group.1 | population | GNI | GNI.total |\n",
       "|---|---|---|---|\n",
       "| Africa                  |  962382035              |  104830                 | 1.961970e+12            |\n",
       "| Asia                    | 4033277009              |  728150                 | 2.516533e+13            |\n",
       "| Europe                  |  728669949              | 1211610                 | 2.099551e+13            |\n",
       "| North America           |  528748158              |  404540                 | 2.054819e+13            |\n",
       "| Oceania                 |   33949312              |  153400                 | 1.567946e+12            |\n",
       "| Seven seas (open ocean) |    1768074              |   30140                 | 1.614137e+10            |\n",
       "| South America           |  394352338              |  110350                 | 4.189948e+12            |\n",
       "\n"
      ],
      "text/plain": [
       "  Group.1                 population GNI     GNI.total   \n",
       "1 Africa                   962382035  104830 1.961970e+12\n",
       "2 Asia                    4033277009  728150 2.516533e+13\n",
       "3 Europe                   728669949 1211610 2.099551e+13\n",
       "4 North America            528748158  404540 2.054819e+13\n",
       "5 Oceania                   33949312  153400 1.567946e+12\n",
       "6 Seven seas (open ocean)    1768074   30140 1.614137e+10\n",
       "7 South America            394352338  110350 4.189948e+12"
      ]
     },
     "metadata": {},
     "output_type": "display_data"
    }
   ],
   "source": [
    "GNI2014.a <- aggregate(GNI2014[,4:6], by=list(GNI2014$continent), sum)\n",
    "GNI2014.a"
   ]
  },
  {
   "cell_type": "code",
   "execution_count": 158,
   "metadata": {},
   "outputs": [
    {
     "data": {
      "text/html": [
       "<table>\n",
       "<thead><tr><th scope=col>Group.1</th><th scope=col>population</th><th scope=col>GNI</th><th scope=col>GNI.total</th><th scope=col>GNI.precap</th></tr></thead>\n",
       "<tbody>\n",
       "\t<tr><td>Africa                 </td><td> 962382035             </td><td> 104830                </td><td>1.961970e+12           </td><td> 2038.660              </td></tr>\n",
       "\t<tr><td>Asia                   </td><td>4033277009             </td><td> 728150                </td><td>2.516533e+13           </td><td> 6239.425              </td></tr>\n",
       "\t<tr><td>Europe                 </td><td> 728669949             </td><td>1211610                </td><td>2.099551e+13           </td><td>28813.465              </td></tr>\n",
       "\t<tr><td>North America          </td><td> 528748158             </td><td> 404540                </td><td>2.054819e+13           </td><td>38861.968              </td></tr>\n",
       "\t<tr><td>Oceania                </td><td>  33949312             </td><td> 153400                </td><td>1.567946e+12           </td><td>46184.899              </td></tr>\n",
       "\t<tr><td>Seven seas (open ocean)</td><td>   1768074             </td><td>  30140                </td><td>1.614137e+10           </td><td> 9129.355              </td></tr>\n",
       "\t<tr><td>South America          </td><td> 394352338             </td><td> 110350                </td><td>4.189948e+12           </td><td>10624.885              </td></tr>\n",
       "</tbody>\n",
       "</table>\n"
      ],
      "text/latex": [
       "\\begin{tabular}{r|lllll}\n",
       " Group.1 & population & GNI & GNI.total & GNI.precap\\\\\n",
       "\\hline\n",
       "\t Africa                  &  962382035              &  104830                 & 1.961970e+12            &  2038.660              \\\\\n",
       "\t Asia                    & 4033277009              &  728150                 & 2.516533e+13            &  6239.425              \\\\\n",
       "\t Europe                  &  728669949              & 1211610                 & 2.099551e+13            & 28813.465              \\\\\n",
       "\t North America           &  528748158              &  404540                 & 2.054819e+13            & 38861.968              \\\\\n",
       "\t Oceania                 &   33949312              &  153400                 & 1.567946e+12            & 46184.899              \\\\\n",
       "\t Seven seas (open ocean) &    1768074              &   30140                 & 1.614137e+10            &  9129.355              \\\\\n",
       "\t South America           &  394352338              &  110350                 & 4.189948e+12            & 10624.885              \\\\\n",
       "\\end{tabular}\n"
      ],
      "text/markdown": [
       "\n",
       "| Group.1 | population | GNI | GNI.total | GNI.precap |\n",
       "|---|---|---|---|---|\n",
       "| Africa                  |  962382035              |  104830                 | 1.961970e+12            |  2038.660               |\n",
       "| Asia                    | 4033277009              |  728150                 | 2.516533e+13            |  6239.425               |\n",
       "| Europe                  |  728669949              | 1211610                 | 2.099551e+13            | 28813.465               |\n",
       "| North America           |  528748158              |  404540                 | 2.054819e+13            | 38861.968               |\n",
       "| Oceania                 |   33949312              |  153400                 | 1.567946e+12            | 46184.899               |\n",
       "| Seven seas (open ocean) |    1768074              |   30140                 | 1.614137e+10            |  9129.355               |\n",
       "| South America           |  394352338              |  110350                 | 4.189948e+12            | 10624.885               |\n",
       "\n"
      ],
      "text/plain": [
       "  Group.1                 population GNI     GNI.total    GNI.precap\n",
       "1 Africa                   962382035  104830 1.961970e+12  2038.660 \n",
       "2 Asia                    4033277009  728150 2.516533e+13  6239.425 \n",
       "3 Europe                   728669949 1211610 2.099551e+13 28813.465 \n",
       "4 North America            528748158  404540 2.054819e+13 38861.968 \n",
       "5 Oceania                   33949312  153400 1.567946e+12 46184.899 \n",
       "6 Seven seas (open ocean)    1768074   30140 1.614137e+10  9129.355 \n",
       "7 South America            394352338  110350 4.189948e+12 10624.885 "
      ]
     },
     "metadata": {},
     "output_type": "display_data"
    }
   ],
   "source": [
    "GNI2014.a$GNI.precap = GNI2014.a $ GNI.total / GNI2014.a $ population\n",
    "GNI2014.a"
   ]
  },
  {
   "cell_type": "code",
   "execution_count": 160,
   "metadata": {},
   "outputs": [
    {
     "data": {
      "image/png": "[encoded data removed]",
      "text/plain": [
       "plot without title"
      ]
     },
     "metadata": {},
     "output_type": "display_data"
    }
   ],
   "source": [
    "# continent groupby 한 채로 treemap\n",
    "\n",
    "treemap(GNI2014.a, index=c('Group.1'), vSize='population', vColor = 'GNI.precap', type='value', \n",
    "        bg.labels='yellow')"
   ]
  },
  {
   "cell_type": "markdown",
   "metadata": {},
   "source": [
    "## 4) R 프로그래밍 특강"
   ]
  },
  {
   "cell_type": "code",
   "execution_count": 162,
   "metadata": {},
   "outputs": [
    {
     "data": {
      "text/html": [
       "2"
      ],
      "text/latex": [
       "2"
      ],
      "text/markdown": [
       "2"
      ],
      "text/plain": [
       "[1] 2"
      ]
     },
     "metadata": {},
     "output_type": "display_data"
    },
    {
     "data": {
      "text/html": [
       "1"
      ],
      "text/latex": [
       "1"
      ],
      "text/markdown": [
       "1"
      ],
      "text/plain": [
       "[1] 1"
      ]
     },
     "metadata": {},
     "output_type": "display_data"
    }
   ],
   "source": [
    "# 두 값을 교환하는 예제\n",
    "x = 1; y=2\n",
    "temp = x\n",
    "x = y\n",
    "y = temp\n",
    "x\n",
    "y"
   ]
  },
  {
   "cell_type": "markdown",
   "metadata": {},
   "source": [
    "is.integer(1)는 as.integer() 함수로 변환해 입력한경우 True라고 나옴!"
   ]
  },
  {
   "cell_type": "code",
   "execution_count": 165,
   "metadata": {},
   "outputs": [
    {
     "data": {
      "text/html": [
       "'numeric'"
      ],
      "text/latex": [
       "'numeric'"
      ],
      "text/markdown": [
       "'numeric'"
      ],
      "text/plain": [
       "[1] \"numeric\""
      ]
     },
     "metadata": {},
     "output_type": "display_data"
    },
    {
     "data": {
      "text/html": [
       "'double'"
      ],
      "text/latex": [
       "'double'"
      ],
      "text/markdown": [
       "'double'"
      ],
      "text/plain": [
       "[1] \"double\""
      ]
     },
     "metadata": {},
     "output_type": "display_data"
    },
    {
     "name": "stdout",
     "output_type": "stream",
     "text": [
      " num [1:3] 1 2 3\n"
     ]
    }
   ],
   "source": [
    "x = c(1,2,3)\n",
    "class(x) # 상위레벨 (객체지향 관점)\n",
    "typeof(x)# 하위레벨 (R의 관점)\n",
    "str(x)"
   ]
  },
  {
   "cell_type": "code",
   "execution_count": 167,
   "metadata": {},
   "outputs": [
    {
     "data": {
      "text/html": [
       "5"
      ],
      "text/latex": [
       "5"
      ],
      "text/markdown": [
       "5"
      ],
      "text/plain": [
       "[1] 5"
      ]
     },
     "metadata": {},
     "output_type": "display_data"
    },
    {
     "data": {
      "text/html": [
       "5"
      ],
      "text/latex": [
       "5"
      ],
      "text/markdown": [
       "5"
      ],
      "text/plain": [
       "[1] 5"
      ]
     },
     "metadata": {},
     "output_type": "display_data"
    }
   ],
   "source": [
    "2+3\n",
    "'+'(2,3)   # 이렇게도 연산 가능"
   ]
  },
  {
   "cell_type": "code",
   "execution_count": 169,
   "metadata": {},
   "outputs": [
    {
     "data": {
      "text/html": [
       "<ol class=list-inline>\n",
       "\t<li>5</li>\n",
       "\t<li>12</li>\n",
       "</ol>\n"
      ],
      "text/latex": [
       "\\begin{enumerate*}\n",
       "\\item 5\n",
       "\\item 12\n",
       "\\end{enumerate*}\n"
      ],
      "text/markdown": [
       "1. 5\n",
       "2. 12\n",
       "\n",
       "\n"
      ],
      "text/plain": [
       "[1]  5 12"
      ]
     },
     "metadata": {},
     "output_type": "display_data"
    },
    {
     "data": {
      "text/html": [
       "<ol class=list-inline>\n",
       "\t<li>5</li>\n",
       "\t<li>12</li>\n",
       "</ol>\n"
      ],
      "text/latex": [
       "\\begin{enumerate*}\n",
       "\\item 5\n",
       "\\item 12\n",
       "\\end{enumerate*}\n"
      ],
      "text/markdown": [
       "1. 5\n",
       "2. 12\n",
       "\n",
       "\n"
      ],
      "text/plain": [
       "[1]  5 12"
      ]
     },
     "metadata": {},
     "output_type": "display_data"
    }
   ],
   "source": [
    "# 마지막 원소 제외 모든 원소 추출\n",
    "\n",
    "z = c(5, 12, 13)\n",
    "z[1:(length(z)-1)]\n",
    "\n",
    "z[-length(z)]"
   ]
  },
  {
   "cell_type": "code",
   "execution_count": 170,
   "metadata": {},
   "outputs": [
    {
     "data": {
      "text/html": [
       "<ol class=list-inline>\n",
       "\t<li>0</li>\n",
       "\t<li>1</li>\n",
       "</ol>\n"
      ],
      "text/latex": [
       "\\begin{enumerate*}\n",
       "\\item 0\n",
       "\\item 1\n",
       "\\end{enumerate*}\n"
      ],
      "text/markdown": [
       "1. 0\n",
       "2. 1\n",
       "\n",
       "\n"
      ],
      "text/plain": [
       "[1] 0 1"
      ]
     },
     "metadata": {},
     "output_type": "display_data"
    }
   ],
   "source": [
    "# 연산자 순서\n",
    "\n",
    "i = 2\n",
    "1:i -1 #벡터 각각 원소 뺌"
   ]
  },
  {
   "cell_type": "code",
   "execution_count": 173,
   "metadata": {},
   "outputs": [
    {
     "data": {
      "text/html": [
       "<table>\n",
       "<tbody>\n",
       "\t<tr><td>1 </td><td>4 </td><td>7 </td><td>10</td></tr>\n",
       "\t<tr><td>2 </td><td>5 </td><td>8 </td><td>11</td></tr>\n",
       "\t<tr><td>3 </td><td>6 </td><td>9 </td><td>12</td></tr>\n",
       "</tbody>\n",
       "</table>\n"
      ],
      "text/latex": [
       "\\begin{tabular}{llll}\n",
       "\t 1  & 4  & 7  & 10\\\\\n",
       "\t 2  & 5  & 8  & 11\\\\\n",
       "\t 3  & 6  & 9  & 12\\\\\n",
       "\\end{tabular}\n"
      ],
      "text/markdown": [
       "\n",
       "| 1  | 4  | 7  | 10 |\n",
       "| 2  | 5  | 8  | 11 |\n",
       "| 3  | 6  | 9  | 12 |\n",
       "\n"
      ],
      "text/plain": [
       "     [,1] [,2] [,3] [,4]\n",
       "[1,] 1    4    7    10  \n",
       "[2,] 2    5    8    11  \n",
       "[3,] 3    6    9    12  "
      ]
     },
     "metadata": {},
     "output_type": "display_data"
    },
    {
     "data": {
      "text/html": [
       "<ol class=list-inline>\n",
       "\t<li>22</li>\n",
       "\t<li>26</li>\n",
       "\t<li>30</li>\n",
       "</ol>\n"
      ],
      "text/latex": [
       "\\begin{enumerate*}\n",
       "\\item 22\n",
       "\\item 26\n",
       "\\item 30\n",
       "\\end{enumerate*}\n"
      ],
      "text/markdown": [
       "1. 22\n",
       "2. 26\n",
       "3. 30\n",
       "\n",
       "\n"
      ],
      "text/plain": [
       "[1] 22 26 30"
      ]
     },
     "metadata": {},
     "output_type": "display_data"
    },
    {
     "data": {
      "text/html": [
       "<ol class=list-inline>\n",
       "\t<li>6</li>\n",
       "\t<li>15</li>\n",
       "\t<li>24</li>\n",
       "\t<li>33</li>\n",
       "</ol>\n"
      ],
      "text/latex": [
       "\\begin{enumerate*}\n",
       "\\item 6\n",
       "\\item 15\n",
       "\\item 24\n",
       "\\item 33\n",
       "\\end{enumerate*}\n"
      ],
      "text/markdown": [
       "1. 6\n",
       "2. 15\n",
       "3. 24\n",
       "4. 33\n",
       "\n",
       "\n"
      ],
      "text/plain": [
       "[1]  6 15 24 33"
      ]
     },
     "metadata": {},
     "output_type": "display_data"
    }
   ],
   "source": [
    "# apply : 1은 행단위, 2는 열단위\n",
    "x = array(1:12, c(3,4))\n",
    "x\n",
    "apply(x, 1, sum) # 행단위(가로)\n",
    "apply(x, 2, sum) # 열단위(세로)"
   ]
  },
  {
   "cell_type": "code",
   "execution_count": 174,
   "metadata": {},
   "outputs": [
    {
     "data": {
      "text/html": [
       "15.4"
      ],
      "text/latex": [
       "15.4"
      ],
      "text/markdown": [
       "15.4"
      ],
      "text/plain": [
       "[1] 15.4"
      ]
     },
     "metadata": {},
     "output_type": "display_data"
    }
   ],
   "source": [
    "# with : 데이터 프레임 다양한 함수 적용\n",
    "data(cars)\n",
    "with(cars, mean(speed))"
   ]
  },
  {
   "cell_type": "code",
   "execution_count": 176,
   "metadata": {},
   "outputs": [
    {
     "data": {
      "text/html": [
       "<table>\n",
       "<thead><tr><th></th><th scope=col>Ozone</th><th scope=col>Solar.R</th><th scope=col>Wind</th><th scope=col>Temp</th><th scope=col>Month</th><th scope=col>Day</th></tr></thead>\n",
       "<tbody>\n",
       "\t<tr><th scope=row>1</th><td>41  </td><td>190 </td><td> 7.4</td><td>67  </td><td>5   </td><td>1   </td></tr>\n",
       "\t<tr><th scope=row>2</th><td>36  </td><td>118 </td><td> 8.0</td><td>72  </td><td>5   </td><td>2   </td></tr>\n",
       "\t<tr><th scope=row>3</th><td>12  </td><td>149 </td><td>12.6</td><td>74  </td><td>5   </td><td>3   </td></tr>\n",
       "\t<tr><th scope=row>4</th><td>18  </td><td>313 </td><td>11.5</td><td>62  </td><td>5   </td><td>4   </td></tr>\n",
       "\t<tr><th scope=row>7</th><td>23  </td><td>299 </td><td> 8.6</td><td>65  </td><td>5   </td><td>7   </td></tr>\n",
       "\t<tr><th scope=row>8</th><td>19  </td><td> 99 </td><td>13.8</td><td>59  </td><td>5   </td><td>8   </td></tr>\n",
       "</tbody>\n",
       "</table>\n"
      ],
      "text/latex": [
       "\\begin{tabular}{r|llllll}\n",
       "  & Ozone & Solar.R & Wind & Temp & Month & Day\\\\\n",
       "\\hline\n",
       "\t1 & 41   & 190  &  7.4 & 67   & 5    & 1   \\\\\n",
       "\t2 & 36   & 118  &  8.0 & 72   & 5    & 2   \\\\\n",
       "\t3 & 12   & 149  & 12.6 & 74   & 5    & 3   \\\\\n",
       "\t4 & 18   & 313  & 11.5 & 62   & 5    & 4   \\\\\n",
       "\t7 & 23   & 299  &  8.6 & 65   & 5    & 7   \\\\\n",
       "\t8 & 19   &  99  & 13.8 & 59   & 5    & 8   \\\\\n",
       "\\end{tabular}\n"
      ],
      "text/markdown": [
       "\n",
       "| <!--/--> | Ozone | Solar.R | Wind | Temp | Month | Day |\n",
       "|---|---|---|---|---|---|---|\n",
       "| 1 | 41   | 190  |  7.4 | 67   | 5    | 1    |\n",
       "| 2 | 36   | 118  |  8.0 | 72   | 5    | 2    |\n",
       "| 3 | 12   | 149  | 12.6 | 74   | 5    | 3    |\n",
       "| 4 | 18   | 313  | 11.5 | 62   | 5    | 4    |\n",
       "| 7 | 23   | 299  |  8.6 | 65   | 5    | 7    |\n",
       "| 8 | 19   |  99  | 13.8 | 59   | 5    | 8    |\n",
       "\n"
      ],
      "text/plain": [
       "  Ozone Solar.R Wind Temp Month Day\n",
       "1 41    190      7.4 67   5     1  \n",
       "2 36    118      8.0 72   5     2  \n",
       "3 12    149     12.6 74   5     3  \n",
       "4 18    313     11.5 62   5     4  \n",
       "7 23    299      8.6 65   5     7  \n",
       "8 19     99     13.8 59   5     8  "
      ]
     },
     "metadata": {},
     "output_type": "display_data"
    }
   ],
   "source": [
    "# na.omit : 결측치 제거\n",
    "data(airquality)\n",
    "head(na.omit(airquality))"
   ]
  }
 ],
 "metadata": {
  "kernelspec": {
   "display_name": "R",
   "language": "R",
   "name": "ir"
  },
  "language_info": {
   "codemirror_mode": "r",
   "file_extension": ".r",
   "mimetype": "text/x-r-source",
   "name": "R",
   "pygments_lexer": "r",
   "version": "3.6.1"
  }
 },
 "nbformat": 4,
 "nbformat_minor": 4
}
