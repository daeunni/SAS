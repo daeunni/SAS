{
 "cells": [
  {
   "cell_type": "code",
   "execution_count": 1,
   "metadata": {},
   "outputs": [
    {
     "data": {
      "text/html": [
       "<table>\n",
       "<thead><tr><th scope=col>id</th><th scope=col>name</th></tr></thead>\n",
       "<tbody>\n",
       "\t<tr><td>1</td><td>a</td></tr>\n",
       "\t<tr><td>3</td><td>b</td></tr>\n",
       "\t<tr><td>5</td><td>c</td></tr>\n",
       "\t<tr><td>7</td><td>d</td></tr>\n",
       "\t<tr><td>9</td><td>e</td></tr>\n",
       "</tbody>\n",
       "</table>\n"
      ],
      "text/latex": [
       "\\begin{tabular}{r|ll}\n",
       " id & name\\\\\n",
       "\\hline\n",
       "\t 1 & a\\\\\n",
       "\t 3 & b\\\\\n",
       "\t 5 & c\\\\\n",
       "\t 7 & d\\\\\n",
       "\t 9 & e\\\\\n",
       "\\end{tabular}\n"
      ],
      "text/markdown": [
       "\n",
       "| id | name |\n",
       "|---|---|\n",
       "| 1 | a |\n",
       "| 3 | b |\n",
       "| 5 | c |\n",
       "| 7 | d |\n",
       "| 9 | e |\n",
       "\n"
      ],
      "text/plain": [
       "  id name\n",
       "1 1  a   \n",
       "2 3  b   \n",
       "3 5  c   \n",
       "4 7  d   \n",
       "5 9  e   "
      ]
     },
     "metadata": {},
     "output_type": "display_data"
    }
   ],
   "source": [
    "# 1번 : letters[1:length(x)]\n",
    "\n",
    "x = seq(1, 10, 2)\n",
    "y = letters[1:length(x)]\n",
    "df = data.frame(id=x, name=y)\n",
    "df"
   ]
  },
  {
   "cell_type": "code",
   "execution_count": 2,
   "metadata": {},
   "outputs": [
    {
     "data": {
      "text/html": [
       "<table>\n",
       "<tbody>\n",
       "\t<tr><td> 1</td><td> 2</td><td> 3</td><td> 4</td></tr>\n",
       "\t<tr><td> 5</td><td> 6</td><td> 7</td><td> 8</td></tr>\n",
       "\t<tr><td>11</td><td>12</td><td>13</td><td>14</td></tr>\n",
       "\t<tr><td> 9</td><td>10</td><td>11</td><td>12</td></tr>\n",
       "</tbody>\n",
       "</table>\n"
      ],
      "text/latex": [
       "\\begin{tabular}{llll}\n",
       "\t  1 &  2 &  3 &  4\\\\\n",
       "\t  5 &  6 &  7 &  8\\\\\n",
       "\t 11 & 12 & 13 & 14\\\\\n",
       "\t  9 & 10 & 11 & 12\\\\\n",
       "\\end{tabular}\n"
      ],
      "text/markdown": [
       "\n",
       "|  1 |  2 |  3 |  4 |\n",
       "|  5 |  6 |  7 |  8 |\n",
       "| 11 | 12 | 13 | 14 |\n",
       "|  9 | 10 | 11 | 12 |\n",
       "\n"
      ],
      "text/plain": [
       "     [,1] [,2] [,3] [,4]\n",
       "[1,]  1    2    3    4  \n",
       "[2,]  5    6    7    8  \n",
       "[3,] 11   12   13   14  \n",
       "[4,]  9   10   11   12  "
      ]
     },
     "metadata": {},
     "output_type": "display_data"
    }
   ],
   "source": [
    "# 2번\n",
    "ym = matrix(1:12, ncol=4, byrow=T)\n",
    "rbind(ym[c(1,2),], c(11,12,13,14), ym[3,])"
   ]
  },
  {
   "cell_type": "code",
   "execution_count": 3,
   "metadata": {},
   "outputs": [
    {
     "name": "stderr",
     "output_type": "stream",
     "text": [
      "Warning message:\n",
      "\"packages '3615', '365', '2212', '2110', '21198', '2541', '3100', '579', '8277', '4931', '868', '813', '11197', '5313', '2861', '2280', '3387', '3806', '1058', '4122', '5814', '9111', '3921', '2341', '4767', '746', '1544', '590', '812', '7333', '1144', '18076', '5441', '637', '10735', '2715', '2284', '11860', '931', '2816', '681', '4173', '12237', '1203', '472', '4981', '3559', '1799', '4589', '376', '3624', '6315', '4530', '3378', '5114', '4884', '5348', '4809', '4815', '4091', '4963', '4119', '5107', '4458', '4628', '4669', '3712', '3545', '3694', '5299', '4755', '4751', '4675', '3098', '4254', '4347', '4508', '5149', '4281', '5237', '3601', '4903', '3875', '5087', '4561', '3983', '4660', '4449', '4558', '3635', '4167', '3821', '4188', '4022', '3907', '4701', '4864', '3617', '4468', '4566', '2.1', '1.5', '1.8', '1.9', '1.1', '0.7', '1.1', '0.9', '1.3', '2', '1.9', '0.6', '0.9', '0.7', '0.5', '0.6', '1.6', '2.8', '0.7', '0.9', '1.1', '0.9', '0.6', '2.4', '0.8', '0.6', '0.6', '0.5', '0.7', '1.1', '2.2', '1.4', '1.8', '0.8', '0.8', '1.1', '0.6', '1', '1.3', '2.3', '0.5', '1.7', '2.2', '0.6', '0.6', '1.4', '0.6', '1.4', '0.7', '0.6', '69.05', '69.31', '70.55', '70.66', '71.71', '72.06', '72.48', '70.06', '70.66', '68.54', '73.6', '71.87', '70.14', '70.88', '72.56', '72.58', '70.1', '68.76', '70.39', '70.22', '71.83', '70.63', '72.96', '68.09', '70.69', '70.56', '72.6', '69.03', '71.23', '70.93', '70.32', '70.55', '69.21', '72.78', '70.82', '71.42', '72.13', '70.43', '71.9', '67.96', '72.08', '70.11', '70.9', '72.9', '71.64', '70.08', '71.72', '69.48', '72.48', '70.29', '15.1', '11.3', '7.8', '10.1', '10.3', '6.8', '3.1', '6.2', '10.7', '13.9', '6.2', '5.3', '10.3', '7.1', '2.3', '4.5', '10.6', '13.2', '2.7', '8.5', '3.3', '11.1', '2.3', '12.5', '9.3', '5', '2.9', '11.5', '3.3', '5.2', '9.7', '10.9', '11.1', '1.4', '7.4', '6.4', '4.2', '6.1', '2.4', '11.6', '1.7', '11', '12.2', '4.5', '5.5', '9.5', '4.3', '6.7', '3', '6.9', '41.3', '66.7', '58.1', '39.9', '62.6', '63.9', '56', '54.6', '52.6', '40.6', '61.9', '59.5', '52.6', '52.9', '59', '59.9', '38.5', '42.2', '54.7', '52.3', '58.5', '52.8', '57.6', '41', '48.8', '59.2', '59.3', '65.2', '57.6', '52.5', '55.2', '52.7', '38.5', '50.3', '53.2', '51.6', '60', '50.2', '46.4', '37.8', '53.3', '41.8', '47.4', '67.3', '57.1', '47.8', '63.5', '41.6', '54.5', '62.9', '20', '152', '15', '65', '20', '166', '139', '103', '11', '60', '0', '126', '127', '122', '140', '114', '95', '12', '161', '101', '103', '125', '160', '50', '108', '155', '139', '188', '174', '115', '120', '82', '80', '186', '124', '82', '44', '126', '127', '65', '172', '70', '35', '137', '168', '85', '32', '100', '149', '173', '50708', '566432', '113417', '51945', '156361', '103766', '4862', '1982', '54090', '58073', '6425', '82677', '55748', '36097', '55941', '81787', '39650', '44930', '30920', '9891', '7826', '56817', '79289', '47296', '68995', '145587', '76483', '109889', '9027', '7521', '121412', '47831', '48798', '69273', '40975', '68782', '96184', '44966', '1049', '30225', '75955', '41328', '262134', '82096', '9267', '39780', '66570', '24070', '54464', '97203' are not available (for R version 3.6.1)\""
     ]
    }
   ],
   "source": [
    "# 3번\n",
    "install.packages(state.x77)"
   ]
  },
  {
   "cell_type": "code",
   "execution_count": 12,
   "metadata": {},
   "outputs": [
    {
     "data": {
      "text/html": [
       "<table>\n",
       "<thead><tr><th></th><th scope=col>Population</th><th scope=col>Income</th><th scope=col>Illiteracy</th><th scope=col>Life.Exp</th><th scope=col>Murder</th><th scope=col>HS.Grad</th><th scope=col>Frost</th><th scope=col>Area</th></tr></thead>\n",
       "<tbody>\n",
       "\t<tr><th scope=row>Alabama</th><td> 3615 </td><td>3624  </td><td>2.1   </td><td>69.05 </td><td>15.1  </td><td>41.3  </td><td> 20   </td><td> 50708</td></tr>\n",
       "\t<tr><th scope=row>Alaska</th><td>  365 </td><td>6315  </td><td>1.5   </td><td>69.31 </td><td>11.3  </td><td>66.7  </td><td>152   </td><td>566432</td></tr>\n",
       "\t<tr><th scope=row>Arizona</th><td> 2212 </td><td>4530  </td><td>1.8   </td><td>70.55 </td><td> 7.8  </td><td>58.1  </td><td> 15   </td><td>113417</td></tr>\n",
       "\t<tr><th scope=row>Arkansas</th><td> 2110 </td><td>3378  </td><td>1.9   </td><td>70.66 </td><td>10.1  </td><td>39.9  </td><td> 65   </td><td> 51945</td></tr>\n",
       "\t<tr><th scope=row>California</th><td>21198 </td><td>5114  </td><td>1.1   </td><td>71.71 </td><td>10.3  </td><td>62.6  </td><td> 20   </td><td>156361</td></tr>\n",
       "\t<tr><th scope=row>Colorado</th><td> 2541 </td><td>4884  </td><td>0.7   </td><td>72.06 </td><td> 6.8  </td><td>63.9  </td><td>166   </td><td>103766</td></tr>\n",
       "</tbody>\n",
       "</table>\n"
      ],
      "text/latex": [
       "\\begin{tabular}{r|llllllll}\n",
       "  & Population & Income & Illiteracy & Life.Exp & Murder & HS.Grad & Frost & Area\\\\\n",
       "\\hline\n",
       "\tAlabama &  3615  & 3624   & 2.1    & 69.05  & 15.1   & 41.3   &  20    &  50708\\\\\n",
       "\tAlaska &   365  & 6315   & 1.5    & 69.31  & 11.3   & 66.7   & 152    & 566432\\\\\n",
       "\tArizona &  2212  & 4530   & 1.8    & 70.55  &  7.8   & 58.1   &  15    & 113417\\\\\n",
       "\tArkansas &  2110  & 3378   & 1.9    & 70.66  & 10.1   & 39.9   &  65    &  51945\\\\\n",
       "\tCalifornia & 21198  & 5114   & 1.1    & 71.71  & 10.3   & 62.6   &  20    & 156361\\\\\n",
       "\tColorado &  2541  & 4884   & 0.7    & 72.06  &  6.8   & 63.9   & 166    & 103766\\\\\n",
       "\\end{tabular}\n"
      ],
      "text/markdown": [
       "\n",
       "| <!--/--> | Population | Income | Illiteracy | Life.Exp | Murder | HS.Grad | Frost | Area |\n",
       "|---|---|---|---|---|---|---|---|---|\n",
       "| Alabama |  3615  | 3624   | 2.1    | 69.05  | 15.1   | 41.3   |  20    |  50708 |\n",
       "| Alaska |   365  | 6315   | 1.5    | 69.31  | 11.3   | 66.7   | 152    | 566432 |\n",
       "| Arizona |  2212  | 4530   | 1.8    | 70.55  |  7.8   | 58.1   |  15    | 113417 |\n",
       "| Arkansas |  2110  | 3378   | 1.9    | 70.66  | 10.1   | 39.9   |  65    |  51945 |\n",
       "| California | 21198  | 5114   | 1.1    | 71.71  | 10.3   | 62.6   |  20    | 156361 |\n",
       "| Colorado |  2541  | 4884   | 0.7    | 72.06  |  6.8   | 63.9   | 166    | 103766 |\n",
       "\n"
      ],
      "text/plain": [
       "           Population Income Illiteracy Life.Exp Murder HS.Grad Frost Area  \n",
       "Alabama     3615      3624   2.1        69.05    15.1   41.3     20    50708\n",
       "Alaska       365      6315   1.5        69.31    11.3   66.7    152   566432\n",
       "Arizona     2212      4530   1.8        70.55     7.8   58.1     15   113417\n",
       "Arkansas    2110      3378   1.9        70.66    10.1   39.9     65    51945\n",
       "California 21198      5114   1.1        71.71    10.3   62.6     20   156361\n",
       "Colorado    2541      4884   0.7        72.06     6.8   63.9    166   103766"
      ]
     },
     "metadata": {},
     "output_type": "display_data"
    }
   ],
   "source": [
    "st = data.frame(state.x77)\n",
    "head(st)"
   ]
  },
  {
   "cell_type": "code",
   "execution_count": 5,
   "metadata": {},
   "outputs": [
    {
     "data": {
      "text/html": [
       "<table>\n",
       "<thead><tr><th></th><th scope=col>Population</th><th scope=col>Income</th><th scope=col>Illiteracy</th><th scope=col>Life.Exp</th><th scope=col>Murder</th><th scope=col>HS.Grad</th><th scope=col>Frost</th><th scope=col>Area</th></tr></thead>\n",
       "<tbody>\n",
       "\t<tr><th scope=row>Alaska</th><td> 365  </td><td>6315  </td><td>1.5   </td><td>69.31 </td><td>11.3  </td><td>66.7  </td><td>152   </td><td>566432</td></tr>\n",
       "\t<tr><th scope=row>Colorado</th><td>2541  </td><td>4884  </td><td>0.7   </td><td>72.06 </td><td> 6.8  </td><td>63.9  </td><td>166   </td><td>103766</td></tr>\n",
       "\t<tr><th scope=row>Montana</th><td> 746  </td><td>4347  </td><td>0.6   </td><td>70.56 </td><td> 5.0  </td><td>59.2  </td><td>155   </td><td>145587</td></tr>\n",
       "\t<tr><th scope=row>Nevada</th><td> 590  </td><td>5149  </td><td>0.5   </td><td>69.03 </td><td>11.5  </td><td>65.2  </td><td>188   </td><td>109889</td></tr>\n",
       "\t<tr><th scope=row>New Mexico</th><td>1144  </td><td>3601  </td><td>2.2   </td><td>70.32 </td><td> 9.7  </td><td>55.2  </td><td>120   </td><td>121412</td></tr>\n",
       "</tbody>\n",
       "</table>\n"
      ],
      "text/latex": [
       "\\begin{tabular}{r|llllllll}\n",
       "  & Population & Income & Illiteracy & Life.Exp & Murder & HS.Grad & Frost & Area\\\\\n",
       "\\hline\n",
       "\tAlaska &  365   & 6315   & 1.5    & 69.31  & 11.3   & 66.7   & 152    & 566432\\\\\n",
       "\tColorado & 2541   & 4884   & 0.7    & 72.06  &  6.8   & 63.9   & 166    & 103766\\\\\n",
       "\tMontana &  746   & 4347   & 0.6    & 70.56  &  5.0   & 59.2   & 155    & 145587\\\\\n",
       "\tNevada &  590   & 5149   & 0.5    & 69.03  & 11.5   & 65.2   & 188    & 109889\\\\\n",
       "\tNew Mexico & 1144   & 3601   & 2.2    & 70.32  &  9.7   & 55.2   & 120    & 121412\\\\\n",
       "\\end{tabular}\n"
      ],
      "text/markdown": [
       "\n",
       "| <!--/--> | Population | Income | Illiteracy | Life.Exp | Murder | HS.Grad | Frost | Area |\n",
       "|---|---|---|---|---|---|---|---|---|\n",
       "| Alaska |  365   | 6315   | 1.5    | 69.31  | 11.3   | 66.7   | 152    | 566432 |\n",
       "| Colorado | 2541   | 4884   | 0.7    | 72.06  |  6.8   | 63.9   | 166    | 103766 |\n",
       "| Montana |  746   | 4347   | 0.6    | 70.56  |  5.0   | 59.2   | 155    | 145587 |\n",
       "| Nevada |  590   | 5149   | 0.5    | 69.03  | 11.5   | 65.2   | 188    | 109889 |\n",
       "| New Mexico | 1144   | 3601   | 2.2    | 70.32  |  9.7   | 55.2   | 120    | 121412 |\n",
       "\n"
      ],
      "text/plain": [
       "           Population Income Illiteracy Life.Exp Murder HS.Grad Frost Area  \n",
       "Alaska      365       6315   1.5        69.31    11.3   66.7    152   566432\n",
       "Colorado   2541       4884   0.7        72.06     6.8   63.9    166   103766\n",
       "Montana     746       4347   0.6        70.56     5.0   59.2    155   145587\n",
       "Nevada      590       5149   0.5        69.03    11.5   65.2    188   109889\n",
       "New Mexico 1144       3601   2.2        70.32     9.7   55.2    120   121412"
      ]
     },
     "metadata": {},
     "output_type": "display_data"
    }
   ],
   "source": [
    "# 3-1\n",
    "subset(st, (Area>=100000 & Frost>=120)) "
   ]
  },
  {
   "cell_type": "code",
   "execution_count": 6,
   "metadata": {},
   "outputs": [
    {
     "data": {
      "text/html": [
       "<dl class=dl-horizontal>\n",
       "\t<dt>Population</dt>\n",
       "\t\t<dd>4412.85714285714</dd>\n",
       "\t<dt>Income</dt>\n",
       "\t\t<dd>3683.14285714286</dd>\n",
       "\t<dt>Illiteracy</dt>\n",
       "\t\t<dd>2.28571428571429</dd>\n",
       "\t<dt>Life.Exp</dt>\n",
       "\t\t<dd>69.0885714285714</dd>\n",
       "\t<dt>Murder</dt>\n",
       "\t\t<dd>12.6</dd>\n",
       "\t<dt>HS.Grad</dt>\n",
       "\t\t<dd>43.6428571428571</dd>\n",
       "\t<dt>Frost</dt>\n",
       "\t\t<dd>51.7142857142857</dd>\n",
       "\t<dt>Area</dt>\n",
       "\t\t<dd>87825.4285714286</dd>\n",
       "</dl>\n"
      ],
      "text/latex": [
       "\\begin{description*}\n",
       "\\item[Population] 4412.85714285714\n",
       "\\item[Income] 3683.14285714286\n",
       "\\item[Illiteracy] 2.28571428571429\n",
       "\\item[Life.Exp] 69.0885714285714\n",
       "\\item[Murder] 12.6\n",
       "\\item[HS.Grad] 43.6428571428571\n",
       "\\item[Frost] 51.7142857142857\n",
       "\\item[Area] 87825.4285714286\n",
       "\\end{description*}\n"
      ],
      "text/markdown": [
       "Population\n",
       ":   4412.85714285714Income\n",
       ":   3683.14285714286Illiteracy\n",
       ":   2.28571428571429Life.Exp\n",
       ":   69.0885714285714Murder\n",
       ":   12.6HS.Grad\n",
       ":   43.6428571428571Frost\n",
       ":   51.7142857142857Area\n",
       ":   87825.4285714286\n",
       "\n"
      ],
      "text/plain": [
       "  Population       Income   Illiteracy     Life.Exp       Murder      HS.Grad \n",
       " 4412.857143  3683.142857     2.285714    69.088571    12.600000    43.642857 \n",
       "       Frost         Area \n",
       "   51.714286 87825.428571 "
      ]
     },
     "metadata": {},
     "output_type": "display_data"
    }
   ],
   "source": [
    "# 3-2\n",
    "a = subset(st, Illiteracy>=2.0)\n",
    "apply(a, 2, mean) # 평균수입"
   ]
  },
  {
   "cell_type": "code",
   "execution_count": 14,
   "metadata": {},
   "outputs": [
    {
     "name": "stdout",
     "output_type": "stream",
     "text": [
      "[1] 1\n",
      "[1] 2\n",
      "[1] 4\n",
      "[1] 5\n"
     ]
    }
   ],
   "source": [
    "# 4번\n",
    "\n",
    "for (i in 1:5){\n",
    "    if (i==3) next\n",
    "    print(i)\n",
    "} "
   ]
  },
  {
   "cell_type": "code",
   "execution_count": 8,
   "metadata": {},
   "outputs": [
    {
     "name": "stdout",
     "output_type": "stream",
     "text": [
      "[1] 1 1 1 1 1\n",
      "[1] 2 2 2\n",
      "[1] 3\n",
      "[1] 4\n",
      "[1] 5 5 5\n",
      "[1] 6 6 6 6 6\n"
     ]
    }
   ],
   "source": [
    "# # 5번 \n",
    "x = 1\n",
    "while(x<=6){\n",
    "    if (x==1 | x==6){\n",
    "        print(rep(x, 5))\n",
    "    }else if (x==2 | x==5){\n",
    "        print(rep(x, 3))\n",
    "    }else{\n",
    "        print(rep(x, 1))\n",
    "    }\n",
    "    x = x+1\n",
    "     \n",
    "}"
   ]
  },
  {
   "cell_type": "code",
   "execution_count": 9,
   "metadata": {},
   "outputs": [
    {
     "name": "stdout",
     "output_type": "stream",
     "text": [
      "[1] 5.5\n"
     ]
    }
   ],
   "source": [
    "# 6번 : a$sum1/a$n\n",
    "\n",
    "my_sums = function(a=0, b=5){\n",
    "    data = a:b\n",
    "    sum1 = 0\n",
    "    sum2 = 0\n",
    "    for (i in data){\n",
    "        sum1 = sum1 + i\n",
    "        sum2 = sum2 + i**2\n",
    "    }\n",
    "    list(sum1 = sum1, sum2 = sum2, n = length(data))\n",
    "}\n",
    "\n",
    "a = my_sums(1, 10)\n",
    "mm = a$sum1/a$n\n",
    "print(mm)"
   ]
  },
  {
   "cell_type": "code",
   "execution_count": 10,
   "metadata": {},
   "outputs": [
    {
     "data": {
      "image/png": "[encoded data removed]",
      "text/plain": [
       "plot without title"
      ]
     },
     "metadata": {},
     "output_type": "display_data"
    }
   ],
   "source": [
    "# 7번 : boxplot(formula=total~gender,data=score, col='gray')\n",
    "score = read.csv('C:/Users/이다은/Desktop/교양/data/score.csv')\n",
    "par(mfrow=c(1,2))\n",
    "boxplot(formula=total~gender,data=score, col='gray')"
   ]
  },
  {
   "cell_type": "code",
   "execution_count": null,
   "metadata": {},
   "outputs": [],
   "source": []
  },
  {
   "cell_type": "code",
   "execution_count": null,
   "metadata": {},
   "outputs": [],
   "source": []
  },
  {
   "cell_type": "code",
   "execution_count": null,
   "metadata": {},
   "outputs": [],
   "source": []
  },
  {
   "cell_type": "code",
   "execution_count": null,
   "metadata": {},
   "outputs": [],
   "source": []
  },
  {
   "cell_type": "code",
   "execution_count": null,
   "metadata": {},
   "outputs": [],
   "source": []
  },
  {
   "cell_type": "code",
   "execution_count": null,
   "metadata": {},
   "outputs": [],
   "source": []
  },
  {
   "cell_type": "code",
   "execution_count": null,
   "metadata": {},
   "outputs": [],
   "source": []
  },
  {
   "cell_type": "code",
   "execution_count": null,
   "metadata": {},
   "outputs": [],
   "source": []
  }
 ],
 "metadata": {
  "kernelspec": {
   "display_name": "R",
   "language": "R",
   "name": "ir"
  },
  "language_info": {
   "codemirror_mode": "r",
   "file_extension": ".r",
   "mimetype": "text/x-r-source",
   "name": "R",
   "pygments_lexer": "r",
   "version": "3.6.1"
  }
 },
 "nbformat": 4,
 "nbformat_minor": 4
}
